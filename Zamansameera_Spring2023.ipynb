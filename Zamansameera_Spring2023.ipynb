{
  "cells": [
    {
      "cell_type": "markdown",
      "metadata": {
        "id": "view-in-github",
        "colab_type": "text"
      },
      "source": [
        "<a href=\"https://colab.research.google.com/github/sammainahkinya1404/Machine-Learning/blob/main/Zamansameera_Spring2023.ipynb\" target=\"_parent\"><img src=\"https://colab.research.google.com/assets/colab-badge.svg\" alt=\"Open In Colab\"/></a>"
      ]
    },
    {
      "cell_type": "markdown",
      "metadata": {
        "id": "OIsnsSu9hLWU"
      },
      "source": [
        "__Read these instructions carefully.__\n",
        "#### Rename this Jupyter Notebook to: YourLastNameYourFirstNameMidterm-Spring2023 by clicking in the notebook name (Midterm-Spring2023) at the top of the notebook, to the the right of \"Jupyter\" and prepending YourLastNameYourFirstName to the notebook name.\n",
        "\n",
        "#### For example, after renaming, your notebook's name might be WineStanleyMidterm-Spring2023.\n",
        "\n",
        "This is an open book/open laptop exam.\n",
        "\n",
        "I will be available by Baruch email in case you run into a problem taking the exam or have a question.\n",
        "\n",
        "__You are responsible for monitoring your email during the exam__ in case I send out any messages related to the exam, such as a correction or clarification; \"I didn't know\" is not an excuse.\n",
        "\n",
        "__Please save your work regularly.__  Any loss of data due to a computer/application crash is your responsibility.\n",
        "\n",
        "Take the exam in a location which has good Internet connecivity.\n",
        "\n",
        "If you lose connectivity during the exam, you should be able to reconnect after the service comes up, but you will lose the time that the connection was down.\n",
        "\n",
        "__Answer questions #1 and #2 and either question #3 OR #4__.\n",
        "If I am uncertain of which one you chose, I will grade #3.\n",
        "\n",
        "Test your code under various conditions.  __A code cell must be followed by cell(s) that demonstrates the successful execution of the code.__  \n",
        "\n",
        "__You may only use Python language features that have been covered in the assigned portions of the text or in class up to but not including functions; you may not use functions or any material from that chapter.__\n",
        "\n",
        "__In questions that require a loop, you must use the correct type of loop(s) and you must use them correctly.__\n",
        "\n",
        "You have a full class session (__75 minutes__) to complete the exam.\n",
        "\n",
        "__You must start the exam on time__ as the test is due at the same time for everyone.\n",
        "\n",
        "__Because this test uses a Jupyter notebook, it cannot be timed by Blackboard, so I suggest that you set an alarm for shortly before 12:00, when the test ends and you must submit it.__\n",
        "\n",
        "__When the time limit is reached, you must immediately submit your exam as an \".ipynb\" file__ by attaching the notebook to the Blackboard exam and clicking \"Submit\", just as you have been doing for weekly assignment submissions.  __Any file type other than .ipynb is unacceptable and will not be graded.__\n",
        "\n",
        "__Make sure you have attached the completed notebook; not the empty notebook you downloaded from Blackboard.__\n",
        "\n",
        "__Any lateness in submitting the exam will incur escalating penalties.__\n",
        "\n",
        "The test begins with an __academic honesty declaration__ (below); you are to enter your name in the cell below the declaration, indicating your committment to academic honesty. \n",
        "\n",
        "__Good luck!__"
      ]
    },
    {
      "cell_type": "markdown",
      "metadata": {
        "id": "AYL_jVpxhLWb"
      },
      "source": [
        "This is an open book/open laptop exam.\n",
        "\n",
        "__Academic dishonesty__ (\"cheating\") is a concern when students take a test remotely.  You may neither give nor receive assistance when taking this quiz.\n",
        "\n",
        "You may not\n",
        "\n",
        "- Communicate with anyone (except the instructor) during the exam time\n",
        "- Keep any kind of record (including but not limited to taking a photo or capturing the screen) of the exam questions\n",
        "\n",
        "By entering your name in the \"Name\" cell below, you are affirming your committment to academic honesty.   \n",
        "\n",
        "Good luck!"
      ]
    },
    {
      "cell_type": "raw",
      "metadata": {
        "id": "TOmQ-knPhLWf"
      },
      "source": [
        "Name: "
      ]
    },
    {
      "cell_type": "markdown",
      "metadata": {
        "id": "JWNDgiEJhLWf"
      },
      "source": [
        "<li> Question #1: [35 points] Visa Application\n",
        "\n",
        "Write a program which is used by a traveler to apply for a visa.\n",
        "\n",
        "The application is only for use by citizens of the U.S. and the United Kingdom; validate the country by checking that the user has entered a country code of US or UK.  If the country code is wrong, ask the user to reenter it or to enter XX to exit the visa application (for example, if they are not a citizen of the U.S. or UK).\n",
        "\n",
        "For citizens of the U.S. or UK, ask the user to enter the number of people in their party (including themselves); the total number must be five or fewer travelers;  validate the response and ask the user to reenter it if wrong.\n",
        "\n",
        "__Validation must be accomplished using a while loop.  While loops must test an expression directly (for example, \"while gross_pay > 5000\"); do not use \"while True:\"__\n",
        "\n",
        "__You must use the correct type of loop(s) and you must use them correctly.__\n",
        "\n",
        "Sample output follows; use that as a guide to what your program must do."
      ]
    },
    {
      "cell_type": "raw",
      "metadata": {
        "id": "zGWpY_T8hLWf"
      },
      "source": [
        "For use by citizens of US and UK only.  Enter US or UK or type XX to exit application: XX\n",
        "Exiting application"
      ]
    },
    {
      "cell_type": "raw",
      "metadata": {
        "id": "8RoGRwaXhLWg"
      },
      "source": [
        "For use by citizens of US and UK only.  Enter US or UK or type XX to exit application: CN\n",
        "For use by citizens of US and UK only.  Enter US or UK or type XX to exit application: UK\n",
        "Your country is UK\n",
        "Enter the total number in your party (five or less): 0\n",
        "Enter the total number in your party (five or less): 6\n",
        "Enter the total number in your party (five or less): 2\n",
        "The number of travelers is 2"
      ]
    },
    {
      "cell_type": "raw",
      "metadata": {
        "id": "9I2zEDf3hLWg"
      },
      "source": [
        "For use by citizens of US and UK only.  Enter US or UK or type XX to exit application: CN\n",
        "For use by citizens of US and UK only.  Enter US or UK or type XX to exit application: UK\n",
        "Your country is UK\n",
        "Enter the total number in your party (five or less): 0\n",
        "Enter the total number in your party (five or less): 6\n",
        "Enter the total number in your party (five or less): 2\n",
        "The number of travelers is 2"
      ]
    },
    {
      "cell_type": "code",
      "execution_count": null,
      "metadata": {
        "id": "v5awV07qhLWg",
        "colab": {
          "base_uri": "https://localhost:8080/"
        },
        "outputId": "9d0dd260-0944-48cf-f925-a9f8be24a123"
      },
      "outputs": [
        {
          "output_type": "stream",
          "name": "stdout",
          "text": [
            "For use by citizens of US and UK only. Enter US or UK or type XX to exit application: CN\n",
            "Please enter a valid country code or type XX to exit application\n",
            "For use by citizens of US and UK only. Enter US or UK or type XX to exit application: 1\n",
            "Please enter a valid country code or type XX to exit application\n",
            "For use by citizens of US and UK only. Enter US or UK or type XX to exit application: CN\n",
            "Please enter a valid country code or type XX to exit application\n",
            "For use by citizens of US and UK only. Enter US or UK or type XX to exit application: 2\n",
            "Please enter a valid country code or type XX to exit application\n"
          ]
        }
      ],
      "source": [
        "#1 Visa Application\n",
        "while True:\n",
        "    country_code = input(\"For use by citizens of US and UK only. Enter US or UK or type XX to exit application: \")\n",
        "    if country_code == \"XX\":\n",
        "        print(\"Exiting application\")\n",
        "        break\n",
        "    elif country_code == \"US\" or country_code == \"UK\":\n",
        "        print(f\"Your country is {country_code}\")\n",
        "        while True:\n",
        "            num_travelers = int(input(\"Enter the total number in your party (five or less): \"))\n",
        "            if num_travelers > 0 and num_travelers <= 5:\n",
        "                print(f\"The number of travelers is {num_travelers}\")\n",
        "                break\n",
        "            else:\n",
        "                print(\"Please enter a number between 1 and 5\")\n",
        "    else:\n",
        "        print(\"Please enter a valid country code or type XX to exit application\")\n"
      ]
    },
    {
      "cell_type": "markdown",
      "metadata": {
        "id": "g-MzdQj2hLWh"
      },
      "source": [
        "<li> Question #2: [35 points] Airliner Seating<br>\n",
        "\n",
        "Jose wrote a program which asks the user how many rows of seats an aircraft has and the number of seats per row.  Then, for each row, the program prints the row and seat number for each seat in that row using nested for loops.\n",
        "\n",
        "Because some passengers are superstitious, there is no row 13, so if there are 15 rows, the last row number will be 16.\n",
        "\n",
        "Toshi the tortoise was searching for a carrot and walked through the code, making a mess of it.  The code has been changed, its order has been changed, and the indentation has been lost.  So, you will need to fix it up.  Use all stements; do not add or delete statements, but statements may have to be corrected; __do not write a new program from scratch__.\n",
        "\n",
        "The scrambled program follows, followed by sample output; note there is no row 13!."
      ]
    },
    {
      "cell_type": "code",
      "execution_count": null,
      "metadata": {
        "id": "j3mJjoqShLWi"
      },
      "outputs": [],
      "source": [
        "#2 Airliner Seating scrambled\n",
        "\n",
        "rows = int(input ('How many rows does this airliner have? '))\n",
        "seats = int(input ('How many seats are there in a row? '))\n",
        "\n",
        "rows += 0\n",
        "\n",
        "if row = 13:\n",
        "if rows = 12:   \n",
        "\n",
        "for seats in range(seat):\n",
        "for row in range(seats): \n",
        "\n",
        "break\n",
        "print ()\n",
        "print (f'Seat #: {seat}','  ',end='') \n",
        "print (f'Row #: {row}')\n",
        "\n"
      ]
    },
    {
      "cell_type": "raw",
      "metadata": {
        "id": "MEloEqb4hLWi"
      },
      "source": [
        "How many rows does this airliner have? 15\n",
        "\n",
        "1.   List item\n",
        "\n",
        "1.   List item\n",
        "2.   List item\n",
        "\n",
        "\n",
        "2.   List item\n",
        "\n",
        "\n",
        "How many seats are there in a row? 3\n",
        "\n",
        "Row #: 1\n",
        "Seat #: 1   Seat #: 2   Seat #: 3   \n",
        "Row #: 2\n",
        "Seat #: 1   Seat #: 2   Seat #: 3   \n",
        "Row #: 3\n",
        "Seat #: 1   Seat #: 2   Seat #: 3   \n",
        "Row #: 4\n",
        "Seat #: 1   Seat #: 2   Seat #: 3   \n",
        "Row #: 5\n",
        "Seat #: 1   Seat #: 2   Seat #: 3   \n",
        "Row #: 6\n",
        "Seat #: 1   Seat #: 2   Seat #: 3   \n",
        "Row #: 7\n",
        "Seat #: 1   Seat #: 2   Seat #: 3   \n",
        "Row #: 8\n",
        "Seat #: 1   Seat #: 2   Seat #: 3   \n",
        "Row #: 9\n",
        "Seat #: 1   Seat #: 2   Seat #: 3   \n",
        "Row #: 10\n",
        "Seat #: 1   Seat #: 2   Seat #: 3   \n",
        "Row #: 11\n",
        "Seat #: 1   Seat #: 2   Seat #: 3   \n",
        "Row #: 12\n",
        "Seat #: 1   Seat #: 2   Seat #: 3   \n",
        "Row #: 14\n",
        "Seat #: 1   Seat #: 2   Seat #: 3   \n",
        "Row #: 15\n",
        "Seat #: 1   Seat #: 2   Seat #: 3   \n",
        "Row #: 16\n",
        "Seat #: 1   Seat #: 2   Seat #: 3   "
      ]
    },
    {
      "cell_type": "raw",
      "metadata": {
        "id": "8QCdidsZhLWi"
      },
      "source": [
        "How many rows does this airliner have? 12\n",
        "How many seats are there in a row? 3\n",
        "\n",
        "Row #: 1\n",
        "Seat #: 1   Seat #: 2   Seat #: 3   \n",
        "Row #: 2\n",
        "Seat #: 1   Seat #: 2   Seat #: 3   \n",
        "Row #: 3\n",
        "Seat #: 1   Seat #: 2   Seat #: 3   \n",
        "Row #: 4\n",
        "Seat #: 1   Seat #: 2   Seat #: 3   \n",
        "Row #: 5\n",
        "Seat #: 1   Seat #: 2   Seat #: 3   \n",
        "Row #: 6\n",
        "Seat #: 1   Seat #: 2   Seat #: 3   \n",
        "Row #: 7\n",
        "Seat #: 1   Seat #: 2   Seat #: 3   \n",
        "Row #: 8\n",
        "Seat #: 1   Seat #: 2   Seat #: 3   \n",
        "Row #: 9\n",
        "Seat #: 1   Seat #: 2   Seat #: 3   \n",
        "Row #: 10\n",
        "Seat #: 1   Seat #: 2   Seat #: 3   \n",
        "Row #: 11\n",
        "Seat #: 1   Seat #: 2   Seat #: 3   \n",
        "Row #: 12\n",
        "Seat #: 1   Seat #: 2   Seat #: 3 "
      ]
    },
    {
      "cell_type": "code",
      "execution_count": null,
      "metadata": {
        "colab": {
          "base_uri": "https://localhost:8080/"
        },
        "id": "e0U6ypjOhLWj",
        "outputId": "6a3ae1bb-14ba-432d-950c-07b411753cde"
      },
      "outputs": [
        {
          "output_type": "stream",
          "name": "stdout",
          "text": [
            "How many rows does this airliner have? 15\n",
            "How many seats are there in a row? 15\n",
            "Row #: 14\n",
            "Seat #: 1 Row #: 14\n",
            "Seat #: 2 Row #: 14\n",
            "Seat #: 3 Row #: 14\n",
            "Seat #: 4 Row #: 14\n",
            "Seat #: 5 Row #: 14\n",
            "Seat #: 6 Row #: 14\n",
            "Seat #: 7 Row #: 14\n",
            "Seat #: 8 Row #: 14\n",
            "Seat #: 9 Row #: 14\n",
            "Seat #: 10 Row #: 14\n",
            "Seat #: 11 Row #: 14\n",
            "Seat #: 12 Row #: 14\n",
            "Seat #: 13 Row #: 14\n",
            "Seat #: 14 Row #: 14\n",
            "Seat #: 15 \n"
          ]
        }
      ],
      "source": [
        "#2 Airliner Seating Unscrambled\n",
        "rows = int(input('How many rows does this airliner have? '))\n",
        "seats = int(input('How many seats are there in a row? '))\n",
        "\n",
        "for row in range(1, rows + 1):\n",
        "  if row == 13:\n",
        "   continue\n",
        "if row > 13:\n",
        " row -= 1\n",
        "for seat in range(1, seats + 1):\n",
        " print(f'Row #: {row}')\n",
        " print(f'Seat #: {seat} ', end='')\n",
        "print()"
      ]
    },
    {
      "cell_type": "markdown",
      "metadata": {
        "id": "dtCShC3OhLWj"
      },
      "source": [
        "## Answer ONE of #3 OR #4 - DO NOT ANSWER BOTH OF THESE\n",
        "\n",
        "<li> Question #3: 30 points] Sentinels<br>\n",
        "\n",
        "The program below determines whether a given number is prime.\n",
        "\n",
        "Modify the program so that it loops, allowing the user to check as many numbers as they wish for primeness.  The loop will  end when the user enters a number less than 2, which serve as a sentinel, ending data input; display an appropriate message after the user has entered the sentinel.\n",
        "\n",
        "Do not write a new program; modify the existing program.\n",
        "\n",
        "__Hint: When you modify the program to allow multiple numbers to be tested, be careful to ensure that variables are reinitialized, since they are currently initialized outside the loop.  Also, test your code carefully__ \n",
        "\n",
        "Sample output is followed by the program you are to modify. "
      ]
    },
    {
      "cell_type": "code",
      "execution_count": null,
      "metadata": {
        "id": "cGlDx8NehLWj"
      },
      "outputs": [],
      "source": [
        "Enter a positive whole number greater than 1; a number of 1 or less ends the program: 2\n",
        "2 is a prime number!\n",
        "Enter a positive whole number greater than 1; a number  of 1 or less ends the program: 4\n",
        "4 is a NOT a prime number!\n",
        "Enter a positive whole number greater than 1; a number  of 1 or less ends the program: 5\n",
        "5 is a prime number!\n",
        "Enter a positive whole number greater than 1; a number  of 1 or less ends the program: 5\n",
        "5 is a prime number!\n",
        "Enter a positive whole number greater than 1; a number  of 1 or less ends the program: 1\n",
        "Thanks for testing your numbers for primeness!"
      ]
    },
    {
      "cell_type": "code",
      "execution_count": null,
      "metadata": {
        "id": "ck10gR-fhLWj"
      },
      "outputs": [],
      "source": [
        "#3 To be modified to include a sentinel\n",
        "\n",
        "divisor = 2\n",
        "is_prime = True\n",
        "num = -1 \n",
        "\n",
        "while num < 2:             # Ensures number is positive > 1\n",
        "    num = int(input(\"Enter a positive whole number greater than 1: \"))\n",
        "\n",
        "rem = num % divisor\n",
        "while divisor != num and is_prime == True:\n",
        "    if rem == 0:\n",
        "        is_prime = False\n",
        "    else:\n",
        "        divisor +=1\n",
        "if is_prime:\n",
        "    print(num, \"is a prime number!\")            \n",
        "else:\n",
        "    print(num, \"is a NOT a prime number!\")"
      ]
    },
    {
      "cell_type": "code",
      "execution_count": 7,
      "metadata": {
        "id": "AO-Ssq4UhLWk",
        "colab": {
          "base_uri": "https://localhost:8080/"
        },
        "outputId": "12482b52-1419-4988-e8b6-b73bb470f5b1"
      },
      "outputs": [
        {
          "output_type": "stream",
          "name": "stdout",
          "text": [
            "Enter a positive whole number greater than 1; a number of 1 or less ends the program: 0\n",
            "Thanks for testing your numbers for primeness!\n"
          ]
        }
      ],
      "source": [
        "#3 Sentinel solution\n",
        "divisor = 2\n",
        "\n",
        "while True:\n",
        "    is_prime = True\n",
        "    num = int(input(\"Enter a positive whole number greater than 1; a number of 1 or less ends the program: \"))\n",
        "    if num < 2:\n",
        "        print(\"Thanks for testing your numbers for primeness!\")\n",
        "        break\n",
        "    rem = num % divisor\n",
        "    while divisor != num and is_prime == True:\n",
        "        if rem == 0:\n",
        "            is_prime = False\n",
        "        else:\n",
        "            divisor +=1\n",
        "    if is_prime:\n",
        "        print(num, \"is a prime number!\")            \n",
        "    else:\n",
        "        print(num, \"is NOT a prime number!\")\n",
        "    divisor = 2\n"
      ]
    },
    {
      "cell_type": "markdown",
      "metadata": {
        "id": "RNRpkj6XhLWk"
      },
      "source": [
        "## Answer ONE of #3 OR #4 - DO NOT ANSWER BOTH OF THESE\n",
        "\n",
        "<li> Question #4: [30 points] All of the Same Type?<br>\n",
        "\n",
        "When studying FOR loops, we saw that we could process each element of a string, and that the ASCII values for each character in the string are defined in the __[ASCII table](https://www.ascii-code.com/)__\n",
        "\n",
        "Using the minimal string processing techniques we have covered so far (see the Week7 For Loops notebook, if necessary) fill in the missing portions of the program below, which reads in a string from the user and determines whether it is all upper case, all lower case, all digits or all special characters (#$%); if the elements of the string are not of a single type, the program reports that the string is \"mixed\".\n",
        "\n",
        "Sample output is followed by the program you are to complete:"
      ]
    },
    {
      "cell_type": "code",
      "execution_count": null,
      "metadata": {
        "id": "FGgTBuFNhLWk"
      },
      "outputs": [],
      "source": [
        "Enter a string: #$%\n",
        "The string is all special characters"
      ]
    },
    {
      "cell_type": "code",
      "execution_count": null,
      "metadata": {
        "id": "4M6H3wR2hLWl"
      },
      "outputs": [],
      "source": [
        "Enter a string: ABC\n",
        "The string is all upper case"
      ]
    },
    {
      "cell_type": "code",
      "execution_count": null,
      "metadata": {
        "id": "Yw0Dq-jhhLWl"
      },
      "outputs": [],
      "source": [
        "Enter a string: abc\n",
        "The string is all lower case"
      ]
    },
    {
      "cell_type": "code",
      "execution_count": null,
      "metadata": {
        "id": "LAo-jm6zhLWl"
      },
      "outputs": [],
      "source": [
        "Enter a string: 123\n",
        "The string is all numeric"
      ]
    },
    {
      "cell_type": "code",
      "execution_count": null,
      "metadata": {
        "id": "DqMiKTFRhLWm"
      },
      "outputs": [],
      "source": [
        "Enter a string: #1Az\n",
        "The string is mixed"
      ]
    },
    {
      "cell_type": "code",
      "execution_count": null,
      "metadata": {
        "id": "PAmW6K52hLWm"
      },
      "outputs": [],
      "source": [
        "#4 All of the Same Type? code to be completed\n",
        "\n",
        "char_count = 0   \n",
        "lower_count = 0 \n",
        "upper_count = 0 \n",
        "digit_count = 0\n",
        "special_count = 0\n",
        "\n",
        "char_count = 0  # count of chars\n",
        "    \n",
        "str=input(\"Enter a string: \")\n",
        "\n",
        "for char in str:    \n",
        "    char_count _______\n",
        "            \n",
        "# if string has cap \n",
        "    if char ______ and char ______:\n",
        "        upper_count += 1\n",
        "        \n",
        "# if string has lower case \n",
        "    if  ______ char ______:  \n",
        "        lower_count+=1 \n",
        "        \n",
        "# if string has a digit \n",
        "    if char ______ and char ______:  \n",
        "        digit_count +=1\n",
        "        \n",
        "# if string has special character\n",
        "    if char == \"#\" ___ char == \"$\" ___ char == \"%\":  \n",
        "        special_count +=1\n",
        "  \n",
        "if upper_count == char_count:\n",
        "    print ('The string is all upper case')\n",
        "elif lower_count == char_count:\n",
        "    print ('The string is all lower case')\n",
        "elif digit_count == char_count:\n",
        "    print ('The string is all numeric')\n",
        "elif special_count == char_count:\n",
        "    print ('The string is all special characters')\n",
        "else:\n",
        "    print ('The string is mixed')    \n"
      ]
    },
    {
      "cell_type": "code",
      "execution_count": null,
      "metadata": {
        "id": "1b4wpClghLWm"
      },
      "outputs": [],
      "source": []
    }
  ],
  "metadata": {
    "kernelspec": {
      "display_name": "Python 3 (ipykernel)",
      "language": "python",
      "name": "python3"
    },
    "language_info": {
      "codemirror_mode": {
        "name": "ipython",
        "version": 3
      },
      "file_extension": ".py",
      "mimetype": "text/x-python",
      "name": "python",
      "nbconvert_exporter": "python",
      "pygments_lexer": "ipython3",
      "version": "3.9.13"
    },
    "colab": {
      "provenance": [],
      "include_colab_link": true
    }
  },
  "nbformat": 4,
  "nbformat_minor": 0
}