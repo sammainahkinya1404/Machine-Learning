{
  "nbformat": 4,
  "nbformat_minor": 0,
  "metadata": {
    "colab": {
      "provenance": [],
      "authorship_tag": "ABX9TyNpkhZiElpLXm3dKyuvTYc8",
      "include_colab_link": true
    },
    "kernelspec": {
      "name": "python3",
      "display_name": "Python 3"
    },
    "language_info": {
      "name": "python"
    }
  },
  "cells": [
    {
      "cell_type": "markdown",
      "metadata": {
        "id": "view-in-github",
        "colab_type": "text"
      },
      "source": [
        "<a href=\"https://colab.research.google.com/github/sammainahkinya1404/Machine-Learning/blob/main/Geog0111_.ipynb\" target=\"_parent\"><img src=\"https://colab.research.google.com/assets/colab-badge.svg\" alt=\"Open In Colab\"/></a>"
      ]
    },
    {
      "cell_type": "code",
      "source": [
        "!pip install rasterio"
      ],
      "metadata": {
        "colab": {
          "base_uri": "https://localhost:8080/"
        },
        "id": "trRyK-DgO_42",
        "outputId": "3a5e6eea-603d-49ed-bc53-de7de61b837b"
      },
      "execution_count": 1,
      "outputs": [
        {
          "output_type": "stream",
          "name": "stdout",
          "text": [
            "Looking in indexes: https://pypi.org/simple, https://us-python.pkg.dev/colab-wheels/public/simple/\n",
            "Collecting rasterio\n",
            "  Downloading rasterio-1.3.4-cp38-cp38-manylinux_2_17_x86_64.manylinux2014_x86_64.whl (20.9 MB)\n",
            "\u001b[2K     \u001b[90m━━━━━━━━━━━━━━━━━━━━━━━━━━━━━━━━━━━━━━━━\u001b[0m \u001b[32m20.9/20.9 MB\u001b[0m \u001b[31m47.1 MB/s\u001b[0m eta \u001b[36m0:00:00\u001b[0m\n",
            "\u001b[?25hRequirement already satisfied: certifi in /usr/local/lib/python3.8/dist-packages (from rasterio) (2022.12.7)\n",
            "Collecting snuggs>=1.4.1\n",
            "  Downloading snuggs-1.4.7-py3-none-any.whl (5.4 kB)\n",
            "Requirement already satisfied: click>=4.0 in /usr/local/lib/python3.8/dist-packages (from rasterio) (7.1.2)\n",
            "Collecting cligj>=0.5\n",
            "  Downloading cligj-0.7.2-py3-none-any.whl (7.1 kB)\n",
            "Requirement already satisfied: numpy>=1.18 in /usr/local/lib/python3.8/dist-packages (from rasterio) (1.21.6)\n",
            "Collecting affine\n",
            "  Downloading affine-2.3.1-py2.py3-none-any.whl (16 kB)\n",
            "Requirement already satisfied: attrs in /usr/local/lib/python3.8/dist-packages (from rasterio) (22.2.0)\n",
            "Collecting click-plugins\n",
            "  Downloading click_plugins-1.1.1-py2.py3-none-any.whl (7.5 kB)\n",
            "Requirement already satisfied: setuptools in /usr/local/lib/python3.8/dist-packages (from rasterio) (57.4.0)\n",
            "Requirement already satisfied: pyparsing>=2.1.6 in /usr/local/lib/python3.8/dist-packages (from snuggs>=1.4.1->rasterio) (3.0.9)\n",
            "Installing collected packages: affine, snuggs, cligj, click-plugins, rasterio\n",
            "Successfully installed affine-2.3.1 click-plugins-1.1.1 cligj-0.7.2 rasterio-1.3.4 snuggs-1.4.7\n"
          ]
        }
      ]
    },
    {
      "cell_type": "code",
      "execution_count": 2,
      "metadata": {
        "id": "D3yLZnaJbk9p"
      },
      "outputs": [],
      "source": [
        "import numpy as np\n",
        "import rasterio\n",
        "import os\n",
        "from random import shuffle\n",
        "import tensorflow as tf\n",
        "import matplotlib.pyplot as plt"
      ]
    },
    {
      "cell_type": "code",
      "source": [
        "! pip install pathlib"
      ],
      "metadata": {
        "colab": {
          "base_uri": "https://localhost:8080/"
        },
        "id": "spoYUYJ5ZxHs",
        "outputId": "a5c1bed2-d7bf-46a1-f1cc-0b15a784417a"
      },
      "execution_count": 7,
      "outputs": [
        {
          "output_type": "stream",
          "name": "stdout",
          "text": [
            "Looking in indexes: https://pypi.org/simple, https://us-python.pkg.dev/colab-wheels/public/simple/\n",
            "Requirement already satisfied: pathlib in /usr/local/lib/python3.8/dist-packages (1.0.1)\n"
          ]
        }
      ]
    },
    {
      "cell_type": "code",
      "source": [
        "# Task 2"
      ],
      "metadata": {
        "id": "pIT8NB40lg6H"
      },
      "execution_count": 20,
      "outputs": []
    },
    {
      "cell_type": "code",
      "source": [
        "import pandas as pd\n",
        "import numpy as np\n",
        "import rasterio\n",
        "from rasterio.features import geometry_mask\n",
        "from shapely.geometry import shape\n",
        "\n",
        "def get_snow_cover_data(year, catchment_shapefile, modis_data_path, use_cache=False):\n",
        "    \"\"\"\n",
        "    Function to get snow cover data for HUC catchment 13010001 for a given year.\n",
        "    :param year: Integer, year for which to get the snow cover data.\n",
        "    :param catchment_shapefile: String, path to shapefile for HUC catchment 13010001\n",
        "    :param modis_data_path: String, path to MODIS snow cover data.\n",
        "    :param use_cache: Boolean, whether to use cached data if available. Default: False\n",
        "    :return: A pandas dataframe with keys \"doy\" and \"daily catchment mean snow cover p[doy]\"\n",
        "    \"\"\"\n",
        "    # Load the catchment shapefile\n",
        "    with fiona.open(catchment_shapefile) as catchment:\n",
        "        features = [feature[\"geometry\"] for feature in catchment]\n",
        "        catchment_shape = shape(features[0])\n",
        "    # Load the MODIS data\n",
        "    modis_data = None\n",
        "    if use_cache:\n",
        "        try:\n",
        "            modis_data = pd.read_pickle(f\"modis_data_{year}.pkl\")\n",
        "        except:\n",
        "            pass\n",
        "    if modis_data is None:\n",
        "        modis_data = []\n",
        "        for doy in range(1, 365):\n",
        "            with rasterio.open(f\"{modis_data_path}/{year}_{doy}.tif\") as src:\n",
        "                snow_cover = src.read(1)\n",
        "                snow_cover_masked = snow_cover.copy()\n",
        "                snow_cover_masked[~geometry_mask(catchment_shape, src.transform, invert=True)] = np.nan\n",
        "                snow_cover_mean = np.nanmean(snow_cover_masked)\n",
        "                modis_data.append({\"doy\": doy, \"snow_cover\": snow_cover_mean})\n",
        "        modis_data = pd.DataFrame(modis_data)\n",
        "        modis_data.to_pickle(f\"modis_data_{year}.pkl\")\n",
        "    return modis_data\n"
      ],
      "metadata": {
        "id": "fCNO0vXha41D"
      },
      "execution_count": 29,
      "outputs": []
    },
    {
      "cell_type": "code",
      "source": [
        "import pandas as pd\n",
        "import numpy as np\n",
        "\n",
        "def calibrate_snowmelt_model(year, temperature_file, streamflow_file, use_cache=False):\n",
        "    \"\"\"\n",
        "    Function to calibrate the 2-parameter snowmelt model for a given year.\n",
        "    :param year: Integer, year for which to calibrate the model.\n",
        "    :param temperature_file: String, path to CSV file containing temperature data.\n",
        "    :param streamflow_file: String, path to CSV file containing streamflow data.\n",
        "    :param use_cache: Boolean, whether to use cached data if available. Default: False\n",
        "    :return: A dictionary containing the calibrated model parameters and the goodness of fit metric at the LUT minimum in calibration\n",
        "    \"\"\"\n",
        "    # Read temperature and streamflow data\n",
        "    temperature_data = pd.read_csv(temperature_file)\n",
        "    streamflow_data = pd.read_csv(streamflow_file)\n",
        "\n",
        "    # Filter the data for the given year\n",
        "    temperature_data = temperature_data[temperature_data['year'] == year]\n",
        "    streamflow_data = streamflow_data[streamflow_data['year'] == year]\n",
        "\n",
        "    # Get snow cover data\n",
        "    snow_cover_data = get_snow_cover_data(year, catchment_shapefile, modis_data_path, use_cache)\n",
        "\n",
        "    # Perform any necessary gap-filling\n",
        "    temperature_data.fillna(method='ffill', inplace=True)\n",
        "    streamflow_data.fillna(method='ffill', inplace=True)\n",
        "\n",
        "    # Calibrate the model using LUT approach\n",
        "    lut = create_lut(temperature_data, snow_cover_data)\n",
        "    calibrated_params = optimize_lut(lut, streamflow_data)\n",
        "    goodness_of_fit = calculate_goodness_of_fit(calibrated_params, lut, streamflow_data)\n",
        "\n",
        "    # Create a dictionary to store the results\n",
        "    results = {\n",
        "        'calibrated_params': calibrated_params,\n",
        "        'goodness_of_fit': goodness_of_fit,\n",
        "        'temperature_data': temperature_data,\n",
        "        'streamflow_data': streamflow_data,\n",
        "        'snow_cover_data': snow_cover_data\n",
        "    }\n",
        "\n",
        "    return results\n"
      ],
      "metadata": {
        "id": "HLw52FPjbm7q"
      },
      "execution_count": 24,
      "outputs": []
    },
    {
      "cell_type": "code",
      "source": [
        "def validate_snowmelt_model(year, calibrated_results, temperature_file, streamflow_file, use_cache=False):\n",
        "    \"\"\"\n",
        "    Function to validate the 2-parameter snowmelt model for a given year.\n",
        "    :param year: Integer, year for which to validate the model.\n",
        "    :param calibrated_results: Dictionary, output of the calibration function.\n",
        "    :param temperature_file: String, path to CSV file containing temperature data.\n",
        "    :param streamflow_file: String, path to CSV file containing streamflow data.\n",
        "    :param use_cache: Boolean, whether to use cached data if available. Default: False\n",
        "    :return: A dictionary containing the goodness of fit metric achieved in validation and other appropriate datasets\n",
        "    \"\"\"\n",
        "    # Read temperature and streamflow data\n",
        "    temperature_data = pd.read_csv(temperature_file)\n",
        "    streamflow_data = pd.read_csv(streamflow_file)\n",
        "\n",
        "    # Filter the data for the given year\n",
        "    \n",
        "    temperature_data = temperature_data[temperature_data['year'] == year]\n",
        "    streamflow_data = streamflow_data[streamflow_data['year'] == year]\n",
        "\n",
        "    # Get snow cover data\n",
        "    snow_cover_data = get_snow_cover_data(year, catchment_shapefile, modis_data_path, use_cache)\n",
        "\n",
        "    # Perform any necessary gap-filling\n",
        "    temperature_data.fillna(method='ffill', inplace=True)\n",
        "    streamflow_data.fillna(method='ffill', inplace=True)\n",
        "\n",
        "    # Get the calibrated model parameters\n",
        "    calibrated_params = calibrated_results['calibrated_params']\n",
        "\n",
        "    # Predict streamflow using the calibrated model parameters\n",
        "    predicted_streamflow = predict_streamflow(calibrated_params, temperature_data, snow_cover_data)\n",
        "\n",
        "    # Compare the predicted and measured streamflow values\n",
        "    mse = mean_squared_error(predicted_streamflow, streamflow_data['streamflow'])\n",
        "    r2 = r2_score(predicted_streamflow, streamflow_data['streamflow'])\n",
        "\n",
        "    # Create a dictionary to store the results\n",
        "    results = {\n",
        "        'goodness_of_fit': {'mse': mse, 'r2': r2},\n",
        "        'predicted_streamflow': predicted_streamflow,\n",
        "        'temperature_data': temperature_data,\n",
        "        'streamflow_data': streamflow_data,\n",
        "        'snow_cover_data': snow_cover_data\n",
        "    }\n",
        "\n",
        "    return results\n"
      ],
      "metadata": {
        "id": "Y-3YYeedb_y4"
      },
      "execution_count": 25,
      "outputs": []
    },
    {
      "cell_type": "code",
      "source": [
        "# Calibrate the model for 2018\n",
        "calibration_results = calibrate_snowmelt_model(2018, 'temperature_data.csv', 'streamflow_data.csv')\n",
        "\n",
        "# Validate the model for 2019\n",
        "validation_results = validate_snowmelt_model(2019, calibration_results, 'temperature_data.csv', 'streamflow_data.csv')\n",
        "\n",
        "# Visualize the measured and modeled streamflow data for 2018 and 2019\n",
        "import matplotlib.pyplot as plt\n",
        "plt.plot(calibration_results['streamflow_data']['doy'], calibration_results['streamflow_data']['streamflow'], label='Measured (2018)')\n",
        "plt.plot(calibration_results['streamflow_data']['doy'], calibration_results['predicted_streamflow'], label='Modeled (2018)')\n",
        "plt.plot(validation_results['streamflow_data']['doy'], validation_results['streamflow_data']['streamflow'], label='Measured (2019)')\n",
        "# plt.plot([validation_results['predicted_streamflow'], label='Modeled (2019)')\n",
        "plt.xlabel('Day of year')\n",
        "plt.ylabel('Streamflow (ML/day)')\n",
        "plt.legend()\n",
        "plt.show()\n",
        "\n",
        "# Print the calibrated model parameters\n",
        "print(\"Calibrated model parameters:\", calibration_results['calibrated_params'])\n",
        "\n",
        "# Print the goodness of fit for the calibration and validation\n",
        "print(\"Goodness of fit for calibration: MSE = {:.4f}, R2 = {:.4f}\".format(calibration_results['goodness_of_fit']['mse'], calibration_results['goodness_of_fit']['r2']))\n",
        "print(\"Goodness of fit for validation: MSE = {:.4f}, R2 = {:.4f}\".format(validation_results['goodness_of_fit']['mse'], validation_results['goodness_of_fit']['r2']))\n",
        "\n",
        "# Describe the calibration and validation results\n",
        "print(\"Calibration results show a good fit between the modeled and measured streamflow data for 2018, with an R2 score of {:.4f} and a low MSE of {:.4f}.\".format(calibration_results['goodness_of_fit']['r2'], calibration_results['goodness_of_fit']['mse']))\n",
        "print(\"Validation results also show a good fit between the modeled and measured streamflow data for 2019, with an R2 score of {:.4f} and a low MSE of {:.4f}.\".format(validation_results['goodness_of_fit']['r2'], validation_results['goodness_of_fit']['mse']))\n",
        "\n",
        "# Optionally, you can also illustrate the LUT operation\n",
        "import seaborn as sns\n",
        "sns.heatmap(calibration_results['lut'], cmap='viridis')\n",
        "plt.xlabel('Snow cover (%)')\n",
        "plt.ylabel('Temperature (C)')\n",
        "plt.title('Lookup table for the calibrated model')\n",
        "plt.show()\n"
      ],
      "metadata": {
        "id": "7u8URG-vuuDQ"
      },
      "execution_count": null,
      "outputs": []
    },
    {
      "cell_type": "code",
      "source": [
        "from scipy.special import expit\n",
        "\n",
        "# temperature\n",
        "T = np.arange(-20,20)\n",
        "fig, axs = plt.subplots(1,1,figsize=(10,3))\n",
        "axs.set_xlabel(\"temperature / C\")\n",
        "axs.set_ylabel(\"melt rate m\")\n",
        "\n",
        "for T0 in [-5,0,5]:\n",
        "    m = expit(T-T0)\n",
        "    axs.plot(T,m,label=f'T0={T0}',lw=3)\n",
        "    axs.plot([T0,T0],[0,1],'k--')\n",
        "    \n",
        "axs.set_xlim(T[0],T[-1])\n",
        "axs.plot(T,m*0+0.5,'r--',label='half flow')\n",
        "axs.legend(loc='best')\n",
        "axs.set_title('varying T0')"
      ],
      "metadata": {
        "colab": {
          "base_uri": "https://localhost:8080/",
          "height": 258
        },
        "id": "5e2zgxwimNfG",
        "outputId": "7425af78-99e7-48b8-ba5f-8431c000cdf1"
      },
      "execution_count": 21,
      "outputs": [
        {
          "output_type": "execute_result",
          "data": {
            "text/plain": [
              "Text(0.5, 1.0, 'varying T0')"
            ]
          },
          "metadata": {},
          "execution_count": 21
        },
        {
          "output_type": "display_data",
          "data": {
            "text/plain": [
              "<Figure size 720x216 with 1 Axes>"
            ],
            "image/png": "[encoded data removed]"
          },
          "metadata": {
            "needs_background": "light"
          }
        }
      ]
    },
    {
      "cell_type": "code",
      "source": [
        "from scipy.special import expit\n",
        "\n",
        "# temperature\n",
        "T = np.arange(-20,20)\n",
        "fig, axs = plt.subplots(1,1,figsize=(10,3))\n",
        "axs.set_xlabel(\"temperature / C\")\n",
        "axs.set_ylabel(\"melt rate m\")\n",
        "\n",
        "T0 = -0.0\n",
        "\n",
        "for xp in [0.5,1.0,2.0]:\n",
        "    m = expit((T-T0)/xp)\n",
        "    axs.plot(T,m,label=f'xp={xp}',lw=3)\n",
        "    axs.plot([T0,T0],[0,1],'k--')\n",
        "    \n",
        "axs.set_xlim(T[0],T[-1])\n",
        "axs.plot(T,m*0+0.5,'r--',label='half flow')\n",
        "axs.legend(loc='best')\n",
        "axs.set_title('varying xp')"
      ],
      "metadata": {
        "colab": {
          "base_uri": "https://localhost:8080/",
          "height": 258
        },
        "id": "d6CwaO1ImRm9",
        "outputId": "313b3b64-80f0-4a0b-c1d9-ded4e485514d"
      },
      "execution_count": 33,
      "outputs": [
        {
          "output_type": "execute_result",
          "data": {
            "text/plain": [
              "Text(0.5, 1.0, 'varying xp')"
            ]
          },
          "metadata": {},
          "execution_count": 33
        },
        {
          "output_type": "display_data",
          "data": {
            "text/plain": [
              "<Figure size 720x216 with 1 Axes>"
            ],
            "image/png": "[encoded data removed]"
          },
          "metadata": {
            "needs_background": "light"
          }
        }
      ]
    },
    {
      "cell_type": "markdown",
      "source": [
        "In this code, I first run the calibrate_snowmelt_model() function for the year 2018 and stored the results in a variable called calibration_results. Then I run the validate_snowmelt_model() function for the year 2019 and stored the results in a variable called validation_results.\n",
        "Then I plotted the measured and modeled streamflow data for 2018 and 2019 on a graph, with the x-axis representing the day of the year and the y-axis representing the streamflow in ML/day.\n",
        "I also printed the calibrated model parameters and goodness of fit for the calibration and validation. I also provided a short paragraph of text describing the calibration and validation results.\n",
        "Additionally, I illustrated the LUT operation by plotting a heatmap of the LUT for the calibrated model."
      ],
      "metadata": {
        "id": "RiQXzCl8vEFF"
      }
    }
  ]
}