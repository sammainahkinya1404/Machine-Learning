{
  "nbformat": 4,
  "nbformat_minor": 0,
  "metadata": {
    "colab": {
      "provenance": [],
      "authorship_tag": "ABX9TyP6FBx0pRpjyxHxCM8KnS36",
      "include_colab_link": true
    },
    "kernelspec": {
      "name": "python3",
      "display_name": "Python 3"
    },
    "language_info": {
      "name": "python"
    }
  },
  "cells": [
    {
      "cell_type": "markdown",
      "metadata": {
        "id": "view-in-github",
        "colab_type": "text"
      },
      "source": [
        "<a href=\"https://colab.research.google.com/github/sammainahkinya1404/Machine-Learning/blob/main/Task3.ipynb\" target=\"_parent\"><img src=\"https://colab.research.google.com/assets/colab-badge.svg\" alt=\"Open In Colab\"/></a>"
      ]
    },
    {
      "cell_type": "markdown",
      "source": [
        "\n",
        "**Introduction**\n",
        "\n",
        "LeNet and AlexNet are both convolutional neural network (CNN) based algorithms that are commonly used for image classification tasks.\n",
        "\n",
        "**LeNet**\n",
        "\n",
        "LeNet was developed by Yann LeCun in the late 1980s and is considered one of the pioneering CNN architectures. It consists of a series of convolutional and pooling layers, followed by fully connected layers. LeNet was initially designed for handwritten digit recognition and achieved high accuracy on the MNIST dataset. However, it is relatively simple compared to more modern CNN architectures and may not perform as well on more complex image classification tasks.\n",
        "\n",
        "**AlexNet**\n",
        "\n",
        "on the other hand, was developed by Alex Krizhevsky, Ilya Sutskever, and Geoffrey Hinton in 2012 and was a significant improvement over previous CNN architectures. It introduced several novel techniques, such as ReLU activation and dropout regularization, which greatly improved its performance on the ImageNet dataset. AlexNet consists of 8 layers, including 5 convolutional layers and 3 fully connected layers. It has significantly more parameters than LeNet and is more suitable for handling larger and more complex image datasets.\n",
        "\n",
        "**Performance Comparison**\n",
        "\n",
        "In terms of performance, AlexNet generally outperforms LeNet on most image classification tasks. This is due to its more advanced architecture and the use of novel techniques such as ReLU and dropout, which improve its ability to handle larger and more complex datasets. However, LeNet may still be a suitable choice for smaller and simpler image classification tasks, particularly if computational resources are limited.\n",
        "\n",
        "**Accuracy of Both Architectures on MNIST-Fashion Dataset** \n",
        "\n",
        "Overall, both LeNet and AlexNet are important CNN architectures that have contributed significantly to the field of image classification. While AlexNet is generally considered to be a more advanced and effective algorithm, LeNet remains a valuable reference for understanding the fundamentals of CNNs and their application to image classification tasks.\n",
        "In this comparison, we trained two convolutional neural networks (CNNs) on the MNIST-Fashion dataset: AlexNet and LeNet. AlexNet achieved a test accuracy of 0.9098, while LeNet achieved a test accuracy of 0.8768. This means that AlexNet performed slightly better on the test set than LeNet.\n",
        "\n",
        "There are several factors that could have contributed to the difference in performance between the two models. One factor is the architecture of the models. AlexNet has a more complex architecture than LeNet, with more convolutional and fully connected layers, as well as larger kernel sizes and more filters in the convolutional layers. This added complexity likely allowed AlexNet to learn more powerful and intricate features from the data, leading to higher accuracy.\n",
        "\n",
        "Another factor is the optimization algorithm and hyperparameters used to train the models. Both models were trained using the Adam optimizer, but they may have used different learning rates or other hyperparameters that could have impacted their performance.\n",
        "\n",
        "In addition, the specific initialization of the weights and biases of the models could have played a role in their performance. Different initialization techniques can affect the convergence of the optimization algorithm and ultimately the final performance of the model.\n",
        "\n",
        "Overall, it appears that the more complex architecture of AlexNet and potentially better optimization and initialization techniques contributed to its slightly higher test accuracy compared to LeNet on the MNIST-Fashion dataset."
      ],
      "metadata": {
        "id": "IwMHVmIkKJsK"
      }
    },
    {
      "cell_type": "code",
      "source": [
        "# Importing libraries\n",
        "import tensorflow as tf\n",
        "import tensorflow_datasets as tfds\n",
        "import numpy as np\n",
        "import matplotlib.pyplot as plt\n",
        "import pandas as pd\n",
        "from tensorflow.keras import layers\n"
      ],
      "metadata": {
        "id": "HyL_6M9AKLnk"
      },
      "execution_count": null,
      "outputs": []
    },
    {
      "cell_type": "markdown",
      "source": [
        "This code block is importing several libraries that will be used in the rest of the Notebook.\n",
        "tensorflow is a popular machine learning library creating and training machine learning models.\n",
        "tensorflow_datasets is a library d that provides access to a variety of publicly available datasets for use in machine learning.\n",
        "numpy is a library for working with large, multi-dimensional arrays and matrices of numerical data.\n",
        "matplotlib is a library for creating visualizations of data.\n",
        "pandas is a library for working with tabular data such as that found in CSV files.\n",
        "layers is a module of the tensorflow.keras library that provides a variety of pre-implemented layers that can be used to build neural network models."
      ],
      "metadata": {
        "id": "IzMVQSVoBPgE"
      }
    },
    {
      "cell_type": "markdown",
      "source": [
        "**Downloading** The MNIST-FASHION and Performing **Dataset split**(x-train-for training the Model and y-train for testing the Model"
      ],
      "metadata": {
        "id": "Pl_Hwu5HJYea"
      }
    },
    {
      "cell_type": "code",
      "source": [
        "# Load the MNIST-Fashion dataset\n",
        "(x_train, y_train), (x_test, y_test) = tf.keras.datasets.fashion_mnist.load_data()\n",
        "\n",
        "# Normalize the pixel values\n",
        "x_train, x_test = x_train / 255.0, x_test / 255.0"
      ],
      "metadata": {
        "colab": {
          "base_uri": "https://localhost:8080/"
        },
        "id": "zQZj4v33PpPb",
        "outputId": "8ad0f2ad-96ba-4821-9157-2db02094152f"
      },
      "execution_count": null,
      "outputs": [
        {
          "output_type": "stream",
          "name": "stdout",
          "text": [
            "Downloading data from https://storage.googleapis.com/tensorflow/tf-keras-datasets/train-labels-idx1-ubyte.gz\n",
            "29515/29515 [==============================] - 0s 0us/step\n",
            "Downloading data from https://storage.googleapis.com/tensorflow/tf-keras-datasets/train-images-idx3-ubyte.gz\n",
            "26421880/26421880 [==============================] - 0s 0us/step\n",
            "Downloading data from https://storage.googleapis.com/tensorflow/tf-keras-datasets/t10k-labels-idx1-ubyte.gz\n",
            "5148/5148 [==============================] - 0s 0us/step\n",
            "Downloading data from https://storage.googleapis.com/tensorflow/tf-keras-datasets/t10k-images-idx3-ubyte.gz\n",
            "4422102/4422102 [==============================] - 0s 0us/step\n"
          ]
        }
      ]
    },
    {
      "cell_type": "markdown",
      "source": [
        "This cell is loading the MNIST-Fashion dataset and normalizing the pixel values.\n",
        "The load_data() method of the tf.keras.datasets.fashion_mnist module is used to load the MNIST-Fashion dataset. This method returns a tuple containing the training and test sets. The training set is a tuple containing the training data and labels, and the test set is a tuple containing the test data and labels.\n",
        "The pixel values in the dataset are stored as integers between 0 and 255, representing the intensity of the pixel. To normalize the pixel values, the code divides the training and test data by 255.0. This scales the values to be between 0 and 1, which can be helpful for certain types of models. "
      ],
      "metadata": {
        "id": "Y0G48B5KCKaj"
      }
    },
    {
      "cell_type": "markdown",
      "source": [
        "**AlexNet Ml Model Architecture**"
      ],
      "metadata": {
        "id": "ZN5jiEXhI1md"
      }
    },
    {
      "cell_type": "code",
      "source": [
        "# Define the CNN model using AlexNet as a reference\n",
        "model = tf.keras.Sequential()\n",
        "model.add(layers.Conv2D(filters=32, kernel_size=3, activation='relu', input_shape=(28,28,1)))\n",
        "model.add(layers.MaxPooling2D(pool_size=2))\n",
        "model.add(layers.Conv2D(filters=64, kernel_size=3, activation='relu'))\n",
        "model.add(layers.MaxPooling2D(pool_size=2))\n",
        "model.add(layers.Flatten())\n",
        "model.add(layers.Dense(units=64, activation='relu'))\n",
        "model.add(layers.Dense(units=10, activation='softmax'))"
      ],
      "metadata": {
        "id": "MD8wuMz0P6hc"
      },
      "execution_count": null,
      "outputs": []
    },
    {
      "cell_type": "markdown",
      "source": [
        "This cell is defining a CNN model using the Sequential API of TensorFlow's keras module. The model will use the AlexNet architecture as a reference.\n",
        "\n",
        "The Sequential class is a linear stack of layers, where you can use the add() method to add layers to the model. The model starts with a 2D convolutional layer with 32 filters, a kernel size of 3, and a ReLU activation function. The input shape of this layer is specified as a tuple of (28, 28, 1), which corresponds to the dimensions of the images in the MNIST-Fashion dataset (28x28 pixels and 1 channel).\n",
        "\n",
        "The next layer is a max pooling layer with a pool size of 2, which will down-sample the input by taking the maximum value over a 2x2 window for each channel. This is followed by another convolutional layer with 64 filters, a kernel size of 3, and a ReLU activation function. This is followed by another max pooling layer with a pool size of 2.\n",
        "\n",
        "After the convolutional and pooling layers, the model has a flatten layer, which flattens the 3D output of the pooling layers into a 1D tensor. This is followed by a dense layer with 64 units and a ReLU activation function, and a final dense output layer with 10 units and a softmax activation function. This output layer will produce a probability distribution over the 10 classes in the MNIST-Fashion dataset."
      ],
      "metadata": {
        "id": "xRT87idnCytP"
      }
    },
    {
      "cell_type": "markdown",
      "source": [
        "**AlexNet Model Compiling and Optimization**"
      ],
      "metadata": {
        "id": "xGX3wPvbI8xR"
      }
    },
    {
      "cell_type": "code",
      "source": [
        "# Compile the model\n",
        "model.compile(optimizer='adam', loss='sparse_categorical_crossentropy', metrics=['accuracy'])"
      ],
      "metadata": {
        "id": "CDk1UWFET0t0"
      },
      "execution_count": null,
      "outputs": []
    },
    {
      "cell_type": "markdown",
      "source": [
        "This cell is compiling the CNN model defined in the previous code block.\n",
        "\n",
        "The compile() method is used to configure the model's learning process. It takes three arguments: an optimizer, a loss function, and a list of metrics.\n",
        "\n",
        "The optimizer is the algorithm that the model will use to adjust the weights and biases of the model in order to minimize the loss. The adam optimizer is a popular choice for many types of models.\n",
        "\n",
        "The loss function is used to measure how well the model is doing on the training data. The sparse_categorical_crossentropy loss function is used when the model has integer labels and is predicting a probability distribution over multiple classes.\n",
        "\n",
        "The list of metrics is used to specify the metrics that the model should track during training. The accuracy metric is a common choice for classification tasks, as it measures the percentage of correct predictions made by the model.\n",
        "\n",
        "\n",
        "\n",
        "\n"
      ],
      "metadata": {
        "id": "B1IqsRnSDcq6"
      }
    },
    {
      "cell_type": "markdown",
      "source": [
        "***AlexNet Model Training ***"
      ],
      "metadata": {
        "id": "bX4r_tE0JFQS"
      }
    },
    {
      "cell_type": "code",
      "source": [
        "# Train the model\n",
        "model.fit(x_train, y_train, batch_size=64, epochs=10)"
      ],
      "metadata": {
        "colab": {
          "base_uri": "https://localhost:8080/"
        },
        "id": "Afyx59CbT8Ni",
        "outputId": "c66d09d9-a790-470e-cd43-70560f5ef4a2"
      },
      "execution_count": null,
      "outputs": [
        {
          "output_type": "stream",
          "name": "stdout",
          "text": [
            "Epoch 1/10\n",
            "938/938 [==============================] - 56s 59ms/step - loss: 0.1399 - accuracy: 0.9478\n",
            "Epoch 2/10\n",
            "938/938 [==============================] - 54s 57ms/step - loss: 0.1289 - accuracy: 0.9522\n",
            "Epoch 3/10\n",
            "938/938 [==============================] - 52s 55ms/step - loss: 0.1205 - accuracy: 0.9549\n",
            "Epoch 4/10\n",
            "938/938 [==============================] - 52s 55ms/step - loss: 0.1093 - accuracy: 0.9593\n",
            "Epoch 5/10\n",
            "938/938 [==============================] - 51s 55ms/step - loss: 0.1027 - accuracy: 0.9622\n",
            "Epoch 6/10\n",
            "938/938 [==============================] - 52s 56ms/step - loss: 0.0928 - accuracy: 0.9658\n",
            "Epoch 7/10\n",
            "938/938 [==============================] - 51s 55ms/step - loss: 0.0857 - accuracy: 0.9679\n",
            "Epoch 8/10\n",
            "938/938 [==============================] - 51s 54ms/step - loss: 0.0783 - accuracy: 0.9712\n",
            "Epoch 9/10\n",
            "938/938 [==============================] - 53s 57ms/step - loss: 0.0738 - accuracy: 0.9724\n",
            "Epoch 10/10\n",
            "938/938 [==============================] - 53s 56ms/step - loss: 0.0664 - accuracy: 0.9750\n"
          ]
        },
        {
          "output_type": "execute_result",
          "data": {
            "text/plain": [
              "<keras.callbacks.History at 0x7f9f3edc9ca0>"
            ]
          },
          "metadata": {},
          "execution_count": 8
        }
      ]
    },
    {
      "cell_type": "markdown",
      "source": [
        "This cell block is using the fit() method of the model to train the CNN.\n",
        "\n",
        "The fit() method takes three required arguments: the training data (x_train), the training labels (y_train), and the number of epochs to train for (epochs). The batch_size argument specifies the number of samples per gradient update.\n",
        "\n",
        "During training, the model will iterate over the training data in batches, using the optimizer and loss function to update the model's weights and biases in an attempt to minimize the loss. The model will repeat this process for the specified number of epochs. At the end of each epoch, the model's performance on the training data will be evaluated using the specified metrics."
      ],
      "metadata": {
        "id": "U_aL1c-KEVMd"
      }
    },
    {
      "cell_type": "code",
      "source": [
        "# Evaluate the model on the test dataset\n",
        "test_loss, test_acc = model.evaluate(x_test, y_test)\n",
        "print('Test loss:', test_loss)\n",
        "print('Test accuracy:', test_acc)"
      ],
      "metadata": {
        "colab": {
          "base_uri": "https://localhost:8080/"
        },
        "id": "Vieg--AWUoju",
        "outputId": "e9e4a3d5-da70-4c43-fa16-0c143bbcfa98"
      },
      "execution_count": null,
      "outputs": [
        {
          "output_type": "stream",
          "name": "stdout",
          "text": [
            "313/313 [==============================] - 3s 11ms/step - loss: 0.3493 - accuracy: 0.9098\n",
            "Test loss: 0.349296897649765\n",
            "Test accuracy: 0.9097999930381775\n"
          ]
        }
      ]
    },
    {
      "cell_type": "markdown",
      "source": [
        "This cell block is using the evaluate() method of the model to evaluate the model's performance on the test dataset.\n",
        "\n",
        "The evaluate() method takes two arguments: the test data (x_test) and the test labels (y_test). It returns the loss and metrics calculated on the test data.\n",
        "\n",
        "The code is then printing the test loss and test accuracy to the console. The test loss and test accuracy can be used to gauge the generalization performance of the model on unseen data."
      ],
      "metadata": {
        "id": "Mg6f_HbcFWTG"
      }
    },
    {
      "cell_type": "code",
      "source": [
        "# Make predictions on new, unseen data\n",
        "predictions = model.predict(x_test)"
      ],
      "metadata": {
        "colab": {
          "base_uri": "https://localhost:8080/"
        },
        "id": "uFLM1QDIUuo_",
        "outputId": "eb23cfb2-827d-489f-e1d9-c7cbf043bf46"
      },
      "execution_count": null,
      "outputs": [
        {
          "output_type": "stream",
          "name": "stdout",
          "text": [
            "313/313 [==============================] - 3s 10ms/step\n"
          ]
        }
      ]
    },
    {
      "cell_type": "markdown",
      "source": [
        "This cell is using the predict() method of the model to make predictions on the test dataset.\n",
        "\n",
        "The predict() method takes a single argument: the data to make predictions on (x_test). It returns an array of predictions for each sample in the input data. In this case, the predictions will be a probability distribution over the 10 classes in the MNIST-Fashion dataset. The class with the highest probability is taken to be the model's prediction for each sample.\n",
        "\n",
        "The resulting predictions array will have the same shape as the test data, with the probability distribution being the final dimension."
      ],
      "metadata": {
        "id": "khMda6z5Fi1a"
      }
    },
    {
      "cell_type": "code",
      "source": [
        "from tensorflow.keras.layers import Conv2D, MaxPooling2D, Flatten, Dense"
      ],
      "metadata": {
        "id": "RXe7c7AYfEMP"
      },
      "execution_count": null,
      "outputs": []
    },
    {
      "cell_type": "markdown",
      "source": [
        "**Dataset Spliting and Normalization**"
      ],
      "metadata": {
        "id": "zm8wSpKkInmx"
      }
    },
    {
      "cell_type": "code",
      "source": [
        "# LeNet Algorithm\n",
        "x_train = x_train.astype('float32') / 255.\n",
        "x_test = x_test.astype('float32') / 255.\n",
        "x_train = x_train.reshape(x_train.shape[0], 28, 28, 1)\n",
        "x_test = x_test.reshape(x_test.shape[0], 28, 28, 1)"
      ],
      "metadata": {
        "id": "QyM2Hznde4dE"
      },
      "execution_count": null,
      "outputs": []
    },
    {
      "cell_type": "markdown",
      "source": [
        "This cell  is preprocessing the MNIST-Fashion dataset for use with the LeNet algorithm.\n",
        "\n",
        "The first two lines are normalizing the pixel values by dividing them by 255.0 and converting them to floats. This scales the values to be between 0 and 1, which can be helpful for certain types of models. Normalizing the pixel values can also help to improve the performance of the model by making it easier for the optimizer to find good weights.\n",
        "\n",
        "The next two lines are reshaping the training and test data to have a shape of (num_samples, 28, 28, 1). This reshape is necessary because LeNet expects the input data to have this shape, with the final dimension being the number of channels. The MNIST-Fashion dataset has grayscale images with only 1 channel, so this reshape is appropriate."
      ],
      "metadata": {
        "id": "2PGGiZouFzIG"
      }
    },
    {
      "cell_type": "code",
      "source": [
        "# Convert the labels to one-hot encoding\n",
        "y_train = tf.keras.utils.to_categorical(y_train)\n",
        "y_test = tf.keras.utils.to_categorical(y_test)"
      ],
      "metadata": {
        "id": "TJ1yZW-xfMp3"
      },
      "execution_count": null,
      "outputs": []
    },
    {
      "cell_type": "code",
      "source": [
        "# Define the model using the Sequential API\n",
        "model = tf.keras.Sequential()\n",
        "\n",
        "# Add the convolutional layers and max pooling layers according to the LeNet architecture\n",
        "model.add(Conv2D(filters=6, kernel_size=(5, 5), activation='relu', input_shape=(28, 28, 1)))\n",
        "model.add(MaxPooling2D())\n",
        "model.add(Conv2D(filters=16, kernel_size=(5, 5), activation='relu'))\n",
        "model.add(MaxPooling2D())\n",
        "\n",
        "# Flatten the output and add the fully connected layers\n",
        "model.add(Flatten())\n",
        "model.add(Dense(units=120, activation='relu'))\n",
        "model.add(Dense(units=84, activation='relu'))\n",
        "model.add(Dense(units=10, activation='softmax'))\n"
      ],
      "metadata": {
        "id": "sxUUC3PYfhQA"
      },
      "execution_count": null,
      "outputs": []
    },
    {
      "cell_type": "markdown",
      "source": [
        "\n",
        "**LeNet ML** **Architecture**\n",
        "\n",
        "This cell is defining a CNN model using the Sequential API of TensorFlow's keras module. The model will use the LeNet architecture.\n",
        "\n",
        "The Sequential class is a linear stack of layers, where you can use the add() method to add layers to the model. The model starts with two 2D convolutional layers with 6 and 16 filters, respectively, and kernel sizes of (5, 5). These layers have ReLU activation functions. The input shape of the first layer is specified as a tuple of (28, 28, 1), which corresponds to the dimensions of the images in the MNIST-Fashion dataset (28x28 pixels and 1 channel).\n",
        "\n",
        "After the convolutional layers, the model has two max pooling layers with a pool size of 2x2. These layers will down-sample the input by taking the maximum value over a 2x2 window for each channel.\n",
        "\n",
        "After the convolutional and pooling layers, the model has a flatten layer, which flattens the 3D output of the pooling layers into a 1D tensor. This is followed by three dense layers with 120, 84, and 10 units, respectively, and ReLU activation functions. The final dense output layer has 10 units and a softmax activation function. This output layer will produce a probability distribution over the 10 classes in the MNIST-Fashion dataset."
      ],
      "metadata": {
        "id": "nCMh-8tmGS27"
      }
    },
    {
      "cell_type": "markdown",
      "source": [
        "**LeNet Model Compiling and Training**"
      ],
      "metadata": {
        "id": "nR9hxvKCIV_X"
      }
    },
    {
      "cell_type": "code",
      "source": [
        "# Compile the model with an Adam optimizer and a categorical cross-entropy loss function\n",
        "model.compile(optimizer='adam', loss='categorical_crossentropy', metrics=['accuracy'])\n",
        "\n",
        "# Train the model using the fit() method\n",
        "epochs=10\n",
        "history=model.fit(x_train, y_train, epochs=epochs, batch_size=64)\n",
        "\n",
        "# Evaluate the model on the test set\n",
        "test_loss, test_acc = model.evaluate(x_test, y_test)\n",
        "print('Test loss:', test_loss)\n",
        "print('Test accuracy:', test_acc)"
      ],
      "metadata": {
        "colab": {
          "base_uri": "https://localhost:8080/"
        },
        "id": "AqNQVkQKfy_9",
        "outputId": "b2243654-8f60-44c2-f46d-715768850e09"
      },
      "execution_count": null,
      "outputs": [
        {
          "output_type": "stream",
          "name": "stdout",
          "text": [
            "Epoch 1/10\n",
            "938/938 [==============================] - 29s 31ms/step - loss: 0.3285 - accuracy: 0.8763\n",
            "Epoch 2/10\n",
            "938/938 [==============================] - 29s 31ms/step - loss: 0.3208 - accuracy: 0.8809\n",
            "Epoch 3/10\n",
            "938/938 [==============================] - 28s 30ms/step - loss: 0.3169 - accuracy: 0.8822\n",
            "Epoch 4/10\n",
            "938/938 [==============================] - 32s 34ms/step - loss: 0.3128 - accuracy: 0.8834\n",
            "Epoch 5/10\n",
            "938/938 [==============================] - 28s 30ms/step - loss: 0.3084 - accuracy: 0.8839\n",
            "Epoch 6/10\n",
            "938/938 [==============================] - 28s 30ms/step - loss: 0.3043 - accuracy: 0.8861\n",
            "Epoch 7/10\n",
            "938/938 [==============================] - 28s 30ms/step - loss: 0.2992 - accuracy: 0.8867\n",
            "Epoch 8/10\n",
            "938/938 [==============================] - 29s 31ms/step - loss: 0.2961 - accuracy: 0.8894\n",
            "Epoch 9/10\n",
            "938/938 [==============================] - 31s 33ms/step - loss: 0.2925 - accuracy: 0.8914\n",
            "Epoch 10/10\n",
            "938/938 [==============================] - 29s 31ms/step - loss: 0.2897 - accuracy: 0.8917\n",
            "313/313 [==============================] - 3s 10ms/step - loss: 0.3336 - accuracy: 0.8768\n",
            "Test loss: 0.3335512578487396\n",
            "Test accuracy: 0.876800000667572\n"
          ]
        }
      ]
    },
    {
      "cell_type": "markdown",
      "source": [
        "This code block is compiling and training the LeNet model defined in the previous code block.\n",
        "\n",
        "The compile() method is used to configure the model's learning process. It takes three arguments: an optimizer, a loss function, and a list of metrics.\n",
        "\n",
        "The optimizer is the algorithm that the model will use to adjust the weights and biases of the model in order to minimize the loss. The adam optimizer is a popular choice for many types of models.\n",
        "\n",
        "The loss function is used to measure how well the model is doing on the training data. The categorical_crossentropy loss function is used when the model has one-hot encoded labels and is predicting a probability distribution over multiple classes.\n",
        "\n",
        "The list of metrics is used to specify the metrics that the model should track during training. The accuracy metric is a common choice for classification tasks, as it measures the percentage of correct predictions made by the model.\n",
        "\n",
        "The fit() method is then used to train the model. It takes three required arguments: the training data (x_train), the training labels (y_train), and the number of epochs to train for (epochs). The batch_size argument specifies the number of samples per gradient update.\n",
        "\n",
        "During training, the model will iterate over the training data in batches, using the optimizer and loss function to update the model's weights and biases in an attempt to minimize the loss. The model will repeat this process for the specified number of epochs. At the end of each epoch, the model's performance on the training data will be evaluated using the specified metrics.\n",
        "\n",
        "After training, the model's performance on the test set is evaluated using the evaluate() method. This method takes two arguments: the test data (x_test) and the test labels (y_test). It returns the loss and metrics calculated on the test data.\n",
        "\n",
        "The code is then printing the test loss and test accuracy to the console. The test loss and test accuracy can be used to gauge the generalization performance of the model on unseen data."
      ],
      "metadata": {
        "id": "sI9eyjKIHEJa"
      }
    },
    {
      "cell_type": "code",
      "source": [
        "# AlexNet vs LeNet \n",
        "# AlexNet\n",
        "# Evaluate the model on the test dataset\n",
        "test_loss, test_acc = model.evaluate(x_test, y_test)\n",
        "\n",
        "# LeNet\n",
        "\n",
        "test_loss, test_acc = model.evaluate(x_test, y_test)\n",
        "print('LeNet:Test loss:', test_loss)\n",
        "print(' LeNet:Test accuracy:', test_acc)"
      ],
      "metadata": {
        "colab": {
          "base_uri": "https://localhost:8080/"
        },
        "id": "N9wDfNIo6aNZ",
        "outputId": "42ff242a-9864-4282-a8ad-755c2c4c82fb"
      },
      "execution_count": null,
      "outputs": [
        {
          "output_type": "stream",
          "name": "stdout",
          "text": [
            "313/313 [==============================] - 3s 9ms/step - loss: 0.4465 - accuracy: 0.8394\n",
            " AlexNet :Test loss: 0.4465240240097046\n",
            " Alex Net :Test accuracy: 0.8393999934196472\n",
            "313/313 [==============================] - 3s 9ms/step - loss: 0.4465 - accuracy: 0.8394\n",
            "Test loss: 0.4465240240097046\n",
            "Test accuracy: 0.8393999934196472\n",
            "313/313 [==============================] - 3s 9ms/step - loss: 0.4465 - accuracy: 0.8394\n",
            "LeNet:Test loss: 0.4465240240097046\n",
            " LeNet:Test accuracy: 0.8393999934196472\n"
          ]
        }
      ]
    },
    {
      "cell_type": "markdown",
      "source": [
        "**Comparisons**\n",
        "\n",
        "\n",
        "This code block is evaluating the AlexNet and LeNet models on the test dataset and printing the test loss and test accuracy to the console.\n",
        "\n",
        "The evaluate() method takes two arguments: the test data (x_test) and the test labels (y_test). It returns the loss and metrics calculated on the test data.\n",
        "\n",
        "The test loss and test accuracy can be used to gauge the generalization performance of the model on unseen data. Comparing the test loss and test accuracy of the two models can help to understand how well each model is performing on the MNIST-Fashion dataset."
      ],
      "metadata": {
        "id": "bOp_ZN8gH9le"
      }
    },
    {
      "cell_type": "code",
      "source": [
        "# Evaluate the model on the test dataset\n",
        "test_loss, test_acc = model.evaluate(x_test, y_test)\n",
        "print('Test loss:', test_loss)\n",
        "print('Test accuracy:', test_acc)"
      ],
      "metadata": {
        "colab": {
          "base_uri": "https://localhost:8080/"
        },
        "outputId": "e9e4a3d5-da70-4c43-fa16-0c143bbcfa98",
        "id": "K84uZj_H_ulO"
      },
      "execution_count": null,
      "outputs": [
        {
          "output_type": "stream",
          "name": "stdout",
          "text": [
            "313/313 [==============================] - 3s 11ms/step - loss: 0.3493 - accuracy: 0.9098\n",
            "Test loss: 0.349296897649765\n",
            "Test accuracy: 0.9097999930381775\n"
          ]
        }
      ]
    },
    {
      "cell_type": "code",
      "source": [
        "# Evaluate the model on the test dataset\n",
        "test_loss, test_acc = model.evaluate(x_test, y_test)\n",
        "print('Test loss:', test_loss)\n",
        "print('Test accuracy:', test_acc)"
      ],
      "metadata": {
        "colab": {
          "base_uri": "https://localhost:8080/"
        },
        "outputId": "1df00144-1877-47d7-f2ef-6e68e6161e8a",
        "id": "gEnNpZjE8nfD"
      },
      "execution_count": null,
      "outputs": [
        {
          "output_type": "stream",
          "name": "stdout",
          "text": [
            "313/313 [==============================] - 3s 9ms/step - loss: 0.4465 - accuracy: 0.8394\n",
            "Test loss: 0.4465240240097046\n",
            "Test accuracy: 0.8393999934196472\n"
          ]
        }
      ]
    },
    {
      "cell_type": "code",
      "source": [
        "# Visualizing the Training and Validation Results\n",
        "acc = history.history['accuracy']\n",
        "test_acc = history.history['accuracy']\n",
        "\n",
        "loss = history.history['loss']\n",
        "test_loss = history.history['loss']\n",
        "\n",
        "epochs_range = range(epochs)\n",
        "\n",
        "plt.figure(figsize=(8, 8))\n",
        "plt.subplot(1, 2, 1)\n",
        "plt.plot(epochs_range, acc, label='Training Accuracy')\n",
        "plt.plot(epochs_range, test_acc, label='Validation Accuracy')\n",
        "plt.legend(loc='lower right')\n",
        "plt.title('Training and Validation Accuracy')\n",
        "\n",
        "plt.subplot(1, 2, 2)\n",
        "plt.plot(epochs_range, loss, label='Training Loss')\n",
        "plt.plot(epochs_range, test_loss, label='Validation Loss')\n",
        "plt.legend(loc='upper right')\n",
        "plt.title('Training and Validation Loss')\n",
        "plt.show()"
      ],
      "metadata": {
        "colab": {
          "base_uri": "https://localhost:8080/",
          "height": 499
        },
        "id": "EJ4psDJy-VdZ",
        "outputId": "32b923cb-2284-4de9-f84b-d386318b2d59"
      },
      "execution_count": null,
      "outputs": [
        {
          "output_type": "display_data",
          "data": {
            "text/plain": [
              "<Figure size 576x576 with 2 Axes>"
            ],
            "image/png": "[encoded data removed]"
          },
          "metadata": {
            "needs_background": "light"
          }
        }
      ]
    },
    {
      "cell_type": "markdown",
      "source": [
        "acc = history.history['accuracy']: This line of code is accessing the 'accuracy' key in the history dictionary and assigning its value to the acc variable. The 'accuracy' key is a list that contains the training accuracy values for each epoch.\n",
        "\n",
        "test_acc = history.history['accuracy']: This line of code is doing the same thing as the previous line, but for the validation accuracy values. The 'val_accuracy' key in the history dictionary contains a list of the validation accuracy values for each epoch.\n",
        "\n",
        "loss = history.history['loss']: This line of code is accessing the 'loss' key in the history dictionary and assigning its value to the loss variable. The 'loss' key is a list that contains the training loss values for each epoch.\n",
        "\n",
        "test_loss = history.history['loss']: This line of code is doing the same thing as the previous line, but for the validation loss values. The 'val_loss' key in the history dictionary contains a list of the validation loss values for each epoch.\n",
        "\n",
        "epochs_range = range(epochs): This line of code is creating a range of integers from 0 to the value of the epochs variable (exclusive). This range will be used to plot the x-axis of the plots.\n",
        "\n",
        "plt.figure(figsize=(8, 8)): This line of code is creating a new figure using Matplotlib and setting its size to be 8 inches by 8 inches.\n",
        "\n",
        "plt.subplot(1, 2, 1): This line of code is creating a subplot in the current figure and setting it as the active subplot. The subplot will have 1 row, 2 columns, and will be the first subplot in the figure (indexed at 1).\n",
        "\n",
        "plt.plot(epochs_range, acc, label='Training Accuracy'): This line of code is using the plot() method of Matplotlib to plot the values in the epochs_range and acc variables on the active subplot. The label parameter is used to give the plotted line a label that will be displayed in the legend.\n",
        "\n",
        "plt.plot(epochs_range, test_acc, label='Validation Accuracy'): This line of code is doing the same thing as the previous line, but for the validation accuracy values.\n",
        "\n",
        "plt.legend(loc='lower right'): This line of code is adding a legend to the active subplot using the labels provided for each line. The loc parameter is used to specify the location of the legend on the plot.\n",
        "\n",
        "plt.title('Training and Validation Accuracy'): This line of code is adding a title to the active subplot using the provided string.\n",
        "\n",
        "plt.subplot(1, 2, 2): This line of code is creating a new subplot in the current figure and setting it as the active subplot. The subplot will have 1 row, 2 columns, and will be the second subplot in the figure (indexed at 2).\n",
        "\n",
        "plt.plot(epochs_range, loss, label='Training Loss'): This line of code is using the plot() method of Matplotlib to plot the values in the epochs_range and"
      ],
      "metadata": {
        "id": "YQT-39kpAB_z"
      }
    },
    {
      "cell_type": "code",
      "source": [
        "#Conlusion"
      ],
      "metadata": {
        "id": "CWDKCn2K_JW3"
      },
      "execution_count": null,
      "outputs": []
    },
    {
      "cell_type": "markdown",
      "source": [
        "Conclusion\n",
        "Based on the observed test accuracies of 0.9098 for AlexNet and 0.8768 for LeNet on the MNIST-Fashion dataset, it can be concluded that AlexNet performed slightly better than LeNet on this dataset. There are several potential factors that could have contributed to this difference in performance, such as the complexity of the model architecture, the optimization algorithm and hyperparameters used, and the initialization of the weights and biases. It is also worth noting that the performance of a CNN can be affected by other factors such as the size and quality of the training dataset and the computational resources available for training."
      ],
      "metadata": {
        "id": "EmDUTs6c-_vQ"
      }
    }
  ]
}