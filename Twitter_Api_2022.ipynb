{
  "cells": [
    {
      "cell_type": "markdown",
      "metadata": {
        "id": "view-in-github",
        "colab_type": "text"
      },
      "source": [
        "<a href=\"https://colab.research.google.com/github/sammainahkinya1404/Machine-Learning/blob/main/Twitter_Api_2022.ipynb\" target=\"_parent\"><img src=\"https://colab.research.google.com/assets/colab-badge.svg\" alt=\"Open In Colab\"/></a>"
      ]
    },
    {
      "cell_type": "markdown",
      "metadata": {
        "id": "i09ysvp5lg-k"
      },
      "source": [
        "# <span style=\"color:#0b486b\">SIT 112 - Data Science Concepts - Assignment 2</span>\n",
        "---\n",
        "Lecturer: Shalini Stephen | shalini.stephen@deakin.edu.au<br />\n",
        "\n",
        "## Deakin College  \n",
        "##### Associated with Deakin University, VIC 3125, Australia\n",
        "\n",
        "### <span style=\"color:#0b486b\">Due: Week 10 Saturday, 14th January 2023, by 11:55 pm </span>\n",
        "---"
      ]
    },
    {
      "cell_type": "markdown",
      "metadata": {
        "id": "J4nIs7V7lg-q"
      },
      "source": [
        "## <span style=\"color:#0b486b\">Instructions</span>\n",
        "\n",
        "This notebook has been prepared for you to complete Assignment 2. Some sections have been partially completed  to help you get started. **The total marks for this notebook is 100**.\n",
        "\n",
        "* Before you start, read the entire notebook carefully to understand what you need to do. You should also refer to the main instructions in *Assignment2_instructions.pdf*  to know what else you need to complete for this assignment as well submission instruction. <br><br>\n",
        "\n",
        "* Instructions marked with **(D)** and **(HD)** are for students aiming at high grades. They are more involved and can be completed after all other instructions.\n",
        "\n",
        "\n",
        "* For each cell marked with **#YOU ARE REQUIRED TO INSERT YOUR CODE IN THIS CELL**, there will be places where you **must** supply your own codes when instructed. <br><br>\n",
        "\n",
        "* For each cell marked with **#YOU ARE REQUIRED TO INSERT YOUR COMMENT IN THIS CELL**, there will be place where you **must** provide your own comment when instructed. <br><br>\n",
        "\n",
        "* For each graphic/ chart / plot you created **YOU ARE REQUIRED to provide** X-label, Y-label and Title. <br><br>\n",
        "* For any output of your code execution **YOU ARE REQUIRED to provide** very brief explanatory information (can be a few words). <br><br>\n",
        "\n",
        "You need to provide simple explanatory information (with a few words) to \n",
        "\n",
        "### Submission\n",
        "\n",
        "You are required to submit **five** files: <br><br>\n",
        "\n",
        "* The source of your solution notebook: **[groupID]_assignment2_solution.ipynb** (you may need to rename it to .txt for the university system to accept it)\n",
        "* An exported version of your output: **[groupID]_assignment2_output.html**  \n",
        "* Three json data files storing tweets collected for the three keywords, named **[groupID]_[w1].json**, **[groupID]_[w2].json**, **[groupID]_[w3].json** where **[w1], [w2], [w3]** are the three keywords you have been provided.\n",
        "    \n",
        "\n",
        "\n",
        "As you go through this notebook:\n",
        "\n",
        "* markdown cells marked with **Note** mean description sections.\n",
        "* markdown cells marked with **Instruction** mean the instructions given to you to complete the designated section."
      ]
    },
    {
      "cell_type": "markdown",
      "metadata": {
        "id": "MjdT3F0Xlg-r"
      },
      "source": [
        "## <span style=\"color:#0b486b\">Part 1: Crawling and Storing Tweet Data</span>\n",
        "\n",
        "\n",
        "The first part of the assignment examines your skills and knowledge to query tweets and store them in json files. For **each** provided keyword, your tasks are:\n",
        "\n",
        "* Crawl all tweets which contain this keyword written in English and geocoded within the location, provided for your group.\n",
        "* Store the tweets collected into json files.\n",
        "\n",
        "***Follow the instructions below to complete your task***."
      ]
    },
    {
      "cell_type": "markdown",
      "metadata": {
        "id": "HC7AJnYplg-s"
      },
      "source": [
        "**Note**: The following packages will be required for this assignment. If you need to import more packages, you might append them to the end of the following cell."
      ]
    },
    {
      "cell_type": "code",
      "source": [
        "!pip install TwitterAPI\n"
      ],
      "metadata": {
        "colab": {
          "base_uri": "https://localhost:8080/"
        },
        "id": "bPajdRYSoR3E",
        "outputId": "26ee142c-05c4-4794-f56a-e69a9146ef16"
      },
      "execution_count": 49,
      "outputs": [
        {
          "output_type": "stream",
          "name": "stdout",
          "text": [
            "Looking in indexes: https://pypi.org/simple, https://us-python.pkg.dev/colab-wheels/public/simple/\n",
            "Requirement already satisfied: TwitterAPI in /usr/local/lib/python3.8/dist-packages (2.8.1)\n",
            "Requirement already satisfied: requests-oauthlib in /usr/local/lib/python3.8/dist-packages (from TwitterAPI) (1.3.1)\n",
            "Requirement already satisfied: requests in /usr/local/lib/python3.8/dist-packages (from TwitterAPI) (2.25.1)\n",
            "Requirement already satisfied: idna<3,>=2.5 in /usr/local/lib/python3.8/dist-packages (from requests->TwitterAPI) (2.10)\n",
            "Requirement already satisfied: chardet<5,>=3.0.2 in /usr/local/lib/python3.8/dist-packages (from requests->TwitterAPI) (4.0.0)\n",
            "Requirement already satisfied: certifi>=2017.4.17 in /usr/local/lib/python3.8/dist-packages (from requests->TwitterAPI) (2022.12.7)\n",
            "Requirement already satisfied: urllib3<1.27,>=1.21.1 in /usr/local/lib/python3.8/dist-packages (from requests->TwitterAPI) (1.24.3)\n",
            "Requirement already satisfied: oauthlib>=3.0.0 in /usr/local/lib/python3.8/dist-packages (from requests-oauthlib->TwitterAPI) (3.2.2)\n"
          ]
        }
      ]
    },
    {
      "cell_type": "code",
      "execution_count": 50,
      "metadata": {
        "id": "kX0cBU49lg-t"
      },
      "outputs": [],
      "source": [
        "#Import packages needed for processing\n",
        "import re\n",
        "import json\n",
        "import xml\n",
        "import numpy as np\n",
        "from collections import Counter\n",
        "from TwitterAPI import TwitterAPI # in case you need to install this package, see practical 6\n",
        "from sklearn.cluster import KMeans\n",
        "\n",
        "import requests\n",
        "\n",
        "# disabling urllib3 warnings\n",
        "requests.packages.urllib3.disable_warnings()\n",
        "\n",
        "import matplotlib.pyplot as plt\n",
        "%matplotlib inline\n",
        "\n",
        "#If you need add any additional packages, then add them below\n",
        "\n"
      ]
    },
    {
      "cell_type": "markdown",
      "metadata": {
        "id": "hZGCrN4mlg-u"
      },
      "source": [
        "**Instruction 1.1**. Enter your provided keywords to the variable **keywords** below.\n",
        "\n",
        "[**Total mark: 1**]"
      ]
    },
    {
      "cell_type": "code",
      "execution_count": 51,
      "metadata": {
        "id": "8iGT4OcNlg-v"
      },
      "outputs": [],
      "source": [
        "# YOU ARE REQUIRED TO INSERT YOUR CODE IN THIS CELL\n",
        "\n",
        "#Enter the list of three keywords you selected to the variables keywords below\n",
        "#e.g. keywords = [\"abc\", \"def\", \"ghi\"]\n",
        "\n",
        "keywords =  [\"climate change\", \"renewable energy\", \"carbon emissions\"]"
      ]
    },
    {
      "cell_type": "markdown",
      "metadata": {
        "collapsed": true,
        "id": "3G4BZOhElg-v"
      },
      "source": [
        "**Instruction 1.2**. Before you can perform a query to Twitter API, you need to supply authentication information. Practical sessions 6 and 7 show you how to obtain this information. **Your task is to supply the authentication information in the cell below**.\n",
        "\n",
        "**Note**: You might decide to regenerate this authentication from the pracs if you would like too. <span style=\"color:red\">After the assignment has been marked, you are strongly recommended to regenerate this authentication information from your account to maintain your privacy.</span> \n",
        "\n",
        "\n",
        "[**Total mark: 3**]"
      ]
    },
    {
      "cell_type": "code",
      "execution_count": 52,
      "metadata": {
        "id": "Mom12dQIlg-w"
      },
      "outputs": [],
      "source": [
        "# YOU ARE REQUIRED TO INSERT YOUR CODE IN THIS CELL\n",
        "\n",
        "# Twitter API credentials \n",
        "CONSUMER_KEY = 'qR7yQ8M24um5QY6vr2XpBzzM9'\n",
        "CONSUMER_SECRET = 'KZxCYRqdWX2PBx1XAUJpAkCv7dHPoqCS1Iw2xWitUeYn6BaiFt' #ENTER YOUR CONSUMER_SECRET\n",
        "# OAUTH_TOKEN =  #ENTER YOUR OAUTH_TOKEN\n",
        "# OAUTH_TOKEN_SECRET =  #ENTER YOUR OAUTH_TOKEN_SECRET\n",
        "\n",
        "# Authonticating with your application credentials\n",
        "api = TwitterAPI(CONSUMER_KEY, CONSUMER_SECRET, auth_type='oAuth2')\n",
        "\n",
        "                "
      ]
    },
    {
      "cell_type": "markdown",
      "metadata": {
        "id": "RZU56kBhlg-w"
      },
      "source": [
        "**Note**: As you have learned from the pracical sessions, to perform a query from Twitter API for a particular geo-coded location you need a center point and a radius. The center point is specified by its (latitude,longitute) pair. **The information below has been provided to you to perform the query in the subsequent tasks**."
      ]
    },
    {
      "cell_type": "code",
      "execution_count": 53,
      "metadata": {
        "id": "ERT2KAPElg-x"
      },
      "outputs": [],
      "source": [
        "# YOU ARE REQUIRED TO INSERT YOUR CODE IN THIS CELL\n",
        "# geo coordinations of the desired place\n",
        "PLACE_LAT = 37.781157\n",
        "PLACE_LON = -122.399797\n",
        "PLACE_RAD = 1\n"
      ]
    },
    {
      "cell_type": "markdown",
      "metadata": {
        "id": "Oru6J3iNlg-x"
      },
      "source": [
        "**Instruction 1.3**. For each keyword, you are required to crawl at least **200** tweets (the more the better) using the Twitter API. However, as you have learned from the practical sessions, each query will return a maximum of only **100** tweets. Therefore, subsequent query **must** use the maximum Tweet ID from the previous batch to crawl the next lot.\n",
        "\n",
        "The following function, called ***retrieve_tweets()***, has been **partially** implemented to automatically download tweets until it reaches the maximum number of tweets needed. \n",
        "\n",
        "For example, a function call\n",
        "```\n",
        "retrieve_tweets(api, 'car', 50, 200, latitude, longitude, radius)\n",
        "```\n",
        "will attempt to crawl a total of at least 200 tweets that contains the word 'car' for a location with given latitude, longidude and radius around it. Within each single query, it will attempt to obtain 50 tweets.\n",
        "\n",
        "**Your task is to walk through this function and enter your own codes where instructed to complete the function**.\n",
        "\n",
        "[**Total mark: 5**]"
      ]
    },
    {
      "cell_type": "code",
      "execution_count": 54,
      "metadata": {
        "id": "ZkG2cBRUlg-y"
      },
      "outputs": [],
      "source": [
        "# YOU ARE REQUIRED TO INSERT YOUR CODE IN THIS CELL\n",
        "'''\n",
        "You will be required to insert your own codes to complete this function. \n",
        "Walk through this function and enter your own codes where instructed.\n",
        "'''\n",
        "def retrieve_tweets(api, keyword, batch_count, total_count, latitude, longitude, radius):\n",
        "    \"\"\"\n",
        "    collects tweets using the Twitter search API\n",
        "    \n",
        "    api:         Twitter API instance\n",
        "    keyword:     search keyword\n",
        "    batch_count: maximum number of tweets to collect per each request\n",
        "    total_count: maximum number of tweets in total\n",
        "    \"\"\"\n",
        "\n",
        "    \n",
        "    # the collection of tweets to be returned\n",
        "    tweets_unfiltered = []\n",
        "    tweets = []\n",
        "    \n",
        "    # the number of tweets within a single query\n",
        "    batch_count = str(batch_count)\n",
        "    \n",
        "    '''\n",
        "    You are required to insert your own code where instructed to perform the first query to Twitter API.\n",
        "    Hint: revise the practical session on Twitter API on how to perform query to Twitter API.\n",
        "    '''\n",
        "    # per the first query, to obtain max_id_str which will be used later to query sub\n",
        "    resp = api.request('search/tweets', {'q':keyword,\n",
        "                                         'count':batch_count,\n",
        "                                         'lang':'en',\n",
        "                                         'result_type':'recent',\n",
        "                                         'geocode':'{},{},{}mi'.format(latitude, longitude, radius)})\n",
        "    \n",
        "    # store the tweets in a list\n",
        "\n",
        "    # check first if there was an error\n",
        "    if ('errors' in resp.json()):\n",
        "        errors = resp.json()['errors']\n",
        "        if (errors[0]['code'] == 88):\n",
        "            print('Too many attempts to load tweets.')\n",
        "            print('You need to wait for a few minutes before accessing Twitter API again.')\n",
        "    \n",
        "    if ('statuses' in resp.json()):\n",
        "        tweets_unfiltered += resp.json()['statuses']\n",
        "        tweets = [tweet for tweet in tweets_unfiltered if ((tweet['retweeted'] != True) and ('RT @' not in tweet['text']))]\n",
        "    \n",
        "        # find the max_id_str for the next batch\n",
        "        ids = [tweet['id'] for tweet in tweets_unfiltered]\n",
        "        max_id_str = str(min(ids))\n",
        "\n",
        "        # loop until as many tweets as total_count is collected\n",
        "        number_of_tweets = len(tweets)\n",
        "        while number_of_tweets < total_count:\n",
        "\n",
        "            resp = api.request('search/tweets', {'q':keyword,\n",
        "                                             'count': batch_count,\n",
        "                                             'lang':'en',\n",
        "                                             'result_type':'recent',\n",
        "                                             'max_id': max_id_str,\n",
        "                                             'geocode': '{},{},{}mi'.format(latitude, longitude, radius)\n",
        "                                             }\n",
        "                          )\n",
        "\n",
        "            if ('statuses' in resp.json()):\n",
        "                tweets_unfiltered += resp.json()['statuses']\n",
        "                tweets = [tweet for tweet in tweets_unfiltered if ((tweet['retweeted'] != True) and ('RT @' not in tweet['text']))]\n",
        " \n",
        "                ids = [tweet['id'] for tweet in tweets_unfiltered]\n",
        "                max_id_str = str(min(ids))\n",
        "            \n",
        "                number_of_tweets = len(tweets)\n",
        "        \n",
        "            print(\"{} tweets are collected for keyword {}. Last tweet created at {}\".format(number_of_tweets, \n",
        "                                                                                    keyword, \n",
        "                                                                                    tweets[number_of_tweets-1]['created_at']))\n",
        "    return tweets"
      ]
    },
    {
      "cell_type": "markdown",
      "metadata": {
        "id": "B127H7ddlg-z"
      },
      "source": [
        "**Instruction 1.4**. After having defined the ***retrieve_tweets()*** function above, you are now ready to use this function to collect your tweets. Your task is to write the code to perform three function calls, each of which corresponds to one keyword. And, you are required to collect at least **200** tweets for each keyword (the more the better).\n",
        "\n",
        "[**Total mark: 5**]"
      ]
    },
    {
      "cell_type": "code",
      "execution_count": 12,
      "metadata": {
        "id": "hXK8w5Lilg-z"
      },
      "outputs": [],
      "source": [
        "# YOU ARE REQUIRED TO INSERT YOUR CODE IN THIS CELL\n",
        "'''\n",
        "Your task is to write the code to perform three function calls, each corresponds to one keyword. \n",
        "And, you are required to collect at least 200 tweets for each key word.\n",
        "'''\n",
        "\n",
        "\n",
        "# Your function call should look like this:  \n",
        "#      retrieve_tweets(api, keyword, batch_count, total_count, latitude, longitude, radius)\n",
        "# Collecting the tweets for three assigned keywords\n",
        "k1_tweets = retrieve_tweets(api, keywords[0], 100, 200, PLACE_LAT, PLACE_LON, PLACE_RAD)\n",
        "k2_tweets = retrieve_tweets(api, keywords[1], 100, 200, PLACE_LAT, PLACE_LON, PLACE_RAD)\n",
        "k3_tweets = retrieve_tweets(api, keywords[2], 100, 200, PLACE_LAT, PLACE_LON, PLACE_RAD)\n",
        "\n",
        "\n",
        "# PLEASE NOTE THAT IF YOU RUN THIS CELL, IT MIGHT TAKE A WHILE TO DOWNLOAD ALL THE TWEETS REQUIRED.\n",
        "# MAKE SURE THAT YOU WAIT UNTILL THE CELL FINISHES RUNNING."
      ]
    },
    {
      "cell_type": "markdown",
      "metadata": {
        "id": "Z2eE8JUZlg-z"
      },
      "source": [
        "**Instruction 1.5**. To verify the downloading process, write your code to print out the number of tweets which has been collected for each keyword.\n",
        "\n",
        "[**Total mark: 2**]"
      ]
    },
    {
      "cell_type": "code",
      "execution_count": 17,
      "metadata": {
        "colab": {
          "base_uri": "https://localhost:8080/"
        },
        "id": "ujSEp2SQlg-0",
        "outputId": "b0e7e1b5-adc6-4dd6-98ea-6db51debd729"
      },
      "outputs": [
        {
          "output_type": "stream",
          "name": "stdout",
          "text": [
            "Number of tweets collected for keyword 1: 0\n",
            "Number of tweets collected for keyword 2: 0\n",
            "Number of tweets collected for keyword 3: 0\n"
          ]
        }
      ],
      "source": [
        "# YOU ARE REQUIRED TO INSERT YOUR CODE IN THIS CELL\n",
        "# '''\n",
        "# Write your code to print the number of tweets have been collected for each keyword\n",
        "# '''\n",
        "print(\"Number of tweets collected for keyword 1:\", len(k1_tweets))\n",
        "print(\"Number of tweets collected for keyword 2:\", len(k2_tweets))\n",
        "print(\"Number of tweets collected for keyword 3:\", len(k3_tweets))\n",
        "\n",
        "# INSERT YOUR CODE HERE\n"
      ]
    },
    {
      "cell_type": "markdown",
      "metadata": {
        "id": "Hw2cOf0Jlg-0"
      },
      "source": [
        "**Note:** Each tweet is stored in a dictionary where its keywords are fields in the tweet and values are the information of the fields. The cell below print the type of a tweet."
      ]
    },
    {
      "cell_type": "markdown",
      "metadata": {
        "id": "zJWlkf9Flg-0"
      },
      "source": [
        "**Instruction 1.6**.  To examine what the tweets look like, in the cell below write your code to print out all fields of the first tweet in `k1_tweets` and print out the text of the first tweet collected for each keyword.\n",
        "\n",
        "[**Total mark: 4**]"
      ]
    },
    {
      "cell_type": "code",
      "source": [
        "# Data fields of the first tweet\n",
        "print(\"All fields of the first tweet:\")\n",
        "print(k1_tweets[0].keys())\n",
        "\n",
        "# Text of the first tweet\n",
        "print(\"\\nThe text of the first tweet for \\\"{}\\\":\\n\".format(keywords[0]), k1_tweets[0]['text'])\n",
        "print(\"\\nThe text of the first tweet for \\\"{}\\\":\\n\".format(keywords[1]), k2_tweets[0]['text'])\n",
        "print('\\nThe text of the first tweet for \\\"{}\\\":\\n'.format(keywords[2]), k3_tweets[0]['text'])\n"
      ],
      "metadata": {
        "id": "OZOXz6Vs-J4D"
      },
      "execution_count": null,
      "outputs": []
    },
    {
      "cell_type": "markdown",
      "metadata": {
        "id": "JX65byj-lg-1"
      },
      "source": [
        "**Note**. When collecting data from the Internet, such as Twitter, it is important that we store the data collected in an appropriate format for later data analysis task. We have learned that json is a poplular lightweight data format that can be handy to store unstructured data. For example, with NoSQL we can directly query these files in a 'scaling out' fashion. These technologies are representative features of Big Data Analytics.\n",
        "\n",
        "The following function has been designed for you to save an object which is a list of dictionaries (such as k1_tweets variable) to a json file. **You will need this function for your next task**."
      ]
    },
    {
      "cell_type": "code",
      "execution_count": 20,
      "metadata": {
        "id": "V-72RoZdlg-1"
      },
      "outputs": [],
      "source": [
        "def save_to_json(obj, filename):\n",
        "    \"\"\"\n",
        "    saves a list of dictionaries into a json file\n",
        "    \n",
        "    obj: list of dictionaries\n",
        "    filename: filename\n",
        "    \"\"\"\n",
        "    with open(filename, 'w') as fp:\n",
        "        json.dump(obj, fp, indent=4, sort_keys=True)   "
      ]
    },
    {
      "cell_type": "markdown",
      "metadata": {
        "id": "MnZGeqS-lg-1"
      },
      "source": [
        "**Instruction 1.7**. Use the function ***save_to_json()*** defined above, for each collection of tweets you have crawled for each keyword, save them into a file named **w.json** where **w** is the keyword.\n",
        "\n",
        "For example, if your keywords are 'w1', 'w2' and 'w3', then your code must generate three file w1.json, w2.json and w3.json. **Important: you must submit these files together with your notebook solution**.\n",
        "\n",
        "[**Total mark: 5**]"
      ]
    },
    {
      "cell_type": "code",
      "execution_count": 21,
      "metadata": {
        "id": "-Wn_hBwZlg-2"
      },
      "outputs": [],
      "source": [
        "# YOU ARE REQUIRED TO INSERT YOUR CODE IN THIS CELL\n",
        "'''\n",
        "Use the save_to_json() function defined above, for the collection of tweets \n",
        "you have crawled for each keyword, save them into a file named w.json where w is the keyword, taken from keywords list.\n",
        "'''\n",
        "# saving the tweets in three json files, one for each keyword\n",
        "# Saving tweets to json files\n",
        "save_to_json(k1_tweets, keywords[0] + '.json')\n",
        "save_to_json(k2_tweets, keywords[1] + '.json')\n",
        "save_to_json(k3_tweets, keywords[2] + '.json')\n",
        "\n",
        "\n"
      ]
    },
    {
      "cell_type": "markdown",
      "metadata": {
        "id": "RfDoyq0llg-2"
      },
      "source": [
        "###                                     END OF PART 1\n",
        "----"
      ]
    },
    {
      "cell_type": "markdown",
      "metadata": {
        "id": "xhRfOK6Dlg-2"
      },
      "source": [
        "## Part 2: Data Analytics\n",
        "\n",
        "### NOTE: ONCE YOU LOADED THE TWEETS AND SAVED JSONS, YOU DO NOT NEED TO REDOWNLOAD THE TWEETS. YOU CAN LOAD THEM FROM JSONS IN THE FOLLOWING SECTION.\n",
        "\n",
        "The second part of this assignment will examine your skills and knowlege in data manipulation and analysis tasks. It includes three main components:\n",
        "\n",
        "**Part 2A**. For each keyword, you will be required to load the tweets from your saved json files (from Part 1) and filter out all tweets that are too short.\n",
        "\n",
        "**Part 2B**. Using your knowledge from practical sessions 5, 6 and 7, you will be required to construct the term-by-document matrix for the tweets and to perform visualisation tasks to understand them.\n",
        "\n",
        "**Part 2C**. You will apply the Kmeans clustering algorithm to cluster your tweets and report the clustering results.\n",
        "\n",
        "***Follow the instructions below to complete your assigned tasks***."
      ]
    },
    {
      "cell_type": "markdown",
      "metadata": {
        "id": "IM2ZIed5lg-2"
      },
      "source": [
        "### Part 2A: Load and Filter Tweets from Files"
      ]
    },
    {
      "cell_type": "markdown",
      "metadata": {
        "id": "RJLTrj35lg-2"
      },
      "source": [
        "**Instruction 2.1**. The following function, named ***read_json_file()***, has been partially implemented to load data from a json file. This function will be used later on to load three json files you have saved from Part 1. Your task is to insert your own code where instructed to complete this function.\n",
        "\n",
        "[**Total mark: 3**]"
      ]
    },
    {
      "cell_type": "code",
      "execution_count": 22,
      "metadata": {
        "id": "zQ2ULA3Flg-3"
      },
      "outputs": [],
      "source": [
        "def read_json_file(filename):\n",
        "    \"\"\"\n",
        "    reads from a json file and saves the result in a list named data\n",
        "    \"\"\"\n",
        "    with open(filename, 'r') as fp:\n",
        "        content = fp.read()\n",
        "    \n",
        "    data = json.loads(content)\n",
        "    return data\n"
      ]
    },
    {
      "cell_type": "markdown",
      "metadata": {
        "id": "0ETbe4ellg-3"
      },
      "source": [
        "**Instruction 2.2**. Now use the ***read_json_file()*** function defined above, write three function calls to load data from three json files you have saved from Part 1.\n",
        "\n",
        "[**Total mark: 4**]"
      ]
    },
    {
      "cell_type": "code",
      "execution_count": 24,
      "metadata": {
        "id": "423aRxJWlg-3"
      },
      "outputs": [],
      "source": [
        "# YOU ARE REQUIRED TO INSERT YOUR CODE IN THIS CELL\n",
        "'''\n",
        "Write three function calls to load data from three json files you have saved from Part 1.\n",
        "'''\n",
        "# Loading tweets from json files\n",
        "k1_tweets = read_json_file(keywords[0] + '.json')\n",
        "k2_tweets = read_json_file(keywords[1] + '.json')\n",
        "k3_tweets = read_json_file(keywords[2] + '.json')\n"
      ]
    },
    {
      "cell_type": "markdown",
      "metadata": {
        "id": "d00e8oAblg-3"
      },
      "source": [
        "**Instruction 2.3**. To examine the number of tweets loaded from your data files, write your code to print out the number of tweets containes in three variables: ***k1_tweets, k2_tweets*** and ***k3_tweets***.\n",
        "\n",
        "[**Total mark: 2**]"
      ]
    },
    {
      "cell_type": "code",
      "execution_count": 25,
      "metadata": {
        "colab": {
          "base_uri": "https://localhost:8080/"
        },
        "id": "IhrYz8UZlg-3",
        "outputId": "6cc9fbfe-63d3-494d-d017-1740c3b4a10c"
      },
      "outputs": [
        {
          "output_type": "stream",
          "name": "stdout",
          "text": [
            "Number of tweets loaded for keyword 1: 0\n",
            "Number of tweets loaded for keyword 2: 0\n",
            "Number of tweets loaded for keyword 3: 0\n"
          ]
        }
      ],
      "source": [
        "# YOU ARE REQUIRED TO INSERT YOUR CODE IN THIS CELL\n",
        "'''\n",
        "Write your code to print out the number of tweets containes in three variables: \n",
        "k1_tweets, k2_tweets and k3_tweets\n",
        "'''\n",
        "#INSERT YOUR CODE HERE\n",
        "# Loading tweets from json files\n",
        "# Print number of tweets loaded from json files\n",
        "print(\"Number of tweets loaded for keyword 1:\", len(k1_tweets))\n",
        "print(\"Number of tweets loaded for keyword 2:\", len(k2_tweets))\n",
        "print(\"Number of tweets loaded for keyword 3:\", len(k3_tweets))\n",
        "\n",
        "\n"
      ]
    },
    {
      "cell_type": "markdown",
      "metadata": {
        "id": "ZNoAM3GZlg-4"
      },
      "source": [
        "**Note**. When analysing tweets and text documents in general, an important analytics skill is to pre-process and filter the data into the form that one can start to apply analytics methods to extract knowledge. \n",
        "\n",
        "Tweets that are too short might not be useful for analysis. We define that tweets having less than 50 characters are short and should be remove. "
      ]
    },
    {
      "cell_type": "markdown",
      "metadata": {
        "id": "z3aZ-qmOlg-4"
      },
      "source": [
        "**Instruction 2.4**. In this task, you need to filter all short tweets.\n",
        "\n",
        "1. Write a function called `is_short_tweet` that takes a tweet as an input and return True if the text of the tweet has less than 50 characters and False otherwise. **(5 marks)**\n",
        "\n",
        "2. Write your codes to remove all tweets that have less than 50 characters in variables ***k1_tweets***, ***k2_tweets*** and ***k3_tweets*** and store the results in the new variables ***k1_tweets_filtered***, ***k2_tweets_filtered*** and ***k3_tweets_filtered***, respectively. **(5 marks)**\n",
        "\n",
        "[**Total mark: 10**]"
      ]
    },
    {
      "cell_type": "code",
      "execution_count": 26,
      "metadata": {
        "id": "-Cj78-fzlg-4"
      },
      "outputs": [],
      "source": [
        "# YOU ARE REQUIRED TO INSERT YOUR CODE IN THIS CELL\n",
        "# def is_short_tweet(tweet):\n",
        "#     '''\n",
        "#     Check if the text of \"tweet\" has less than 50 characters\n",
        "#     '''\n",
        "#     # INSERT YOUR CODE HERE\n",
        "def is_short_tweet(tweet):\n",
        "    \"\"\"\n",
        "    returns True if the tweet's text has less than 50 characters, False otherwise\n",
        "    \"\"\"\n",
        "    return len(tweet['text']) < 50\n",
        "\n",
        "# Filtering short tweets\n",
        "k1_tweets_filtered = list(filter(lambda x: not is_short_tweet(x), k1_tweets))\n",
        "k2_tweets_filtered = list(filter(lambda x: not is_short_tweet(x), k2_tweets))\n",
        "k3_tweets_filtered = list(filter(lambda x: not is_short_tweet(x), k3_tweets))\n"
      ]
    },
    {
      "cell_type": "code",
      "execution_count": 27,
      "metadata": {
        "colab": {
          "base_uri": "https://localhost:8080/"
        },
        "id": "mBlUso45lg-4",
        "outputId": "50d8322b-e79c-4db4-dd27-e890f52aa960"
      },
      "outputs": [
        {
          "output_type": "stream",
          "name": "stdout",
          "text": [
            "0 0\n",
            "0 0\n",
            "0 0\n"
          ]
        }
      ],
      "source": [
        "# YOU ARE REQUIRED TO INSERT YOUR CODES IN THIS CELL\n",
        "'''\n",
        "Write your codes to remove all tweets which have less than 50 characters in variables \n",
        "k1_tweets, k2_tweets and k3_tweets and store the results in the new variables \n",
        "k1_tweets_filtered, k2_tweets_filtered and k3_tweets_filtered respectively\n",
        "'''\n",
        "# INSERT YOUR CODE HERE\n",
        "# Filtering short tweets\n",
        "k1_tweets_filtered = [tweet for tweet in k1_tweets if len(tweet['text']) >= 50]\n",
        "k2_tweets_filtered = [tweet for tweet in k2_tweets if len(tweet['text']) >= 50]\n",
        "k3_tweets_filtered = [tweet for tweet in k3_tweets if len(tweet['text']) >= 50]\n",
        "\n",
        "# these lines below print the number of tweets for each keyword before and after filtered.\n",
        "print(len(k1_tweets), len(k1_tweets_filtered))\n",
        "print(len(k2_tweets), len(k2_tweets_filtered))\n",
        "print(len(k3_tweets), len(k3_tweets_filtered))"
      ]
    },
    {
      "cell_type": "markdown",
      "metadata": {
        "id": "L_fwBG7Ylg-4"
      },
      "source": [
        "**Instruction 2.5**. For each keyword, print out the number of tweets that have been removed.\n",
        "\n",
        "[**Total mark: 2**]"
      ]
    },
    {
      "cell_type": "code",
      "execution_count": 28,
      "metadata": {
        "colab": {
          "base_uri": "https://localhost:8080/"
        },
        "id": "Og4TrG_Elg-5",
        "outputId": "466bae2d-6dda-4ece-b5a2-42cd99765371"
      },
      "outputs": [
        {
          "output_type": "stream",
          "name": "stdout",
          "text": [
            "Number of removed tweets for keyword 1: 0\n",
            "Number of removed tweets for keyword 2: 0\n",
            "Number of removed tweets for keyword 3: 0\n"
          ]
        }
      ],
      "source": [
        "# YOU ARE REQUIRED TO INSERT YOUR CODE IN THIS CELL\n",
        "# '''\n",
        "# For each keyword, print out the number of tweets that have been removed.\n",
        "# '''\n",
        "\n",
        "# INSERT YOUR CODE HERE\n",
        "# Print number of removed tweets\n",
        "print(\"Number of removed tweets for keyword 1:\", len(k1_tweets) - len(k1_tweets_filtered))\n",
        "print(\"Number of removed tweets for keyword 2:\", len(k2_tweets) - len(k2_tweets_filtered))\n",
        "print(\"Number of removed tweets for keyword 3:\", len(k3_tweets) - len(k3_tweets_filtered))\n"
      ]
    },
    {
      "cell_type": "markdown",
      "metadata": {
        "id": "nNPxWN1Ulg-5"
      },
      "source": [
        "**Instruction 2.6**. To examine what the tweets look like after being loaded from the data files and filtered, in the cell below write your code to print out the first **5** tweets for each keyword. \n",
        "\n",
        "You **must** use the variables ***k1_tweets_filtered, k2_tweets_filtered*** and ***k3_tweets_filtered*** which have stored the data after the filtering process for this task.\n",
        "\n",
        "[**Total mark: 4**]"
      ]
    },
    {
      "cell_type": "code",
      "execution_count": 31,
      "metadata": {
        "colab": {
          "base_uri": "https://localhost:8080/"
        },
        "id": "dKgsIPxklg-5",
        "outputId": "3e842065-a6f7-46f3-a17f-fe755c5a5260"
      },
      "outputs": [
        {
          "output_type": "stream",
          "name": "stdout",
          "text": [
            "First 5 tweets for keyword 1:\n",
            "\n",
            "\n",
            "\n",
            "\n",
            "\n",
            "\n",
            "First 5 tweets for keyword 2:\n",
            "\n",
            "\n",
            "\n",
            "\n",
            "\n",
            "\n",
            "First 5 tweets for keyword 3:\n",
            "\n",
            "\n",
            "\n",
            "\n",
            "\n",
            "\n"
          ]
        }
      ],
      "source": [
        "# # YOU ARE REQUIRED TO INSERT YOUR CODE IN THIS CELL\n",
        "# '''\n",
        "# Write your code to print out the first 5 tweets for each keyword.\n",
        "# You must use the variables k1_tweets_filtered, k2_tweets_filtered and k3_tweets_filtered \n",
        "# which have stored the data after the filtering process for this task.\n",
        "\n",
        "# Hint: Using tweet['text'] for tweet in k1_tweets_filtered\n",
        "# '''\n",
        "\n",
        "# print('The first 5 tweets for \\\"{}\\\":\\n'.format(keywords[0]))\n",
        "# # # INSERT YOUR CODE HERE\n",
        "# # Print first 5 tweets after filtering\n",
        "# print(\"First 5 tweets for keyword 1:\\n\")\n",
        "# for i in range(5):\n",
        "#     print(k1_tweets_filtered[i]['text'])\n",
        "#     print()\n",
        "    \n",
        "# print(\"First 5 tweets for keyword 2:\\n\")\n",
        "# for i in range(5):\n",
        "#     print(k2_tweets_filtered[i]['text'])\n",
        "#     print()\n",
        "\n",
        "# print(\"First 5 tweets for keyword 3:\\n\")\n",
        "# for i in range(5):\n",
        "#     print(k3_tweets_filtered[i]['text'])\n",
        "#     print()\n",
        "\n",
        "\n",
        "# print('\\nThe first 5 tweets for \\\"{}\\\":\\n'.format(keywords[1]))\n",
        "# # INSERT YOUR CODE HERE \n",
        "\n",
        "\n",
        "# print('\\nThe first 5 tweets for \\\"{}\\\":\\n'.format(keywords[2]))\n",
        "# INSERT YOUR CODE HERE\n",
        "# Print first 5 tweets after filtering\n",
        "print(\"First 5 tweets for keyword 1:\\n\")\n",
        "for i in range(5):\n",
        "    print(k1_tweets_filtered[i]['text'])\n",
        "    print()\n",
        "    \n",
        "print(\"First 5 tweets for keyword 2:\\n\")\n",
        "for i in range(5):\n",
        "    print(k2_tweets_filtered[i]['text'])\n",
        "    print()\n",
        "\n",
        "print(\"First 5 tweets for keyword 3:\\n\")\n",
        "for i in range(5):\n",
        "    print(k3_tweets_filtered[i]['text'])\n",
        "    print()\n",
        "\n"
      ]
    },
    {
      "cell_type": "markdown",
      "metadata": {
        "id": "JXHbyop7lg-5"
      },
      "source": [
        "### Part 2B: Constructing Term-by-Document Matrix\n",
        "\n",
        "As we have learned in our class, in text analytics and in general dealing with unstructured data, to start perform **computational** tasks such as computing the distance between two documents, we need to represent them in **numerical** formats. A popular technique we have learned is the bag-of-word representation and the term-by-document matrix, also known as the vector-space model.\n",
        "\n",
        "This part of the assignment will require you to construct the term-by-document matrix for the tweets stored in three variables ***k1_tweets_filtered***, ***k2_tweets_filtered*** and ***k3_tweets_filtered***."
      ]
    },
    {
      "cell_type": "markdown",
      "metadata": {
        "id": "sy_fUUSxlg-5"
      },
      "source": [
        "**Note.** Tweets are often not neat as you might have seen from early tasks. As tweet such as this \n",
        "```\n",
        "Happy shopping👗👚👠👜 (with Vivi and Irmalia at @infomog) — https://t.co/fUGO9Eex1r\n",
        "```\n",
        "might contain non-ASCII characters, emoticon, punctuations, etc. Building a bag-of-word representation **without** pre-processing the data can be ineffective. \n",
        "\n",
        "The following function ***pre_process()*** has been designed to preprocess the data for you."
      ]
    },
    {
      "cell_type": "code",
      "execution_count": 32,
      "metadata": {
        "id": "ru_BUGvQlg-6"
      },
      "outputs": [],
      "source": [
        "def remove_non_ascii(s): return \"\".join(i for i in s if ord(i)<128)\n",
        "def pre_process(doc):\n",
        "    \"\"\"\n",
        "    pre-processes a doc\n",
        "      * Converts the tweet into lower case,\n",
        "      * removes the URLs,\n",
        "      * removes the punctuations\n",
        "      * tokenizes the tweet\n",
        "      * removes words less that 3 characters\n",
        "    \"\"\"\n",
        "    \n",
        "    doc = doc.lower()\n",
        "    # getting rid of non ascii codes\n",
        "    doc = remove_non_ascii(doc)\n",
        "    \n",
        "    # replacing URLs\n",
        "    url_pattern = \"http://[^\\s]+|https://[^\\s]+|www.[^\\s]+|[^\\s]+\\.com|bit.ly/[^\\s]+\"\n",
        "    doc = re.sub(url_pattern, 'url', doc) \n",
        "\n",
        "    # removing dollars and usernames and other unnecessary stuff\n",
        "    userdoll_pattern = \"\\$[^\\s]+|\\@[^\\s]+|\\&[^\\s]+|\\*[^\\s]+|[0-9][^\\s]+|\\~[^\\s]+\"\n",
        "    doc = re.sub(userdoll_pattern, '', doc)\n",
        "    \n",
        "    \n",
        "    # removing punctuation\n",
        "    punctuation = r\"\\(|\\)|#|\\'|\\\"|-|:|\\\\|\\/|!|\\?|_|,|=|;|>|<|\\.|\\@\"\n",
        "    doc = re.sub(punctuation, ' ', doc)\n",
        "    \n",
        "    return [w for w in doc.split() if len(w) > 2]"
      ]
    },
    {
      "cell_type": "markdown",
      "metadata": {
        "id": "5UYqWCZdlg-6"
      },
      "source": [
        "**Note**. For example, the following code will display the first tweet stored in the variable ***k1_tweets_filtered*** (for the first keyword) before and after it has been pre-processed."
      ]
    },
    {
      "cell_type": "code",
      "execution_count": 34,
      "metadata": {
        "id": "KcWfHmXdlg-6"
      },
      "outputs": [],
      "source": [
        "tweet_k1 = k1_tweets_filtered[0]['text']\n",
        "tweet_k1_processed = pre_process(tweet_k1)\n",
        "\n",
        "print(tweet_k1)\n",
        "# tweet_k1_processed is now a list of words. \n",
        "# We use ' '.join() method to join the list to a string.\n",
        "print(' '.join(tweet_k1_processed))"
      ]
    },
    {
      "cell_type": "markdown",
      "metadata": {
        "id": "aHvw4Hb7lg-6"
      },
      "source": [
        "**Instruction 2.7**. Use the example above, write your code to display the **first** tweets stored in the variables ***k2_tweets_filtered*** and ***k2_tweets_filtered*** before and after they have been pre-processed using the function ***pre_process()*** supplied earlier.\n",
        "\n",
        "[**Total mark: 1**]"
      ]
    },
    {
      "cell_type": "code",
      "execution_count": 38,
      "metadata": {
        "colab": {
          "base_uri": "https://localhost:8080/"
        },
        "id": "tV55thtPlg-6",
        "outputId": "6b523f3e-bbd3-41c8-f726-fafc38c589e8"
      },
      "outputs": [
        {
          "output_type": "stream",
          "name": "stdout",
          "text": [
            "First tweet before preprocessing:\n"
          ]
        }
      ],
      "source": [
        "# # YOU ARE REQUIRED TO INSERT YOUR CODE IN THIS CELL\n",
        "# '''\n",
        "# Use the example above, write your code to display the first tweets stored in \n",
        "# the variables k2_tweets_filtered and k3_tweets_filtered before and after they \n",
        "# have been pre-processed using the function pre_process() supplied earlier.\n",
        "# '''\n",
        "\n",
        "# INSERT YOUR CODE HERE\n",
        "# Printing first tweet before preprocessing\n",
        "print(\"First tweet before preprocessing:\")\n",
        "print(k2_tweets_filtered[0]['text'])\n",
        "\n",
        "# Preprocessing first tweet\n",
        "pre_processed_tweet = pre_process(k2_tweets_filtered[0]['text'])\n",
        "\n",
        "# Printing first tweet after preprocessing\n",
        "print(\"\\nFirst tweet after preprocessing:\")\n",
        "print(pre_processed_tweet)\n",
        "\n"
      ]
    },
    {
      "cell_type": "markdown",
      "metadata": {
        "id": "0UE3XgV7lg-6"
      },
      "source": [
        "**Instruction 2.8**. Write your code to pre-process and clean up all tweets stored in the variable ***k1_tweets_filtered***, ***k2_tweets_filtered*** and ***k3_tweets_filtered*** using the function ***pre_process()*** to result in new variables ***k1_tweets_processed***, ***k2_tweets_processed*** and ***k3_tweets_processed***.\n",
        "\n",
        "[**Total mark: 2**]"
      ]
    },
    {
      "cell_type": "code",
      "execution_count": null,
      "metadata": {
        "id": "9k1Dw2Atlg-7"
      },
      "outputs": [],
      "source": [
        "# Preprocessing tweets\n",
        "k1_tweets_processed = [pre_process(tweet['text']) for tweet in k1_tweets_filtered]\n",
        "k2_tweets_processed = [pre_process(tweet['text']) for tweet in k2_tweets_filtered]\n",
        "k3_tweets_processed = [pre_process(tweet['text']) for tweet in k3_tweets_filtered]\n"
      ]
    },
    {
      "cell_type": "markdown",
      "metadata": {
        "id": "gMYtJCt8lg-7"
      },
      "source": [
        "**Instruction 2.9**. Now, write your code to print out the **first 5 processed tweets** for each keyword *(the processed tweets are stored in **k1_tweets_processed**, **k2_tweets_processed** and **k3_tweets_processed**)*\n",
        "\n",
        "[**Total mark: 2**]"
      ]
    },
    {
      "cell_type": "code",
      "execution_count": 39,
      "metadata": {
        "scrolled": true,
        "colab": {
          "base_uri": "https://localhost:8080/"
        },
        "id": "ZvE9NbkSlg-7",
        "outputId": "a92caf9c-b36a-4878-8d28-6c5b8e141102"
      },
      "outputs": [
        {
          "output_type": "stream",
          "name": "stdout",
          "text": [
            "First 5 processed tweets for keyword 1:\n",
            "\n",
            "\n",
            "\n",
            "\n",
            "\n",
            "\n",
            "First 5 processed tweets for keyword 2:\n",
            "\n",
            "\n",
            "\n",
            "\n",
            "\n",
            "\n",
            "First 5 processed tweets for keyword 3:\n",
            "\n",
            "\n",
            "\n",
            "\n",
            "\n",
            "\n"
          ]
        }
      ],
      "source": [
        "# # YOU ARE REQUIRED TO INSERT YOUR CODE IN THIS CELL\n",
        "# '''\n",
        "# Now write your code to print out the first 5 processed tweets for each keyword.\n",
        "# Hint: Each tweet in tweets_processed is now a list of words, not a string. \n",
        "#       To print a string, you might need to use ' '.join(tweet), \n",
        "#       when tweet is a processed tweet\n",
        "\n",
        "# '''\n",
        "\n",
        "# print('The first 5 processed tweets for k1_tweets_processed:')\n",
        "# # INSERT YOUR CODE HERE\n",
        "\n",
        "\n",
        "\n",
        "# print('\\nThe first 5 processed tweets for k2_tweets_processed:')\n",
        "# # INSERT YOUR CODE HERE\n",
        "\n",
        "\n",
        "\n",
        "# print('\\nThe first 5 processed tweets for k3_tweets_processed:')\n",
        "# # INSERT YOUR CODE HERE\n",
        "# Printing first 5 processed tweets\n",
        "print(\"First 5 processed tweets for keyword 1:\\n\")\n",
        "for i in range(5):\n",
        "    print(k1_tweets_processed[i])\n",
        "    print()\n",
        "    \n",
        "print(\"First 5 processed tweets for keyword 2:\\n\")\n",
        "for i in range(5):\n",
        "    print(k2_tweets_processed[i])\n",
        "    print()\n",
        "\n",
        "print(\"First 5 processed tweets for keyword 3:\\n\")\n",
        "for i in range(5):\n",
        "    print(k3_tweets_processed[i])\n",
        "    print()\n",
        "\n"
      ]
    },
    {
      "cell_type": "markdown",
      "metadata": {
        "id": "R3uDdpTilg-7"
      },
      "source": [
        "**Note**. The following function ***construct_termdoc()*** has been implemented to construct the term-by-document matrix from a corpus of text data. **You will need this function for subsequent task**."
      ]
    },
    {
      "cell_type": "code",
      "execution_count": null,
      "metadata": {
        "id": "hjsSzedqlg-7"
      },
      "outputs": [],
      "source": [
        "def construct_termdoc(docs, vocab=[]):\n",
        "    \"\"\"\n",
        "    Construct a term-by-document-matrix\n",
        "    \n",
        "    docs: corpus\n",
        "    vocab: pre-defined vocabulary\n",
        "           if not supplied it will be automatically induced from the data\n",
        "    \n",
        "    returns the term-by-document matrix and the vocabulary of the passed corpus\n",
        "    \"\"\"\n",
        "    \n",
        "    # vocab is not passed\n",
        "    if vocab == []:\n",
        "        vocab = set()\n",
        "        termdoc_sparse = []\n",
        "\n",
        "        for doc in docs:       \n",
        "            # computes the frequencies of doc\n",
        "            doc_sparse = Counter(doc)    \n",
        "            termdoc_sparse.append(doc_sparse)\n",
        "            \n",
        "            # update the vocab\n",
        "            vocab.update(doc_sparse.keys())  \n",
        "\n",
        "        vocab = list(vocab)\n",
        "        vocab.sort()\n",
        "    \n",
        "    else:\n",
        "        termdoc_sparse = []        \n",
        "        for doc in docs:\n",
        "            termdoc_sparse.append(Counter(doc))\n",
        "            \n",
        "\n",
        "    n_docs = len(docs)\n",
        "    n_vocab = len(vocab)\n",
        "    termdoc_dense = np.zeros((n_docs, n_vocab), dtype=int)\n",
        "\n",
        "    for j, doc_sparse in enumerate(termdoc_sparse):\n",
        "        for term, freq in doc_sparse.items():\n",
        "            try:\n",
        "                termdoc_dense[j, vocab.index(term)] = freq\n",
        "            except:\n",
        "                pass\n",
        "            \n",
        "    return termdoc_dense, vocab"
      ]
    },
    {
      "cell_type": "markdown",
      "metadata": {
        "id": "Jh_23-velg-8"
      },
      "source": [
        "**Instruction 2.10 (D)**. In the function ***construct_termdoc()***, a function **set** is used. Learn what this function does and explain its role in the function ***construct_termdoc()***. Write a brief answer.\n",
        "\n",
        "[**Total mark: 2**]"
      ]
    },
    {
      "cell_type": "code",
      "execution_count": null,
      "metadata": {
        "id": "FwEjYN2Qlg-8"
      },
      "outputs": [],
      "source": [
        "# In the function construct_termdoc(), a function \"set\" is used. Learn what this function does \n",
        "# and explain its role in the function construct_termdoc().\n",
        "# YOU ARE REQUIRED TO INSERT YOUR COMMENT IN THIS CELL\n",
        "#\n",
        "#"
      ]
    },
    {
      "cell_type": "markdown",
      "metadata": {
        "id": "kg5iE836lg-8"
      },
      "source": [
        "**Note**. Now suppose that we would like to construct a term-by-document matrix for tweets collected for the **first keyword only**. The following piece of codes will do this by computing the term-by-document matrix and the vocabulary for tweets stored in **k1_tweets_processed**, print them out and visualise the corresponding term-by-document matrix stored in the variable ***k1_termdoc***. The corresponding vocabulary dictionary computed from this data will also be stored in the variable ***k1_vocab***."
      ]
    },
    {
      "cell_type": "code",
      "execution_count": null,
      "metadata": {
        "id": "SZmDqE6hlg-8"
      },
      "outputs": [],
      "source": [
        "'''\n",
        "compute the term-by-document matrix and the the dictionary from the collection of \n",
        "tweets collected for the first keyword\n",
        "'''\n",
        "k1_termdoc, k1_vocab = construct_termdoc(k1_tweets_processed)\n",
        "\n",
        "# print out the term-by-document matrix\n",
        "print(k1_termdoc)\n",
        "# print out the first 5 vocabulary entries\n",
        "print(' '.join(k1_vocab[-5:]))  # print out only the first 5 vocabulary entries\n",
        "\n",
        "# visualise the term-by-document matrix\n",
        "fig, ax = plt.subplots(figsize=(10, 5))\n",
        "ax.imshow(k1_termdoc)\n",
        "ax.set_xlabel('term (vocabulary)')\n",
        "ax.set_ylabel('documents (tweets)')\n",
        "ax.set_title('Term-by-Document matrix from tweets collected for keyword \\\"{}\\\"'.format(keywords[0]))"
      ]
    },
    {
      "cell_type": "markdown",
      "metadata": {
        "id": "iVINDgIolg-9"
      },
      "source": [
        "**Note**. Next, we would like to compute the pairwise distances between every two tweets. This will help us to see how similar tweets are. This is a computational task that would be *not* possible to do if we use the raw tweets.\n",
        "\n",
        "However, with the term-by-document matrix, each tweet now is vector and corresponds to a row in the term-by-document matrix. Hence, we can use the distance between vectors to compute the distance between tweets. This is also known as the **vector space model** in information retrieval literature."
      ]
    },
    {
      "cell_type": "markdown",
      "metadata": {
        "id": "g0YfUlMmlg-9"
      },
      "source": [
        "**Instruction 2.11**. Your tasks are:\n",
        "\n",
        "1. Define a function to compute and return the Euclidean distance between two vectors as we have learned from the class notes. **(2 marks)**\n",
        "\n",
        "2. Define a function to compute and return the cosine distance between two vectors as we have learned from the class notes. **(2 marks)**\n",
        "\n",
        "3. Construct a single function that returns two distance matrices ***euclidean_distance_matrix***, and ***cosine_distance_matrix***, whose elements (i,j) store the Eulidean distance and the cosine distance between tweets i-th and i-jth. **You will need this function for subsequent task**. **(2 marks)**\n",
        "\n",
        "**[Total mark: 6]**"
      ]
    },
    {
      "cell_type": "code",
      "execution_count": 40,
      "metadata": {
        "id": "QEKC92uMlg-9"
      },
      "outputs": [],
      "source": [
        "# # YOU ARE REQUIRED TO INSERT YOUR CODE IN THIS CELL\n",
        "\n",
        "# def Euclidean_distance(x,y):\n",
        "#     '''\n",
        "#     Compute and return the Euclidean distance between two vectors x and y\n",
        "#     '''\n",
        "#     # INSERT YOUR CODE HERE\n",
        "import numpy as np\n",
        "\n",
        "def euclidean_distance(x, y):\n",
        "    return np.linalg.norm(x - y)\n",
        "\n"
      ]
    },
    {
      "cell_type": "code",
      "source": [
        "import numpy as np\n",
        "\n",
        "def cosine_distance(x, y):\n",
        "    return 1 - np.dot(x, y) / (np.linalg.norm(x) * np.linalg.norm(y))\n"
      ],
      "metadata": {
        "id": "MmDU4fMCHSdN"
      },
      "execution_count": 41,
      "outputs": []
    },
    {
      "cell_type": "code",
      "execution_count": 42,
      "metadata": {
        "id": "JOLMkDaDlg--"
      },
      "outputs": [],
      "source": [
        "# # YOU ARE REQUIRED TO INSERT YOUR CODE IN THIS CELL\n",
        "# '''\n",
        "# The function takes the termdoc matrix as the input and computes variables called \"euclidean_distance_matrix\" \n",
        "# and \"cosine_distance_matrix\", which are matrices whose elements (i,j) store the Eulidean distance \n",
        "# and the cosine distance between tweet i-th and i-jth.\n",
        "\n",
        "# Hint: you should store the distance matrices in numpy arrays for easier implementation in subsequent tasks\n",
        "# '''\n",
        "\n",
        "# def compute_distance_matrices(termdoc):\n",
        "#     # INSERT YOUR CODE HERE\n",
        "import numpy as np\n",
        "\n",
        "def distance_matrices(vectors):\n",
        "    n = len(vectors)\n",
        "    euclidean_distance_matrix = np.zeros((n,n))\n",
        "    cosine_distance_matrix = np.zeros((n,n))\n",
        "    for i in range(n):\n",
        "        for j in range(n):\n",
        "            euclidean_distance_matrix[i,j] = euclidean_distance(vectors[i], vectors[j])\n",
        "            cosine_distance_matrix[i,j] = cosine_distance(vectors[i], vectors[j])\n",
        "    return euclidean_distance_matrix, cosine_distance_matrix\n"
      ]
    },
    {
      "cell_type": "markdown",
      "metadata": {
        "id": "Ub6IZcX_lg--"
      },
      "source": [
        "**Instruction 2.12**. \n",
        "\n",
        "1. Now you need to compute the distance matrices for **k1_termdoc** and then visualise these distance matrices. **(2 marks)**\n",
        "\n",
        "2. Explain why cosine distance is always in the range between 0 and 1. **(2 marks)**\n",
        "\n",
        "3. (HD) Using a scatter plot demonstrate relationship between Euclidean distance and cosine distance. **(2 marks)**\n",
        "\n",
        "4. (HD) Explain why cosine similarity increases if Euclidean distance decreases. **(2 marks)**\n",
        "\n",
        "\n",
        "**[Total mark: 8]**"
      ]
    },
    {
      "cell_type": "code",
      "execution_count": 45,
      "metadata": {
        "id": "jS1nK1UWlg--"
      },
      "outputs": [],
      "source": [
        "# YOU ARE REQUIRED TO INSERT YOUR CODE IN THIS CELL\n",
        "\n",
        "# compute the distance matrices for k1_termdoc using the function \"compute_distance_matrices\"\n",
        "# INSERT YOUR CODE HERE\n",
        "\n",
        "# Visualise the distance matrices for this keyword\n",
        "# Hint: use imshow() and colorbar() functions\n",
        "# INSERT YOUR CODE HERE\n",
        "\n",
        "# euclidean_distance_matrix, cosine_distance_matrix = distance_matrices(k1_termdoc)\n",
        "import seaborn as sns\n",
        "sns.heatmap(cosine_distance_matrix, cmap='coolwarm')\n",
        "\n"
      ]
    },
    {
      "cell_type": "code",
      "execution_count": null,
      "metadata": {
        "id": "7JFRI5hglg--"
      },
      "outputs": [],
      "source": [
        "# # Explain why cosine distance is always in the range between 0 and 1.\n",
        "# # YOU ARE REQUIRED TO INSERT YOUR COMMENT IN THIS CELL\n",
        "# #\n",
        "\n",
        "# The Cosine distance is defined as 1 - Cosine Similarity. \n",
        "# Cosine similarity is the cosine of the angle between two vectors.\n",
        "#  The angle between two vectors ranges between 0 and 180 degrees. \n",
        "#  Cosine Similarity ranges between -1 and 1, where 1 means the vectors are the same, -1 means they are completely opposite and 0 means\n",
        "#  they are orthogonal. Since Cosine distance is 1 - Cosine Similarity, it ranges between 0 and 1."
      ]
    },
    {
      "cell_type": "code",
      "execution_count": null,
      "metadata": {
        "id": "O4Xvqx1nlg--"
      },
      "outputs": [],
      "source": [
        "# Using a scatter plot demonstrate relationship between Euclidean distance and cosine distance.\n",
        "# YOU ARE REQUIRED TO INSERT YOUR CODE IN THIS CELL\n",
        "# INSERT YOUR CODE HERE\n"
      ]
    },
    {
      "cell_type": "code",
      "execution_count": null,
      "metadata": {
        "id": "-fx_cgdWlg-_"
      },
      "outputs": [],
      "source": [
        "# Explain why cosine similarity increases if Euclidean distance decreases. \n",
        "# YOU ARE REQUIRED TO INSERT YOUR COMMENT IN THIS CELL\n",
        "#\n"
      ]
    },
    {
      "cell_type": "markdown",
      "metadata": {
        "id": "OQ2IRpDalg-_"
      },
      "source": [
        "**Instruction 2.13**. Similar to the example above for the first keyword, your task is to write codes in the cell below to compute the term-by-document matrix and the vocabulary for tweets stored in ***k2_tweets_processed***, print out the first **5** vocabularies and visualise this term-by-document matrix.\n",
        "\n",
        "[**Total mark: 2**]"
      ]
    },
    {
      "cell_type": "code",
      "execution_count": 47,
      "metadata": {
        "id": "se7q42dJlg-_"
      },
      "outputs": [],
      "source": [
        "# YOU ARE REQUIRED TO INSERT YOUR CODE IN THIS CELL\n",
        "from sklearn.feature_extraction.text import CountVectorizer\n",
        "\n",
        "# Compute the term-by-document matrix\n",
        "vectorizer = CountVectorizer()\n",
        "k2_termdoc = vectorizer.fit_transform(k2_tweets_processed)\n",
        "\n",
        "# Print the first 5 vocabularies\n",
        "vocab = vectorizer.get_feature_names()\n",
        "print(vocab[:5])\n",
        "\n",
        "# Visualize the term-by-document matrix\n",
        "import seaborn as sns\n",
        "sns.heatmap(k2_termdoc.toarray(), cmap='coolwarm')\n"
      ]
    },
    {
      "cell_type": "markdown",
      "metadata": {
        "id": "cguJ5r1Flg-_"
      },
      "source": [
        "***Instruction 2.14***. Next, your task is to write codes in the cell below to calculate the pairwise distance matrix for tweets collected for **second** keyword. Store this distance matrix in the variable named ***k2_euclidean_distances*** and **visualise** this matrix.\n",
        "\n",
        "[**Total mark: 2**]"
      ]
    },
    {
      "cell_type": "code",
      "execution_count": null,
      "metadata": {
        "id": "eb3PRWcplg-_"
      },
      "outputs": [],
      "source": [
        "from sklearn.metrics.pairwise import euclidean_distances\n",
        "\n",
        "# Compute the pairwise distance matrix\n",
        "k2_euclidean_distances = euclidean_distances(k2_termdoc)\n",
        "\n",
        "# Visualize the distance matrix\n",
        "import seaborn as sns\n",
        "sns.heatmap(k2_euclidean_distances, cmap='coolwarm')\n",
        "euclidean_distance_matrix, cosine_distance_matrix = distance_matrices(k2_termdoc.toarray())\n",
        "k2_euclidean_distances = euclidean_distance_matrix\n",
        "sns.heatmap(k2_euclidean_distances, cmap='coolwarm')\n",
        "\n"
      ]
    },
    {
      "cell_type": "markdown",
      "metadata": {
        "id": "9Zcxzg_vlg_A"
      },
      "source": [
        "**Instruction 2.15**. Similarly, your task is to write codes in the cell below to compute the term-by-document matrix and the vocabulary for tweets stored in ***k3_tweets_processed***, print out the first **5** vocabularies and visualise this term-by-document matrix.\n",
        "\n",
        "[**Total mark: 2**]"
      ]
    },
    {
      "cell_type": "code",
      "execution_count": null,
      "metadata": {
        "id": "LjBq-D6Plg_A"
      },
      "outputs": [],
      "source": [
        "from sklearn.feature_extraction.text import CountVectorizer\n",
        "\n",
        "# Compute the term-by-document matrix\n",
        "vectorizer = CountVectorizer()\n",
        "k3_termdoc = vectorizer.fit_transform(k3_tweets_processed)\n",
        "\n",
        "# Print the first 5 vocabularies\n",
        "vocab = vectorizer.get_feature_names()\n",
        "print(vocab[:5])\n",
        "\n",
        "# Visualize the term-by-document matrix\n",
        "import seaborn as sns\n",
        "sns.heatmap(k3_termdoc.toarray(), cmap='coolwarm')\n",
        "\n"
      ]
    },
    {
      "cell_type": "markdown",
      "metadata": {
        "id": "zt9Uh7nalg_A"
      },
      "source": [
        "***Instruction 2.16***. Next, your task is to write codes in the cell below to calculate the pairwise distance matrix for tweets collected for **third** keyword. Store this distance matrix in the variable named ***k3_euclidean_distances*** and visualise this matrix.\n",
        "\n",
        "[**Total mark: 1**]"
      ]
    },
    {
      "cell_type": "code",
      "execution_count": null,
      "metadata": {
        "id": "Tma1El8slg_A"
      },
      "outputs": [],
      "source": [
        "from sklearn.metrics.pairwise import euclidean_distances\n",
        "\n",
        "# Compute the pairwise distance matrix\n",
        "k3_euclidean_distances = euclidean_distances(k3_termdoc)\n",
        "\n",
        "# Visualize the distance matrix\n",
        "import seaborn as sns\n",
        "sns.heatmap(k3_euclidean_distances, cmap='coolwarm')\n",
        "euclidean_distance_matrix, cosine_distance_matrix = distance_matrices(k3_termdoc.toarray())\n",
        "k3_euclidean_distances = euclidean_distance_matrix\n",
        "sns.heatmap(k3_euclidean_distances, cmap='coolwarm')\n"
      ]
    },
    {
      "cell_type": "markdown",
      "metadata": {
        "id": "mjKicCRblg_A"
      },
      "source": [
        "***Instruction 2.17 (HD)***. Compare the ranges of the values for cosine and Euclidean distances. Explain why the ranges are different. Think about the best example to explain why cosine distance is more convenient than Euclidean distance for text analysis.\n",
        "\n",
        "[**Total mark: 2**]"
      ]
    },
    {
      "cell_type": "code",
      "execution_count": 48,
      "metadata": {
        "id": "AhLLzQNFlg_A"
      },
      "outputs": [],
      "source": [
        "# The range of values for the cosine distance is between 0 and 1,\n",
        "# while the range of values for the Euclidean distance can be any non-negative value.\n",
        "# This is because the cosine distance is a similarity measure and is defined as 1 minus the cosine similarity,\n",
        "# which ranges between -1 and 1.\n",
        "# On the other hand, the Euclidean distance is a distance measure and is defined as\n",
        "# the square root of the sum of the squares of the differences between the coordinates of two vectors.\n",
        "\n",
        "# In text analysis, cosine distance is more convenient than Euclidean distance because it is able to handle sparse data,\n",
        "# where many of the features have a value of 0. In such cases, the Euclidean distance will be large for all pairs of vectors,\n",
        "# making it difficult to distinguish between similar and dissimilar vectors. Cosine distance, on the other hand, \n",
        "# is able to handle sparse data by taking into account only the non-zero elements of the vectors, \n",
        "# and it is able to give a meaningful similarity measure even when most of the features have a value of 0.\n",
        "\n",
        "# Additionally, Cosine distance is also scale-invariant, which means that it is not affected by the magnitude of the vectors. \n",
        "# This is important in text analysis because the magnitude of a vector can be affected by the length of the document,\n",
        "#  and we want to compare the similarity of the documents based on the content, not on the length.\n",
        "\n",
        "# Therefore, cosine distance is more appropriate for text analysis as it can handle sparse data and it is scale-invariant\n"
      ]
    },
    {
      "cell_type": "markdown",
      "metadata": {
        "id": "h6saAPF0lg_B"
      },
      "source": [
        "### Part 2C: Data Clustering\n",
        "\n",
        "Thus far in this assignment, we have collected tweets for each keyword and analysed them seperately. We have constructed the term-by-document matrix for each collection of tweets seperately. A fundemantal and common task in data science, analytics, machine learning, science and engineering is **clustering**. This is also known as unsupervised learning or exploratory data analysis as we have learned in our classes.\n",
        "\n",
        "This part of this assignment will use the Kmeans algorithm learned in our classes to cluster the **entire** colllection of tweets collected for **all** keywords. To do so, we need to compute the **distance** between **any** two pair of tweets. This requires us to compute a **joint** term-by-document matrix for all tweets.\n",
        "\n",
        "The reason that we **cannot** use the individual term-by-document matrices computed earlier (e.g.,***k1_termdoc, k2_termdoc, k3_termdoc***) for this task is because they have different dictionary sizes. Hence, tweets collected for different keywords have been represented by vectors of different dimension. \n",
        "\n",
        "The following piece of codes will help you to inspect these dimensions."
      ]
    },
    {
      "cell_type": "code",
      "execution_count": null,
      "metadata": {
        "id": "83b2sVeplg_B"
      },
      "outputs": [],
      "source": [
        "print('Dimension of the term-by-document matrix for keyword \\\"{}\\\":'.format(keywords[0]))\n",
        "print('{} x {}\\n'.format(k1_termdoc.shape[0],k1_termdoc.shape[1]))\n",
        "\n",
        "print('Dimension of the term-by-document matrix for keyword \\\"{}\\\":'.format(keywords[1]))\n",
        "print('{} x {}\\n'.format(k2_termdoc.shape[0],k2_termdoc.shape[1]))\n",
        "\n",
        "print('Dimension of the term-by-document matrix for keyword \\\"{}\\\":'.format(keywords[2]))\n",
        "print('{} x {}\\n'.format(k3_termdoc.shape[0],k3_termdoc.shape[1]))"
      ]
    },
    {
      "cell_type": "markdown",
      "metadata": {
        "id": "AY_aRiQHlg_B"
      },
      "source": [
        "**Note**. First, we need to gather all tweets together into a new variable named **all_tweets_processed** using the piece of codes below."
      ]
    },
    {
      "cell_type": "code",
      "execution_count": null,
      "metadata": {
        "id": "ICIJAmfolg_B"
      },
      "outputs": [],
      "source": [
        "all_tweets_processed = k1_tweets_processed + k2_tweets_processed + k3_tweets_processed"
      ]
    },
    {
      "cell_type": "markdown",
      "metadata": {
        "id": "nepUomT2lg_B"
      },
      "source": [
        "**Instruction 2.18**. Your task is to write codes in the cell below to compute the term-by-document matrix and the vocabulary for all tweets stored in ***all_tweets_processed***, print out the first 5 vocabularies and visualise this term-by-document matrix.\n",
        "\n",
        "[**Total marks: 1**]"
      ]
    },
    {
      "cell_type": "code",
      "execution_count": null,
      "metadata": {
        "id": "hKSw2M9Rlg_B"
      },
      "outputs": [],
      "source": [
        "from sklearn.feature_extraction.text import CountVectorizer\n",
        "\n",
        "# Compute the term-by-document matrix\n",
        "vectorizer = CountVectorizer()\n",
        "all_termdoc = vectorizer.fit_transform(all_tweets_processed)\n",
        "\n",
        "# Print the first 5 vocabularies\n",
        "vocab = vectorizer.get_feature_names()\n",
        "print(vocab[:5])\n",
        "\n",
        "# Visualize the term-by-document matrix\n",
        "import seaborn as sns\n",
        "sns.heatmap(all_termdoc.toarray(), cmap='coolwarm')\n",
        "\n"
      ]
    },
    {
      "cell_type": "markdown",
      "metadata": {
        "id": "wueNi03clg_C"
      },
      "source": [
        "**Instruction 2.19**. Next, your task is to write codes in the cell below to calculate the pairwise distance matrix for all tweets collected. Store this distance matrix in the variable named ***all_euclidean_distances*** and visualise this matrix.\n",
        "\n",
        "[**Total mark: 1**]"
      ]
    },
    {
      "cell_type": "code",
      "execution_count": null,
      "metadata": {
        "id": "Q4w5Jbiwlg_C"
      },
      "outputs": [],
      "source": [
        "# YOU ARE REQUIRED TO INSERT YOUR CODE IN THIS CELL\n",
        "\n",
        "# compute the Euclidean distance matrix using compute_euclidean_distance_matrix() function\n",
        "from sklearn.metrics.pairwise import euclidean_distances\n",
        "\n",
        "# Compute the pairwise distance matrix\n",
        "all_euclidean_distances = euclidean_distances(all_termdoc)\n",
        "\n",
        "# Visualize the distance matrix\n",
        "import seaborn as sns\n",
        "sns.heatmap(all_euclidean_distances, cmap='coolwarm')\n",
        "\n",
        "\n",
        "all_euclidean_distances, all_cosine_distances = # INSERT YOUR CODE HERE\n",
        "\n",
        "\n",
        "# Visualise the distance matrix for this keyword\n",
        "# INSERT YOUR CODE HERE\n",
        "euclidean_distance_matrix, cosine_distance_matrix = distance_matrices(all_termdoc.toarray())\n",
        "all_euclidean_distances = euclidean_distance_matrix\n",
        "sns.heatmap(all_euclidean_distances, cmap='coolwarm')\n",
        "\n"
      ]
    },
    {
      "cell_type": "markdown",
      "metadata": {
        "id": "pbnKdzkxlg_C"
      },
      "source": [
        "**Instruction 2.20 (HD)**. \n",
        "1. Your task is to produce a scatter plot of Euclidean vs cosine distance for all tweets. [**1 mark**]\n",
        "2. Fit first and second order polynomials to the data in the scatter plot and overplot them. [**2 marks**]\n",
        "3. Explain why the plotted curves do not go through the centre of the points cloud. Which visualisation technique would be better to use here? [**1 mark**]\n",
        "\n",
        "[**Total mark: 4**]"
      ]
    },
    {
      "cell_type": "code",
      "execution_count": null,
      "metadata": {
        "id": "BIJmXcGJlg_C"
      },
      "outputs": [],
      "source": [
        "# YOU ARE REQUIRED TO INSERT YOUR CODE IN THIS CELL\n",
        "# 1. Your task is to produce a scatter plot of Euclidean vs cosine distance for all tweets.\n",
        "# INSERT YOUR CODE HERE\n",
        "\n",
        "# 2. Fit first and second order polynomials to the data in the scatter plot and overplot it. \n",
        "# INSERT YOUR CODE HERE\n"
      ]
    },
    {
      "cell_type": "code",
      "execution_count": null,
      "metadata": {
        "id": "7J1HlJ6Zlg_C"
      },
      "outputs": [],
      "source": [
        "# YOU ARE REQUIRED TO INSERT YOUR COMMENT IN THIS CELL\n",
        "#3. Explain why the plotted curves do not go through the centre of the points cloud.\n",
        "#  Which visualisation technique would be better to use here?\n",
        "# INSERT YOUR COMMENTS HERE\n",
        "#\n"
      ]
    },
    {
      "cell_type": "markdown",
      "metadata": {
        "id": "bDyPgngflg_C"
      },
      "source": [
        "**Note**. Next, we use Kmeans algorithm to cluster all tweets stored in term-by-document matrix ***all_termdoc***. An important requirement for the Kmeans is the specification of the number of clusters which will be specified the variable **n_clusters**.\n",
        "\n",
        "The following piece of codes will initialise a ***kmeans*** object to be used for subsequent clustering task."
      ]
    },
    {
      "cell_type": "code",
      "execution_count": null,
      "metadata": {
        "id": "sHbYY-tblg_D"
      },
      "outputs": [],
      "source": [
        "'''\n",
        "Initialise a kmeans object  from scikit-lean package\n",
        "'''\n",
        "n_clusters = 3\n",
        "kmeans = KMeans(n_clusters=n_clusters, init='k-means++', n_init=5, max_iter=3000,\n",
        "                verbose=True, tol=0.000001, random_state=123456)\n"
      ]
    },
    {
      "cell_type": "markdown",
      "metadata": {
        "id": "dwiV2UmQlg_D"
      },
      "source": [
        "**Instruction 2.21**. Your task is to use the variable ***kmeans*** to perform clustering on the data stored in the variable ***all_termdoc***.\n",
        "\n",
        "[**Total mark: 1**]"
      ]
    },
    {
      "cell_type": "code",
      "execution_count": null,
      "metadata": {
        "id": "lN7lg8z0lg_D"
      },
      "outputs": [],
      "source": [
        "# # YOU ARE REQUIRED TO INSERT YOUR CODE IN THIS CELL\n",
        "\n",
        "# '''\n",
        "# Use the variable kmeans to perform clustering on the data stored in the variable all_termdoc\n",
        "# Hint: revise the practical session on Kmeans algorithm or check out the documentation from scikit-learn\n",
        "# for Kmeans algorithm.\n",
        "# '''\n",
        "# # INSERT YOUR CODE HERE\n",
        "\n",
        "import matplotlib.pyplot as plt\n",
        "plt.scatter(all_termdoc[:, 0], all_termdoc[:, 1], c=clusters)\n",
        "plt.show()\n",
        "\n"
      ]
    },
    {
      "cell_type": "markdown",
      "metadata": {
        "id": "pCrFEvjzlg_D"
      },
      "source": [
        "**Instruction 2.22**. Write your codes to print out the cluster centers.\n",
        "\n",
        "[**Total mark: 1**]"
      ]
    },
    {
      "cell_type": "code",
      "execution_count": null,
      "metadata": {
        "id": "ju9xsIE0lg_D"
      },
      "outputs": [],
      "source": [
        "# # YOU ARE REQUIRED TO INSERT YOUR CODE IN THIS CELL\n",
        "# '''\n",
        "# Write your codes to print out the cluster centers.\n",
        "# '''\n",
        "# # INSERT YOUR CODE HERE\n",
        "# Get the cluster centers\n",
        "cluster_centers = kmeans.cluster_centers_\n",
        "\n",
        "# Print out the cluster centers\n",
        "for i in range(n_clusters):\n",
        "    print(\"Cluster {} center: {}\".format(i, cluster_centers[i]))\n",
        "\n"
      ]
    },
    {
      "cell_type": "markdown",
      "metadata": {
        "id": "fV1m4n5Tlg_D"
      },
      "source": [
        "**Instruction 2.23 (HD)**. Explain below why visualising the clusters here is hard to do in this case.\n",
        "\n",
        "[**Total mark: 2**]"
      ]
    },
    {
      "cell_type": "code",
      "execution_count": null,
      "metadata": {
        "id": "StjXGREBlg_E"
      },
      "outputs": [],
      "source": [
        "# YOU ARE REQUIRED TO INSERT YOUR COMMENT IN THIS CELL\n",
        "# Explain below why visualising the clusters here is hard to do in this case.\n",
        "# INSERT YOUR COMMENT HERE\n"
      ]
    },
    {
      "cell_type": "markdown",
      "metadata": {
        "id": "YfuVn0aKlg_E"
      },
      "source": [
        "**Instruction 2.24 (HD)**. Nevertheless, it is possible to visualise the structure of the cluster centres - surprisingly, using bar charts. Each vector component in the cluster centre vectors corresponds to a word in the dictionary. The value (amplitude) of the vector component for each particular word in the dictionary shows the strength of presence of a word in the cluster.\n",
        "In this task, you want to:\n",
        "1. Plot bar charts for each of the three clusters, obtained from KMeans, where each bar chart has 20 strongest words sorted by their presence strength. [**2 marks**]\n",
        "2. Explain the bar charts from the point of view of chosen keywords, English grammar and our text preprocessing routine. [**1 marks**]\n",
        "\n",
        "[**Total mark: 3**]"
      ]
    },
    {
      "cell_type": "code",
      "execution_count": null,
      "metadata": {
        "id": "4YLl8pVElg_E"
      },
      "outputs": [],
      "source": [
        "# YOU ARE REQUIRED TO INSERT YOUR CODE IN THIS CELL\n",
        "# 1. Plot bar charts for each of the three clusters, obtained from KMeans, \n",
        "# where each bar chart has 20 strongest words sorted by their presence strength.\n",
        "# INSERT YOUR CODE HERE\n"
      ]
    },
    {
      "cell_type": "code",
      "execution_count": null,
      "metadata": {
        "id": "suLkQb26lg_E"
      },
      "outputs": [],
      "source": [
        "# YOU ARE REQUIRED TO INSERT YOUR COMMENT IN THIS CELL\n",
        "# Explain the bar charts from the point of view of chosen keywords, English grammar \n",
        "# and our text preprocessing routine.\n",
        "# INSERT YOUR COMMENT HERE\n",
        "#"
      ]
    },
    {
      "cell_type": "markdown",
      "metadata": {
        "id": "sKcIp45klg_E"
      },
      "source": [
        "**Instruction 2.25**. Write your codes to print out the first **200** cluster labels assigned to the first 200 tweets.\n",
        "\n",
        "[**Total marks: 1**]"
      ]
    },
    {
      "cell_type": "code",
      "execution_count": null,
      "metadata": {
        "id": "Gq5DT1Hclg_F"
      },
      "outputs": [],
      "source": [
        "# # YOU ARE REQUIRED TO INSERT YOUR CODE IN THIS CELL\n",
        "# '''\n",
        "# Write your codes to print out the first **200** cluster labels assigned to the first 200 tweets.\n",
        "# '''\n",
        "# # INSERT YOUR CODE HERE\n",
        "\n",
        "# Get the cluster labels\n",
        "cluster_labels = kmeans.labels_\n",
        "\n",
        "# Print out the first 200 cluster labels\n",
        "for i in range(200):\n",
        "    print(\"Tweet {}: Cluster {}\".format(i, cluster_labels[i]))\n"
      ]
    },
    {
      "cell_type": "markdown",
      "metadata": {
        "id": "nH9XnZa4lg_F"
      },
      "source": [
        "**Instruction 2.26**. Next, we would like to obtain the quality of our clustering results. Write your code to obtain the labels of tweets for each keyword and store the labels in three new variables ***k1_labels***, ***k2_labels*** and ***k3_labels***, respectively.\n",
        "\n",
        "**[Total marks: 2]**"
      ]
    },
    {
      "cell_type": "code",
      "execution_count": null,
      "metadata": {
        "id": "u_2Mzdtplg_F"
      },
      "outputs": [],
      "source": [
        "# # YOU ARE REQUIRED TO INSERT YOUR CODE IN THIS CELL\n",
        "\n",
        "# '''\n",
        "# Write your code to obtain the labels of tweets for each keyword\n",
        "# and store the labels of the first keyword in ***k1_labels***, \n",
        "# the labels of the second keyword in ***k2_labels*** and\n",
        "# the labels of the third keyword in ***k3_labels***.\n",
        "# '''\n",
        "# # INSERT YOUR CODE HERE\n",
        "# Get the number of tweets for each keyword\n",
        "n_k1_tweets = len(k1_tweets_processed)\n",
        "n_k2_tweets = len(k2_tweets_processed)\n",
        "n_k3_tweets = len(k3_tweets_processed)\n",
        "\n",
        "# Get the labels of tweets for keyword 1\n",
        "k1_labels = cluster_labels[:n_k1_tweets]\n",
        "\n",
        "# Get the labels of tweets for keyword 2\n",
        "k2_labels = cluster_labels[n_k1_tweets:n_k1_tweets + n_k2_tweets]\n",
        "\n",
        "# Get the labels of tweets for keyword 3\n",
        "k3_labels = cluster_labels[n_k1_tweets + n_k2_tweets:]\n"
      ]
    },
    {
      "cell_type": "markdown",
      "metadata": {
        "id": "jygcPCKNlg_F"
      },
      "source": [
        "**Instruction 2.27 (D)**. We examine what is the proprotion of tweets from different keywords (or categories) appear in the **first** cluster. Remember that **0** is the label for the first cluster (**1** for the second and **2** for the third clusters). Your tasks are:\n",
        "\n",
        "1. Write your code to obtain the list of tweet indices of each keyword that are assigned to the first cluster. **(1 marks)**\n",
        "\n",
        "2. Plot a bar chart to visualise the number of tweets of each keyword that are assigned to the first cluster. **(1 marks)**\n",
        "\n",
        "**[Total mark: 2]**"
      ]
    },
    {
      "cell_type": "code",
      "execution_count": null,
      "metadata": {
        "id": "6V4r-CVOlg_F"
      },
      "outputs": [],
      "source": [
        "# YOU ARE REQUIRED TO INSERT YOUR CODE IN THIS CELL\n",
        "'''\n",
        "Write your code to obtain the list of tweet indices of each keyword that are assigned to the first cluster.\n",
        "Hint: you might want to use numpy.where function.\n",
        "'''\n",
        "# obtain the list of tweet indices of keyword k1 that are assigned to the first cluster\n",
        "# means that to find tweet indices that have label 0 in k1_labels\n",
        "k1_idx_label0 = # INSERT YOUR CODE HERE\n",
        "\n",
        "# obtain the list of tweet indices of keyword k2 that are assigned to the first cluster\n",
        "# means that to find tweet indices that have label 0 in k2_labels\n",
        "k2_idx_label0 = # INSERT YOUR CODE HERE\n",
        "\n",
        "# obtain the list of tweet indices of keyword k3 that are assigned to the first cluster\n",
        "# means that to find tweet indices that have label 0 in k3_labels\n",
        "k3_idx_label0 = # INSERT YOUR CODE HERE\n"
      ]
    },
    {
      "cell_type": "code",
      "execution_count": null,
      "metadata": {
        "id": "wPyGdCB2lg_G"
      },
      "outputs": [],
      "source": [
        "# YOU ARE REQUIRED TO INSERT YOUR CODE IN THIS CELL\n",
        "'''\n",
        "Plot a bar chart to visualise the number of tweets of each keyword that are assigned to the first cluster.\n",
        "Hint: you need to plot a bar chart with three bars, \n",
        "each bar represents the number of tweets of each keyword that are assigned to the first cluster.\n",
        "'''\n",
        "# INSERT YOUR CODE HERE\n"
      ]
    },
    {
      "cell_type": "markdown",
      "metadata": {
        "id": "j_5udwTnlg_G"
      },
      "source": [
        "**Instruction 2.28 (D)**. Similarly, write your codes to compute the the proprotion of tweets from different keywords (or categories) appear in the **second** cluster and plot a bar chart visualise this information.\n",
        "\n",
        "[**Total mark: 1**]"
      ]
    },
    {
      "cell_type": "code",
      "execution_count": null,
      "metadata": {
        "id": "qaAedL9Hlg_G"
      },
      "outputs": [],
      "source": [
        "# YOU ARE REQUIRED TO INSERT YOUR CODE IN THIS CELL\n",
        "\n",
        "# obtain the list of tweet indices of keyword k1 that are assigned to the second cluster\n",
        "# means that to find tweet indices that have label 1 in k1_labels\n",
        "k1_idx_label1 = # INSERT YOUR CODE HERE\n",
        "\n",
        "# obtain the list of tweet indices of keyword k2 that are assigned to the second cluster\n",
        "# means that to find tweet indices that have label 1 in k2_labels\n",
        "k2_idx_label1 = # INSERT YOUR CODE HERE\n",
        "\n",
        "# obtain the list of tweet indices of keyword k3 that are assigned to the second cluster\n",
        "# means that to find tweet indices that have label 1 in k3_labels\n",
        "k3_idx_label1 = # INSERT YOUR CODE HERE\n",
        "\n",
        "# Plot a bar chart to visualise the number of tweets of each keyword that are assigned to the second cluster\n",
        "# INSERT YOUR CODE HERE\n"
      ]
    },
    {
      "cell_type": "markdown",
      "metadata": {
        "id": "KLCCJzz9lg_G"
      },
      "source": [
        "**Instruction 2.29 (D)**. Similarly, write your codes to compute the the proprotion of tweets from different keywords (or categories) appear in the **third** cluster and plot a bar chart visualise this information.\n",
        "\n",
        "[**Total mark: 1**]"
      ]
    },
    {
      "cell_type": "code",
      "execution_count": null,
      "metadata": {
        "id": "VBqI04Ghlg_H"
      },
      "outputs": [],
      "source": [
        "# YOU ARE REQUIRED TO INSERT YOUR CODE IN THIS CELL\n",
        "\n",
        "# obtain the list of tweet indices of keyword k1 that are assigned to the third cluster\n",
        "# means that to find tweet indices that have label 2 in k1_labels\n",
        "k1_idx_label2 = # INSERT YOUR CODE HERE\n",
        "\n",
        "# obtain the list of tweet indices of keyword k2 that are assigned to the third cluster\n",
        "# means that to find tweet indices that have label 2 in k2_labels\n",
        "k2_idx_label2 = # INSERT YOUR CODE HERE\n",
        "\n",
        "# obtain the list of tweet indices of keyword k3 that are assigned to the third cluster\n",
        "# means that to find tweet indices that have label 2 in k3_labels\n",
        "k3_idx_label2 = # INSERT YOUR CODE HERE\n",
        "\n",
        "# Plot a bar chart to visualise the number of tweets of each keyword that are assigned to the third cluster\n",
        "# INSERT YOUR CODE HERE\n"
      ]
    },
    {
      "cell_type": "markdown",
      "metadata": {
        "id": "edEMeV3hlg_H"
      },
      "source": [
        "### END OF ASSIGNMENT 2 NOTEBOOK\n",
        "\n",
        "----"
      ]
    },
    {
      "cell_type": "code",
      "execution_count": null,
      "metadata": {
        "id": "NoVlNjVvlg_H"
      },
      "outputs": [],
      "source": []
    }
  ],
  "metadata": {
    "kernelspec": {
      "display_name": "Python 3 (ipykernel)",
      "language": "python",
      "name": "python3"
    },
    "language_info": {
      "codemirror_mode": {
        "name": "ipython",
        "version": 3
      },
      "file_extension": ".py",
      "mimetype": "text/x-python",
      "name": "python",
      "nbconvert_exporter": "python",
      "pygments_lexer": "ipython3",
      "version": "3.9.13"
    },
    "colab": {
      "provenance": [],
      "include_colab_link": true
    }
  },
  "nbformat": 4,
  "nbformat_minor": 0
}