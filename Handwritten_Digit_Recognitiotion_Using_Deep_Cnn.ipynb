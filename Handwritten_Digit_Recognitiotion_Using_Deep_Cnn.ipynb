{
  "nbformat": 4,
  "nbformat_minor": 0,
  "metadata": {
    "colab": {
      "provenance": [],
      "collapsed_sections": [],
      "authorship_tag": "ABX9TyNyfREmfZL6LQayy5wMHki+",
      "include_colab_link": true
    },
    "kernelspec": {
      "name": "python3",
      "display_name": "Python 3"
    },
    "language_info": {
      "name": "python"
    }
  },
  "cells": [
    {
      "cell_type": "markdown",
      "metadata": {
        "id": "view-in-github",
        "colab_type": "text"
      },
      "source": [
        "<a href=\"https://colab.research.google.com/github/sammainahkinya1404/Machine-Learning/blob/main/Handwritten_Digit_Recognitiotion_Using_Deep_Cnn.ipynb\" target=\"_parent\"><img src=\"https://colab.research.google.com/assets/colab-badge.svg\" alt=\"Open In Colab\"/></a>"
      ]
    },
    {
      "cell_type": "code",
      "execution_count": 12,
      "metadata": {
        "id": "qnE8oHVXTUsN"
      },
      "outputs": [],
      "source": [
        "# Loading Neccassry Dataset\n",
        "# data visualisation and manipulation\n",
        "import numpy as np\n",
        "import pandas as pd\n",
        "import matplotlib.pyplot as plt\n",
        "from matplotlib import style\n",
        "import seaborn as sns\n",
        "import tensorflow as tf\n",
        "from tensorflow import keras\n",
        "\n",
        "from tensorflow.keras import datasets, layers, models\n",
        "import matplotlib.pyplot as plt\n",
        "\n"
      ]
    },
    {
      "cell_type": "code",
      "source": [
        "# Dataset Url:https://www.kaggle.com/code/nishan192/mnist-digit-recognition-using-svm/data\n",
        "# After loading the necessary libraries, load the MNIST dataset as shown below:\n",
        "(X_train, y_train) , (X_test, y_test) = keras.datasets.mnist.load_data()"
      ],
      "metadata": {
        "id": "QsJFySAFVJUC"
      },
      "execution_count": 17,
      "outputs": []
    },
    {
      "cell_type": "code",
      "source": [
        "# Data Preprocessing\n",
        "# scale this training and test datasets as shown below:\n",
        "X_train = X_train / 255\n",
        "X_test = X_test / 255"
      ],
      "metadata": {
        "id": "k3JMZsSsXoKe"
      },
      "execution_count": 18,
      "outputs": []
    },
    {
      "cell_type": "code",
      "source": [
        "# convert the 2-d matrix to a 1-d array \n",
        "#training set\n",
        "X_train = X_train.reshape(-1,28,28,1)  \n",
        "#testing set  \n",
        "X_test = X_test.reshape(-1,28,28,1)      \n",
        "\n",
        "\n"
      ],
      "metadata": {
        "id": "GQMlRjuAYK_s"
      },
      "execution_count": 19,
      "outputs": []
    },
    {
      "cell_type": "code",
      "source": [
        "# create a CNN model using the TensorFlow library\n",
        "model = models.Sequential([\n",
        "    layers.Conv2D(filters=25, kernel_size=(3, 3), activation='relu', input_shape=(28,28,1)), \n",
        "    layers.MaxPooling2D((2, 2)),\n",
        "    layers.Conv2D(filters=64, kernel_size=(3, 3), activation='relu'),\n",
        "    layers.MaxPooling2D((2, 2)),\n",
        "    layers.Conv2D(filters=64, kernel_size=(3, 3), activation='relu'),\n",
        "    layers.MaxPooling2D((2, 2)),\n",
        "    layers.Flatten(),\n",
        "    layers.Dense(64, activation='relu'),\n",
        "    layers.Dense(10, activation='softmax')\n",
        "])"
      ],
      "metadata": {
        "id": "WG1rgqpgY0Or"
      },
      "execution_count": 14,
      "outputs": []
    },
    {
      "cell_type": "code",
      "source": [
        "# Deep learning Libraries\n",
        "from keras import backend as K\n",
        "from keras.models import Sequential\n",
        "from keras.layers import Dense\n",
        "from keras.optimizers import Adam,SGD,Adagrad,Adadelta,RMSprop\n",
        "from keras.utils import to_categorical\n",
        "\n",
        "# Compiling the Keras Model & Summary\n",
        "model.compile(optimizer='adam',loss='sparse_categorical_crossentropy',metrics=['accuracy'])"
      ],
      "metadata": {
        "id": "gXD7jYI8ZWvZ"
      },
      "execution_count": 21,
      "outputs": []
    },
    {
      "cell_type": "code",
      "source": [
        "# Training The model\n",
        "epoch=10\n",
        "model.fit(\n",
        "    X_train,y_train,epochs=epoch\n",
        ")"
      ],
      "metadata": {
        "colab": {
          "base_uri": "https://localhost:8080/"
        },
        "id": "Ac1uGqfKdrFj",
        "outputId": "358f1a2e-7952-4bd9-d567-6b325350886e"
      },
      "execution_count": 22,
      "outputs": [
        {
          "output_type": "stream",
          "name": "stdout",
          "text": [
            "Epoch 1/10\n",
            "1875/1875 [==============================] - 57s 30ms/step - loss: 0.2171 - accuracy: 0.9348\n",
            "Epoch 2/10\n",
            "1875/1875 [==============================] - 56s 30ms/step - loss: 0.0771 - accuracy: 0.9768\n",
            "Epoch 3/10\n",
            "1875/1875 [==============================] - 55s 29ms/step - loss: 0.0549 - accuracy: 0.9830\n",
            "Epoch 4/10\n",
            "1875/1875 [==============================] - 61s 32ms/step - loss: 0.0430 - accuracy: 0.9865\n",
            "Epoch 5/10\n",
            "1875/1875 [==============================] - 55s 30ms/step - loss: 0.0345 - accuracy: 0.9890\n",
            "Epoch 6/10\n",
            "1875/1875 [==============================] - 56s 30ms/step - loss: 0.0267 - accuracy: 0.9915\n",
            "Epoch 7/10\n",
            "1875/1875 [==============================] - 55s 30ms/step - loss: 0.0225 - accuracy: 0.9930\n",
            "Epoch 8/10\n",
            "1875/1875 [==============================] - 55s 29ms/step - loss: 0.0183 - accuracy: 0.9940\n",
            "Epoch 9/10\n",
            "1875/1875 [==============================] - 56s 30ms/step - loss: 0.0171 - accuracy: 0.9944\n",
            "Epoch 10/10\n",
            "1875/1875 [==============================] - 55s 29ms/step - loss: 0.0144 - accuracy: 0.9951\n"
          ]
        },
        {
          "output_type": "execute_result",
          "data": {
            "text/plain": [
              "<keras.callbacks.History at 0x7f9264d3b550>"
            ]
          },
          "metadata": {},
          "execution_count": 22
        }
      ]
    },
    {
      "cell_type": "code",
      "source": [
        "# evaluate the CNN model so created\n",
        "model.evaluate(X_test, y_test)"
      ],
      "metadata": {
        "colab": {
          "base_uri": "https://localhost:8080/"
        },
        "id": "qaJZFM6beM3d",
        "outputId": "6d078774-cc88-4290-aa27-d424bc0e25f9"
      },
      "execution_count": 23,
      "outputs": [
        {
          "output_type": "stream",
          "name": "stdout",
          "text": [
            "313/313 [==============================] - 3s 10ms/step - loss: 0.0535 - accuracy: 0.9876\n"
          ]
        },
        {
          "output_type": "execute_result",
          "data": {
            "text/plain": [
              "[0.05346142500638962, 0.9876000285148621]"
            ]
          },
          "metadata": {},
          "execution_count": 23
        }
      ]
    },
    {
      "cell_type": "code",
      "source": [
        "y_predicted_by_model = model.predict(X_test)"
      ],
      "metadata": {
        "colab": {
          "base_uri": "https://localhost:8080/"
        },
        "id": "o0k8aUeXevnw",
        "outputId": "1f7d557d-5f7f-4f11-b396-4d5e313f4d2e"
      },
      "execution_count": 24,
      "outputs": [
        {
          "output_type": "stream",
          "name": "stdout",
          "text": [
            "313/313 [==============================] - 3s 10ms/step\n"
          ]
        }
      ]
    },
    {
      "cell_type": "code",
      "source": [
        "y_predicted_by_model[0]"
      ],
      "metadata": {
        "colab": {
          "base_uri": "https://localhost:8080/"
        },
        "id": "wjnwzuTykQsU",
        "outputId": "704ebd98-0de3-4381-fadf-c7f9035f0830"
      },
      "execution_count": 25,
      "outputs": [
        {
          "output_type": "execute_result",
          "data": {
            "text/plain": [
              "array([2.5072704e-12, 1.6827498e-08, 1.6191716e-07, 5.4395382e-09,\n",
              "       5.6983800e-09, 5.4157116e-11, 7.4754016e-18, 9.9999982e-01,\n",
              "       1.3383093e-10, 1.4121607e-08], dtype=float32)"
            ]
          },
          "metadata": {},
          "execution_count": 25
        }
      ]
    },
    {
      "cell_type": "code",
      "source": [
        "np.argmax(y_predicted_by_model[0])"
      ],
      "metadata": {
        "colab": {
          "base_uri": "https://localhost:8080/"
        },
        "id": "pMqfMGsokupE",
        "outputId": "06779737-6f4c-425c-b64f-98c0a246924d"
      },
      "execution_count": 27,
      "outputs": [
        {
          "output_type": "execute_result",
          "data": {
            "text/plain": [
              "7"
            ]
          },
          "metadata": {},
          "execution_count": 27
        }
      ]
    }
  ]
}