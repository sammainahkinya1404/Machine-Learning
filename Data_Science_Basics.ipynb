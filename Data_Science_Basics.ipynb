{
  "cells": [
    {
      "cell_type": "markdown",
      "metadata": {
        "id": "view-in-github",
        "colab_type": "text"
      },
      "source": [
        "<a href=\"https://colab.research.google.com/github/sammainahkinya1404/Machine-Learning/blob/main/Data_Science_Basics.ipynb\" target=\"_parent\"><img src=\"https://colab.research.google.com/assets/colab-badge.svg\" alt=\"Open In Colab\"/></a>"
      ]
    },
    {
      "cell_type": "markdown",
      "id": "f5074219-7448-4bc3-b680-63c7e7315f39",
      "metadata": {
        "id": "f5074219-7448-4bc3-b680-63c7e7315f39"
      },
      "source": [
        "# COMP 7150 Assignment 4\n",
        "\n",
        "Due: March 21, 2023 before midnight."
      ]
    },
    {
      "cell_type": "markdown",
      "id": "37b32ec3-3ec5-4c27-ae64-0d40609a26d4",
      "metadata": {
        "id": "37b32ec3-3ec5-4c27-ae64-0d40609a26d4"
      },
      "source": [
        "NAME: _______________"
      ]
    },
    {
      "cell_type": "markdown",
      "id": "f36b0732-eadd-421f-9181-547e8570e7f1",
      "metadata": {
        "id": "f36b0732-eadd-421f-9181-547e8570e7f1"
      },
      "source": [
        "---\n",
        "\n",
        "**How each problem is graded**\n",
        "\n",
        "This is a general guideline.  There might be some variant for a specific problem.\n",
        "\n",
        "* Answering the question in English: 25%\n",
        "    + Thorough answering the question, explaning the findings, discussing the comparison: 10-25%\n",
        "    + Not answering the question in English: 0%.\n",
        "    + Note: An answer is written in English to address a specific question. The answer must come first.  \n",
        "* Code: 50%\n",
        "    + Code is correct: 50%\n",
        "    + Code is correct, but missing some minor elements: 25-40%\n",
        "    + Incorrect solution, but make an effort: 10%-25%\n",
        "    + Empty: 0% \n",
        "    + Note: code is not an answer. Code shows how you get an answer.  Code comes after an answer.\n",
        "* Explanation of code: 10%\n",
        "    + Concise English explanation of solution/code: 10%\n",
        "    + No explanation: 0%\n",
        "* Testing: 15%\n",
        "    + Providing adequate testing of code: 15%\n",
        "    + Code operational but does not show how the answer(s) were generated: 5%\n",
        "    + Code not runnable or no testing: 0%\n",
        "\n",
        "\n",
        "**How to turn in your assignment**\n",
        "\n",
        "+ Export your notebook to an HTML file.\n",
        "+ Upload it to the appropriate folder in Assignments on Canvas."
      ]
    },
    {
      "cell_type": "markdown",
      "id": "f7db3e6a-d75f-4737-8cb6-bfc753e07c09",
      "metadata": {
        "id": "f7db3e6a-d75f-4737-8cb6-bfc753e07c09"
      },
      "source": [
        "#### Dataset\n",
        "\n",
        "The dataset you'll used for this assignment is diabetes.csv\n",
        "\n",
        "The target variable is Outcome. The other 8 variables are features.\n",
        "\n",
        "This dataset was collected from pregnant women.  Each row corresponds to a person.  An Outcome of 0 means the person is not diagnosed with diabetes.  An Outcome of 1 means the person is diagnosed with diabetes."
      ]
    },
    {
      "cell_type": "markdown",
      "id": "6e778bb1-8efd-4696-9aa9-a317228ab218",
      "metadata": {
        "id": "6e778bb1-8efd-4696-9aa9-a317228ab218"
      },
      "source": [
        "**Each problem is worth 20 points.**"
      ]
    },
    {
      "cell_type": "code",
      "execution_count": 36,
      "id": "e57682ed-20c2-4a2b-8039-a89904ee68a9",
      "metadata": {
        "id": "e57682ed-20c2-4a2b-8039-a89904ee68a9"
      },
      "outputs": [],
      "source": [
        "import pandas\n",
        "\n",
        "diabetes = pandas.read_csv('/content/diabetes.csv')"
      ]
    },
    {
      "cell_type": "code",
      "execution_count": 37,
      "id": "73e97cc9-88b1-4ee4-b7ee-b48631e23e63",
      "metadata": {
        "colab": {
          "base_uri": "https://localhost:8080/",
          "height": 206
        },
        "id": "73e97cc9-88b1-4ee4-b7ee-b48631e23e63",
        "outputId": "5c83ae01-e336-494e-e160-caf8108a4d46"
      },
      "outputs": [
        {
          "output_type": "execute_result",
          "data": {
            "text/plain": [
              "   Pregnancies  Glucose  BloodPressure  SkinThickness  Insulin   BMI  \\\n",
              "0            6      148             72             35        0  33.6   \n",
              "1            1       85             66             29        0  26.6   \n",
              "2            8      183             64              0        0  23.3   \n",
              "3            1       89             66             23       94  28.1   \n",
              "4            0      137             40             35      168  43.1   \n",
              "\n",
              "   DiabetesPedigreeFunction  Age  Outcome  \n",
              "0                     0.627   50        1  \n",
              "1                     0.351   31        0  \n",
              "2                     0.672   32        1  \n",
              "3                     0.167   21        0  \n",
              "4                     2.288   33        1  "
            ],
            "text/html": [
              "\n",
              "  <div id=\"df-f634885e-836f-48f9-a15f-903857d53b20\">\n",
              "    <div class=\"colab-df-container\">\n",
              "      <div>\n",
              "<style scoped>\n",
              "    .dataframe tbody tr th:only-of-type {\n",
              "        vertical-align: middle;\n",
              "    }\n",
              "\n",
              "    .dataframe tbody tr th {\n",
              "        vertical-align: top;\n",
              "    }\n",
              "\n",
              "    .dataframe thead th {\n",
              "        text-align: right;\n",
              "    }\n",
              "</style>\n",
              "<table border=\"1\" class=\"dataframe\">\n",
              "  <thead>\n",
              "    <tr style=\"text-align: right;\">\n",
              "      <th></th>\n",
              "      <th>Pregnancies</th>\n",
              "      <th>Glucose</th>\n",
              "      <th>BloodPressure</th>\n",
              "      <th>SkinThickness</th>\n",
              "      <th>Insulin</th>\n",
              "      <th>BMI</th>\n",
              "      <th>DiabetesPedigreeFunction</th>\n",
              "      <th>Age</th>\n",
              "      <th>Outcome</th>\n",
              "    </tr>\n",
              "  </thead>\n",
              "  <tbody>\n",
              "    <tr>\n",
              "      <th>0</th>\n",
              "      <td>6</td>\n",
              "      <td>148</td>\n",
              "      <td>72</td>\n",
              "      <td>35</td>\n",
              "      <td>0</td>\n",
              "      <td>33.6</td>\n",
              "      <td>0.627</td>\n",
              "      <td>50</td>\n",
              "      <td>1</td>\n",
              "    </tr>\n",
              "    <tr>\n",
              "      <th>1</th>\n",
              "      <td>1</td>\n",
              "      <td>85</td>\n",
              "      <td>66</td>\n",
              "      <td>29</td>\n",
              "      <td>0</td>\n",
              "      <td>26.6</td>\n",
              "      <td>0.351</td>\n",
              "      <td>31</td>\n",
              "      <td>0</td>\n",
              "    </tr>\n",
              "    <tr>\n",
              "      <th>2</th>\n",
              "      <td>8</td>\n",
              "      <td>183</td>\n",
              "      <td>64</td>\n",
              "      <td>0</td>\n",
              "      <td>0</td>\n",
              "      <td>23.3</td>\n",
              "      <td>0.672</td>\n",
              "      <td>32</td>\n",
              "      <td>1</td>\n",
              "    </tr>\n",
              "    <tr>\n",
              "      <th>3</th>\n",
              "      <td>1</td>\n",
              "      <td>89</td>\n",
              "      <td>66</td>\n",
              "      <td>23</td>\n",
              "      <td>94</td>\n",
              "      <td>28.1</td>\n",
              "      <td>0.167</td>\n",
              "      <td>21</td>\n",
              "      <td>0</td>\n",
              "    </tr>\n",
              "    <tr>\n",
              "      <th>4</th>\n",
              "      <td>0</td>\n",
              "      <td>137</td>\n",
              "      <td>40</td>\n",
              "      <td>35</td>\n",
              "      <td>168</td>\n",
              "      <td>43.1</td>\n",
              "      <td>2.288</td>\n",
              "      <td>33</td>\n",
              "      <td>1</td>\n",
              "    </tr>\n",
              "  </tbody>\n",
              "</table>\n",
              "</div>\n",
              "      <button class=\"colab-df-convert\" onclick=\"convertToInteractive('df-f634885e-836f-48f9-a15f-903857d53b20')\"\n",
              "              title=\"Convert this dataframe to an interactive table.\"\n",
              "              style=\"display:none;\">\n",
              "        \n",
              "  <svg xmlns=\"http://www.w3.org/2000/svg\" height=\"24px\"viewBox=\"0 0 24 24\"\n",
              "       width=\"24px\">\n",
              "    <path d=\"M0 0h24v24H0V0z\" fill=\"none\"/>\n",
              "    <path d=\"M18.56 5.44l.94 2.06.94-2.06 2.06-.94-2.06-.94-.94-2.06-.94 2.06-2.06.94zm-11 1L8.5 8.5l.94-2.06 2.06-.94-2.06-.94L8.5 2.5l-.94 2.06-2.06.94zm10 10l.94 2.06.94-2.06 2.06-.94-2.06-.94-.94-2.06-.94 2.06-2.06.94z\"/><path d=\"M17.41 7.96l-1.37-1.37c-.4-.4-.92-.59-1.43-.59-.52 0-1.04.2-1.43.59L10.3 9.45l-7.72 7.72c-.78.78-.78 2.05 0 2.83L4 21.41c.39.39.9.59 1.41.59.51 0 1.02-.2 1.41-.59l7.78-7.78 2.81-2.81c.8-.78.8-2.07 0-2.86zM5.41 20L4 18.59l7.72-7.72 1.47 1.35L5.41 20z\"/>\n",
              "  </svg>\n",
              "      </button>\n",
              "      \n",
              "  <style>\n",
              "    .colab-df-container {\n",
              "      display:flex;\n",
              "      flex-wrap:wrap;\n",
              "      gap: 12px;\n",
              "    }\n",
              "\n",
              "    .colab-df-convert {\n",
              "      background-color: #E8F0FE;\n",
              "      border: none;\n",
              "      border-radius: 50%;\n",
              "      cursor: pointer;\n",
              "      display: none;\n",
              "      fill: #1967D2;\n",
              "      height: 32px;\n",
              "      padding: 0 0 0 0;\n",
              "      width: 32px;\n",
              "    }\n",
              "\n",
              "    .colab-df-convert:hover {\n",
              "      background-color: #E2EBFA;\n",
              "      box-shadow: 0px 1px 2px rgba(60, 64, 67, 0.3), 0px 1px 3px 1px rgba(60, 64, 67, 0.15);\n",
              "      fill: #174EA6;\n",
              "    }\n",
              "\n",
              "    [theme=dark] .colab-df-convert {\n",
              "      background-color: #3B4455;\n",
              "      fill: #D2E3FC;\n",
              "    }\n",
              "\n",
              "    [theme=dark] .colab-df-convert:hover {\n",
              "      background-color: #434B5C;\n",
              "      box-shadow: 0px 1px 3px 1px rgba(0, 0, 0, 0.15);\n",
              "      filter: drop-shadow(0px 1px 2px rgba(0, 0, 0, 0.3));\n",
              "      fill: #FFFFFF;\n",
              "    }\n",
              "  </style>\n",
              "\n",
              "      <script>\n",
              "        const buttonEl =\n",
              "          document.querySelector('#df-f634885e-836f-48f9-a15f-903857d53b20 button.colab-df-convert');\n",
              "        buttonEl.style.display =\n",
              "          google.colab.kernel.accessAllowed ? 'block' : 'none';\n",
              "\n",
              "        async function convertToInteractive(key) {\n",
              "          const element = document.querySelector('#df-f634885e-836f-48f9-a15f-903857d53b20');\n",
              "          const dataTable =\n",
              "            await google.colab.kernel.invokeFunction('convertToInteractive',\n",
              "                                                     [key], {});\n",
              "          if (!dataTable) return;\n",
              "\n",
              "          const docLinkHtml = 'Like what you see? Visit the ' +\n",
              "            '<a target=\"_blank\" href=https://colab.research.google.com/notebooks/data_table.ipynb>data table notebook</a>'\n",
              "            + ' to learn more about interactive tables.';\n",
              "          element.innerHTML = '';\n",
              "          dataTable['output_type'] = 'display_data';\n",
              "          await google.colab.output.renderOutput(dataTable, element);\n",
              "          const docLink = document.createElement('div');\n",
              "          docLink.innerHTML = docLinkHtml;\n",
              "          element.appendChild(docLink);\n",
              "        }\n",
              "      </script>\n",
              "    </div>\n",
              "  </div>\n",
              "  "
            ]
          },
          "metadata": {},
          "execution_count": 37
        }
      ],
      "source": [
        "diabetes.head()"
      ]
    },
    {
      "cell_type": "markdown",
      "id": "52106bb5-a98b-4d79-8446-c8915aa91307",
      "metadata": {
        "id": "52106bb5-a98b-4d79-8446-c8915aa91307"
      },
      "source": [
        "---\n",
        "\n",
        "**Problem 1**\n",
        "\n",
        "Use the approach that is similar to my solution to Problem 8 of the midterm exam, to create a new column called \"AgeGroup\", which has the following values:\n",
        "\n",
        "* Group1 - under 25 years old\n",
        "* Group2 - from 25 to under 30 years old\n",
        "* Group3 - from 30 to under 40 years old\n",
        "* Group4 - from 40 to under 50 years old\n",
        "* Group5 - from 50 years old and up\n",
        "\n"
      ]
    },
    {
      "cell_type": "code",
      "source": [
        "# Function to map age groups to the new column\n",
        "def age_Group(Age):\n",
        "  if Age < 25:\n",
        "    return 'Group1'\n",
        "  elif Age >=25 and Age < 30:\n",
        "    return 'Group2' \n",
        "  elif Age >=30 and Age <40:\n",
        "    return 'Group3'\n",
        "  elif Age >=40 and Age <50:\n",
        "    return 'Group4'\n",
        "  else:\n",
        "    return 'Group5'\n",
        "# Creating a new Column AgeGroup\n",
        "diabetes['AgeGroup']=diabetes['Age'].apply(age_Group)\n",
        "diabetes.head(10)"
      ],
      "metadata": {
        "colab": {
          "base_uri": "https://localhost:8080/",
          "height": 427
        },
        "id": "LWAyrqKKrwNr",
        "outputId": "a9c7bf35-26f9-4a2f-a191-47f651a88159"
      },
      "id": "LWAyrqKKrwNr",
      "execution_count": 38,
      "outputs": [
        {
          "output_type": "execute_result",
          "data": {
            "text/plain": [
              "   Pregnancies  Glucose  BloodPressure  SkinThickness  Insulin   BMI  \\\n",
              "0            6      148             72             35        0  33.6   \n",
              "1            1       85             66             29        0  26.6   \n",
              "2            8      183             64              0        0  23.3   \n",
              "3            1       89             66             23       94  28.1   \n",
              "4            0      137             40             35      168  43.1   \n",
              "5            5      116             74              0        0  25.6   \n",
              "6            3       78             50             32       88  31.0   \n",
              "7           10      115              0              0        0  35.3   \n",
              "8            2      197             70             45      543  30.5   \n",
              "9            8      125             96              0        0   0.0   \n",
              "\n",
              "   DiabetesPedigreeFunction  Age  Outcome AgeGroup  \n",
              "0                     0.627   50        1   Group5  \n",
              "1                     0.351   31        0   Group3  \n",
              "2                     0.672   32        1   Group3  \n",
              "3                     0.167   21        0   Group1  \n",
              "4                     2.288   33        1   Group3  \n",
              "5                     0.201   30        0   Group3  \n",
              "6                     0.248   26        1   Group2  \n",
              "7                     0.134   29        0   Group2  \n",
              "8                     0.158   53        1   Group5  \n",
              "9                     0.232   54        1   Group5  "
            ],
            "text/html": [
              "\n",
              "  <div id=\"df-95a89d3b-9e58-4c93-866a-8e18c2e41899\">\n",
              "    <div class=\"colab-df-container\">\n",
              "      <div>\n",
              "<style scoped>\n",
              "    .dataframe tbody tr th:only-of-type {\n",
              "        vertical-align: middle;\n",
              "    }\n",
              "\n",
              "    .dataframe tbody tr th {\n",
              "        vertical-align: top;\n",
              "    }\n",
              "\n",
              "    .dataframe thead th {\n",
              "        text-align: right;\n",
              "    }\n",
              "</style>\n",
              "<table border=\"1\" class=\"dataframe\">\n",
              "  <thead>\n",
              "    <tr style=\"text-align: right;\">\n",
              "      <th></th>\n",
              "      <th>Pregnancies</th>\n",
              "      <th>Glucose</th>\n",
              "      <th>BloodPressure</th>\n",
              "      <th>SkinThickness</th>\n",
              "      <th>Insulin</th>\n",
              "      <th>BMI</th>\n",
              "      <th>DiabetesPedigreeFunction</th>\n",
              "      <th>Age</th>\n",
              "      <th>Outcome</th>\n",
              "      <th>AgeGroup</th>\n",
              "    </tr>\n",
              "  </thead>\n",
              "  <tbody>\n",
              "    <tr>\n",
              "      <th>0</th>\n",
              "      <td>6</td>\n",
              "      <td>148</td>\n",
              "      <td>72</td>\n",
              "      <td>35</td>\n",
              "      <td>0</td>\n",
              "      <td>33.6</td>\n",
              "      <td>0.627</td>\n",
              "      <td>50</td>\n",
              "      <td>1</td>\n",
              "      <td>Group5</td>\n",
              "    </tr>\n",
              "    <tr>\n",
              "      <th>1</th>\n",
              "      <td>1</td>\n",
              "      <td>85</td>\n",
              "      <td>66</td>\n",
              "      <td>29</td>\n",
              "      <td>0</td>\n",
              "      <td>26.6</td>\n",
              "      <td>0.351</td>\n",
              "      <td>31</td>\n",
              "      <td>0</td>\n",
              "      <td>Group3</td>\n",
              "    </tr>\n",
              "    <tr>\n",
              "      <th>2</th>\n",
              "      <td>8</td>\n",
              "      <td>183</td>\n",
              "      <td>64</td>\n",
              "      <td>0</td>\n",
              "      <td>0</td>\n",
              "      <td>23.3</td>\n",
              "      <td>0.672</td>\n",
              "      <td>32</td>\n",
              "      <td>1</td>\n",
              "      <td>Group3</td>\n",
              "    </tr>\n",
              "    <tr>\n",
              "      <th>3</th>\n",
              "      <td>1</td>\n",
              "      <td>89</td>\n",
              "      <td>66</td>\n",
              "      <td>23</td>\n",
              "      <td>94</td>\n",
              "      <td>28.1</td>\n",
              "      <td>0.167</td>\n",
              "      <td>21</td>\n",
              "      <td>0</td>\n",
              "      <td>Group1</td>\n",
              "    </tr>\n",
              "    <tr>\n",
              "      <th>4</th>\n",
              "      <td>0</td>\n",
              "      <td>137</td>\n",
              "      <td>40</td>\n",
              "      <td>35</td>\n",
              "      <td>168</td>\n",
              "      <td>43.1</td>\n",
              "      <td>2.288</td>\n",
              "      <td>33</td>\n",
              "      <td>1</td>\n",
              "      <td>Group3</td>\n",
              "    </tr>\n",
              "    <tr>\n",
              "      <th>5</th>\n",
              "      <td>5</td>\n",
              "      <td>116</td>\n",
              "      <td>74</td>\n",
              "      <td>0</td>\n",
              "      <td>0</td>\n",
              "      <td>25.6</td>\n",
              "      <td>0.201</td>\n",
              "      <td>30</td>\n",
              "      <td>0</td>\n",
              "      <td>Group3</td>\n",
              "    </tr>\n",
              "    <tr>\n",
              "      <th>6</th>\n",
              "      <td>3</td>\n",
              "      <td>78</td>\n",
              "      <td>50</td>\n",
              "      <td>32</td>\n",
              "      <td>88</td>\n",
              "      <td>31.0</td>\n",
              "      <td>0.248</td>\n",
              "      <td>26</td>\n",
              "      <td>1</td>\n",
              "      <td>Group2</td>\n",
              "    </tr>\n",
              "    <tr>\n",
              "      <th>7</th>\n",
              "      <td>10</td>\n",
              "      <td>115</td>\n",
              "      <td>0</td>\n",
              "      <td>0</td>\n",
              "      <td>0</td>\n",
              "      <td>35.3</td>\n",
              "      <td>0.134</td>\n",
              "      <td>29</td>\n",
              "      <td>0</td>\n",
              "      <td>Group2</td>\n",
              "    </tr>\n",
              "    <tr>\n",
              "      <th>8</th>\n",
              "      <td>2</td>\n",
              "      <td>197</td>\n",
              "      <td>70</td>\n",
              "      <td>45</td>\n",
              "      <td>543</td>\n",
              "      <td>30.5</td>\n",
              "      <td>0.158</td>\n",
              "      <td>53</td>\n",
              "      <td>1</td>\n",
              "      <td>Group5</td>\n",
              "    </tr>\n",
              "    <tr>\n",
              "      <th>9</th>\n",
              "      <td>8</td>\n",
              "      <td>125</td>\n",
              "      <td>96</td>\n",
              "      <td>0</td>\n",
              "      <td>0</td>\n",
              "      <td>0.0</td>\n",
              "      <td>0.232</td>\n",
              "      <td>54</td>\n",
              "      <td>1</td>\n",
              "      <td>Group5</td>\n",
              "    </tr>\n",
              "  </tbody>\n",
              "</table>\n",
              "</div>\n",
              "      <button class=\"colab-df-convert\" onclick=\"convertToInteractive('df-95a89d3b-9e58-4c93-866a-8e18c2e41899')\"\n",
              "              title=\"Convert this dataframe to an interactive table.\"\n",
              "              style=\"display:none;\">\n",
              "        \n",
              "  <svg xmlns=\"http://www.w3.org/2000/svg\" height=\"24px\"viewBox=\"0 0 24 24\"\n",
              "       width=\"24px\">\n",
              "    <path d=\"M0 0h24v24H0V0z\" fill=\"none\"/>\n",
              "    <path d=\"M18.56 5.44l.94 2.06.94-2.06 2.06-.94-2.06-.94-.94-2.06-.94 2.06-2.06.94zm-11 1L8.5 8.5l.94-2.06 2.06-.94-2.06-.94L8.5 2.5l-.94 2.06-2.06.94zm10 10l.94 2.06.94-2.06 2.06-.94-2.06-.94-.94-2.06-.94 2.06-2.06.94z\"/><path d=\"M17.41 7.96l-1.37-1.37c-.4-.4-.92-.59-1.43-.59-.52 0-1.04.2-1.43.59L10.3 9.45l-7.72 7.72c-.78.78-.78 2.05 0 2.83L4 21.41c.39.39.9.59 1.41.59.51 0 1.02-.2 1.41-.59l7.78-7.78 2.81-2.81c.8-.78.8-2.07 0-2.86zM5.41 20L4 18.59l7.72-7.72 1.47 1.35L5.41 20z\"/>\n",
              "  </svg>\n",
              "      </button>\n",
              "      \n",
              "  <style>\n",
              "    .colab-df-container {\n",
              "      display:flex;\n",
              "      flex-wrap:wrap;\n",
              "      gap: 12px;\n",
              "    }\n",
              "\n",
              "    .colab-df-convert {\n",
              "      background-color: #E8F0FE;\n",
              "      border: none;\n",
              "      border-radius: 50%;\n",
              "      cursor: pointer;\n",
              "      display: none;\n",
              "      fill: #1967D2;\n",
              "      height: 32px;\n",
              "      padding: 0 0 0 0;\n",
              "      width: 32px;\n",
              "    }\n",
              "\n",
              "    .colab-df-convert:hover {\n",
              "      background-color: #E2EBFA;\n",
              "      box-shadow: 0px 1px 2px rgba(60, 64, 67, 0.3), 0px 1px 3px 1px rgba(60, 64, 67, 0.15);\n",
              "      fill: #174EA6;\n",
              "    }\n",
              "\n",
              "    [theme=dark] .colab-df-convert {\n",
              "      background-color: #3B4455;\n",
              "      fill: #D2E3FC;\n",
              "    }\n",
              "\n",
              "    [theme=dark] .colab-df-convert:hover {\n",
              "      background-color: #434B5C;\n",
              "      box-shadow: 0px 1px 3px 1px rgba(0, 0, 0, 0.15);\n",
              "      filter: drop-shadow(0px 1px 2px rgba(0, 0, 0, 0.3));\n",
              "      fill: #FFFFFF;\n",
              "    }\n",
              "  </style>\n",
              "\n",
              "      <script>\n",
              "        const buttonEl =\n",
              "          document.querySelector('#df-95a89d3b-9e58-4c93-866a-8e18c2e41899 button.colab-df-convert');\n",
              "        buttonEl.style.display =\n",
              "          google.colab.kernel.accessAllowed ? 'block' : 'none';\n",
              "\n",
              "        async function convertToInteractive(key) {\n",
              "          const element = document.querySelector('#df-95a89d3b-9e58-4c93-866a-8e18c2e41899');\n",
              "          const dataTable =\n",
              "            await google.colab.kernel.invokeFunction('convertToInteractive',\n",
              "                                                     [key], {});\n",
              "          if (!dataTable) return;\n",
              "\n",
              "          const docLinkHtml = 'Like what you see? Visit the ' +\n",
              "            '<a target=\"_blank\" href=https://colab.research.google.com/notebooks/data_table.ipynb>data table notebook</a>'\n",
              "            + ' to learn more about interactive tables.';\n",
              "          element.innerHTML = '';\n",
              "          dataTable['output_type'] = 'display_data';\n",
              "          await google.colab.output.renderOutput(dataTable, element);\n",
              "          const docLink = document.createElement('div');\n",
              "          docLink.innerHTML = docLinkHtml;\n",
              "          element.appendChild(docLink);\n",
              "        }\n",
              "      </script>\n",
              "    </div>\n",
              "  </div>\n",
              "  "
            ]
          },
          "metadata": {},
          "execution_count": 38
        }
      ]
    },
    {
      "cell_type": "markdown",
      "source": [
        "**Explanation**\n",
        "\n",
        "This code defines a function called 'age_Group' that takes an input 'Age' and returns a corresponding age group based on the input value. The age groups are defined in the function using a series of conditional statements.\n",
        "\n",
        "The 'diabetes' dataframe is then updated by creating a new column called 'AgeGroup', which is populated by applying the 'age_Group' function to the 'Age' column. This is done using the 'apply' method, which applies a function to each element in a Pandas series and returns a new series with the results.\n",
        "\n",
        "The resulting 'diabetes' dataframe has a new column called 'AgeGroup', which contains the corresponding age group for each row based on the 'Age' column. The first 10 rows of the updated dataframe are then displayed using the 'head' method.\n"
      ],
      "metadata": {
        "id": "FuoFYg39W2Da"
      },
      "id": "FuoFYg39W2Da"
    },
    {
      "cell_type": "markdown",
      "id": "05151ea0-da7d-49a8-a188-272f17158a85",
      "metadata": {
        "id": "05151ea0-da7d-49a8-a188-272f17158a85"
      },
      "source": [
        "---\n",
        "\n",
        "**Problem 2**\n",
        "\n",
        "Compare both analytically/numerically and visually the BMI of different age groups, which you created from the previous problem."
      ]
    },
    {
      "cell_type": "code",
      "source": [
        "# Use Statistical/Numerical method to compare the BMI of different age Groups using Mean(Avarage)\n",
        "diabetes.groupby('AgeGroup')['BMI'].mean()"
      ],
      "metadata": {
        "colab": {
          "base_uri": "https://localhost:8080/"
        },
        "id": "ox-O0bcx5lMs",
        "outputId": "eae13240-1d1a-4a6c-a77e-02c5d2733863"
      },
      "id": "ox-O0bcx5lMs",
      "execution_count": 39,
      "outputs": [
        {
          "output_type": "execute_result",
          "data": {
            "text/plain": [
              "AgeGroup\n",
              "Group1    30.011416\n",
              "Group2    33.096610\n",
              "Group3    32.472121\n",
              "Group4    34.617797\n",
              "Group5    30.302247\n",
              "Name: BMI, dtype: float64"
            ]
          },
          "metadata": {},
          "execution_count": 39
        }
      ]
    },
    {
      "cell_type": "code",
      "source": [
        "# Using Visualization to compare the BMI of the Age groups\n",
        "# Box Plot\n",
        "import seaborn as sns\n",
        "\n",
        "sns.boxplot(x='AgeGroup',y='BMI', data=diabetes)\n",
        "\n"
      ],
      "metadata": {
        "colab": {
          "base_uri": "https://localhost:8080/",
          "height": 299
        },
        "id": "EUtV07zU66rP",
        "outputId": "446d9b7d-7062-4b4e-d69e-7a2bcc9bb7cb"
      },
      "id": "EUtV07zU66rP",
      "execution_count": 40,
      "outputs": [
        {
          "output_type": "execute_result",
          "data": {
            "text/plain": [
              "<Axes: xlabel='AgeGroup', ylabel='BMI'>"
            ]
          },
          "metadata": {},
          "execution_count": 40
        },
        {
          "output_type": "display_data",
          "data": {
            "text/plain": [
              "<Figure size 432x288 with 1 Axes>"
            ],
            "image/png": "[encoded data removed]"
          },
          "metadata": {
            "needs_background": "light"
          }
        }
      ]
    },
    {
      "cell_type": "code",
      "source": [
        "# Histogram\n",
        "sns.histplot(data=diabetes,x='AgeGroup',y='BMI')"
      ],
      "metadata": {
        "colab": {
          "base_uri": "https://localhost:8080/",
          "height": 299
        },
        "id": "oGe12-Zb8azt",
        "outputId": "337c8452-f961-42e2-d49f-72f302df1f17"
      },
      "id": "oGe12-Zb8azt",
      "execution_count": 41,
      "outputs": [
        {
          "output_type": "execute_result",
          "data": {
            "text/plain": [
              "<Axes: xlabel='AgeGroup', ylabel='BMI'>"
            ]
          },
          "metadata": {},
          "execution_count": 41
        },
        {
          "output_type": "display_data",
          "data": {
            "text/plain": [
              "<Figure size 432x288 with 1 Axes>"
            ],
            "image/png": "[encoded data removed]"
          },
          "metadata": {
            "needs_background": "light"
          }
        }
      ]
    },
    {
      "cell_type": "markdown",
      "id": "d79e0904-8cbc-43e6-8560-2d4113aa6d3b",
      "metadata": {
        "id": "d79e0904-8cbc-43e6-8560-2d4113aa6d3b"
      },
      "source": [
        "---\n",
        "\n",
        "**Problem 3**\n",
        "\n",
        "Create a new column for \"BMILevel\", which has values: UnderWeight, Healthy, Overweight, Obesity, Class3Obesity, based on the information from this website:\n",
        "\n",
        "https://www.cdc.gov/obesity/basics/adult-defining.html\n"
      ]
    },
    {
      "cell_type": "code",
      "source": [
        "# Requirements\n",
        "# If your BMI is less than 18.5, it falls within the underweight range.\n",
        "# If your BMI is 18.5 to <25, it falls within the healthy weight range.\n",
        "# If your BMI is 25.0 to <30, it falls within the overweight range.\n",
        "# If your BMI is 30.0 or higher, it falls within the obesity range.\n",
        "# Obesity is frequently subdivided into categories:\n",
        "\n",
        "# Class 1: BMI of 30 to < 35\n",
        "# Class 2: BMI of 35 to < 40\n",
        "# Class 3: BMI of 40 or higher. Class 3 obesity is sometimes categorized as “severe” obesity."
      ],
      "metadata": {
        "id": "OTn8rVRV-txa"
      },
      "id": "OTn8rVRV-txa",
      "execution_count": null,
      "outputs": []
    },
    {
      "cell_type": "code",
      "source": [
        "# Function to Map the  Values to the BMILevel\n",
        "def map_val(BMI):\n",
        "  if BMI <18.5:\n",
        "    return 'UnderWeight'\n",
        "  elif BMI >= 18.5 and BMI <25:\n",
        "    return 'Healthy'\n",
        "  elif BMI >= 25.0 and BMI <30:\n",
        "    return 'OverWeight'\n",
        "  elif BMI >=30 and BMI <35:\n",
        "    return 'Class 1 Obesity'\n",
        "  elif BMI >= 35 and BMI <40:\n",
        "    return 'Class 2 Obesity'\n",
        "  else:\n",
        "    return 'Class 3 Obesity'\n",
        "# add a new Column to the  the diabetes dataset \n",
        "diabetes['BMILevel']=diabetes['BMI'].apply(map_val)\n",
        "diabetes.head(10)"
      ],
      "metadata": {
        "colab": {
          "base_uri": "https://localhost:8080/",
          "height": 514
        },
        "id": "qVU2mXmf-Bi_",
        "outputId": "aec302b3-9349-4636-f017-9a66b18fb958"
      },
      "id": "qVU2mXmf-Bi_",
      "execution_count": 42,
      "outputs": [
        {
          "output_type": "execute_result",
          "data": {
            "text/plain": [
              "   Pregnancies  Glucose  BloodPressure  SkinThickness  Insulin   BMI  \\\n",
              "0            6      148             72             35        0  33.6   \n",
              "1            1       85             66             29        0  26.6   \n",
              "2            8      183             64              0        0  23.3   \n",
              "3            1       89             66             23       94  28.1   \n",
              "4            0      137             40             35      168  43.1   \n",
              "5            5      116             74              0        0  25.6   \n",
              "6            3       78             50             32       88  31.0   \n",
              "7           10      115              0              0        0  35.3   \n",
              "8            2      197             70             45      543  30.5   \n",
              "9            8      125             96              0        0   0.0   \n",
              "\n",
              "   DiabetesPedigreeFunction  Age  Outcome AgeGroup         BMILevel  \n",
              "0                     0.627   50        1   Group5  Class 1 Obesity  \n",
              "1                     0.351   31        0   Group3       OverWeight  \n",
              "2                     0.672   32        1   Group3          Healthy  \n",
              "3                     0.167   21        0   Group1       OverWeight  \n",
              "4                     2.288   33        1   Group3  Class 3 Obesity  \n",
              "5                     0.201   30        0   Group3       OverWeight  \n",
              "6                     0.248   26        1   Group2  Class 1 Obesity  \n",
              "7                     0.134   29        0   Group2  Class 2 Obesity  \n",
              "8                     0.158   53        1   Group5  Class 1 Obesity  \n",
              "9                     0.232   54        1   Group5      UnderWeight  "
            ],
            "text/html": [
              "\n",
              "  <div id=\"df-be7f6eb6-87a7-474e-8f92-beaafbf9969f\">\n",
              "    <div class=\"colab-df-container\">\n",
              "      <div>\n",
              "<style scoped>\n",
              "    .dataframe tbody tr th:only-of-type {\n",
              "        vertical-align: middle;\n",
              "    }\n",
              "\n",
              "    .dataframe tbody tr th {\n",
              "        vertical-align: top;\n",
              "    }\n",
              "\n",
              "    .dataframe thead th {\n",
              "        text-align: right;\n",
              "    }\n",
              "</style>\n",
              "<table border=\"1\" class=\"dataframe\">\n",
              "  <thead>\n",
              "    <tr style=\"text-align: right;\">\n",
              "      <th></th>\n",
              "      <th>Pregnancies</th>\n",
              "      <th>Glucose</th>\n",
              "      <th>BloodPressure</th>\n",
              "      <th>SkinThickness</th>\n",
              "      <th>Insulin</th>\n",
              "      <th>BMI</th>\n",
              "      <th>DiabetesPedigreeFunction</th>\n",
              "      <th>Age</th>\n",
              "      <th>Outcome</th>\n",
              "      <th>AgeGroup</th>\n",
              "      <th>BMILevel</th>\n",
              "    </tr>\n",
              "  </thead>\n",
              "  <tbody>\n",
              "    <tr>\n",
              "      <th>0</th>\n",
              "      <td>6</td>\n",
              "      <td>148</td>\n",
              "      <td>72</td>\n",
              "      <td>35</td>\n",
              "      <td>0</td>\n",
              "      <td>33.6</td>\n",
              "      <td>0.627</td>\n",
              "      <td>50</td>\n",
              "      <td>1</td>\n",
              "      <td>Group5</td>\n",
              "      <td>Class 1 Obesity</td>\n",
              "    </tr>\n",
              "    <tr>\n",
              "      <th>1</th>\n",
              "      <td>1</td>\n",
              "      <td>85</td>\n",
              "      <td>66</td>\n",
              "      <td>29</td>\n",
              "      <td>0</td>\n",
              "      <td>26.6</td>\n",
              "      <td>0.351</td>\n",
              "      <td>31</td>\n",
              "      <td>0</td>\n",
              "      <td>Group3</td>\n",
              "      <td>OverWeight</td>\n",
              "    </tr>\n",
              "    <tr>\n",
              "      <th>2</th>\n",
              "      <td>8</td>\n",
              "      <td>183</td>\n",
              "      <td>64</td>\n",
              "      <td>0</td>\n",
              "      <td>0</td>\n",
              "      <td>23.3</td>\n",
              "      <td>0.672</td>\n",
              "      <td>32</td>\n",
              "      <td>1</td>\n",
              "      <td>Group3</td>\n",
              "      <td>Healthy</td>\n",
              "    </tr>\n",
              "    <tr>\n",
              "      <th>3</th>\n",
              "      <td>1</td>\n",
              "      <td>89</td>\n",
              "      <td>66</td>\n",
              "      <td>23</td>\n",
              "      <td>94</td>\n",
              "      <td>28.1</td>\n",
              "      <td>0.167</td>\n",
              "      <td>21</td>\n",
              "      <td>0</td>\n",
              "      <td>Group1</td>\n",
              "      <td>OverWeight</td>\n",
              "    </tr>\n",
              "    <tr>\n",
              "      <th>4</th>\n",
              "      <td>0</td>\n",
              "      <td>137</td>\n",
              "      <td>40</td>\n",
              "      <td>35</td>\n",
              "      <td>168</td>\n",
              "      <td>43.1</td>\n",
              "      <td>2.288</td>\n",
              "      <td>33</td>\n",
              "      <td>1</td>\n",
              "      <td>Group3</td>\n",
              "      <td>Class 3 Obesity</td>\n",
              "    </tr>\n",
              "    <tr>\n",
              "      <th>5</th>\n",
              "      <td>5</td>\n",
              "      <td>116</td>\n",
              "      <td>74</td>\n",
              "      <td>0</td>\n",
              "      <td>0</td>\n",
              "      <td>25.6</td>\n",
              "      <td>0.201</td>\n",
              "      <td>30</td>\n",
              "      <td>0</td>\n",
              "      <td>Group3</td>\n",
              "      <td>OverWeight</td>\n",
              "    </tr>\n",
              "    <tr>\n",
              "      <th>6</th>\n",
              "      <td>3</td>\n",
              "      <td>78</td>\n",
              "      <td>50</td>\n",
              "      <td>32</td>\n",
              "      <td>88</td>\n",
              "      <td>31.0</td>\n",
              "      <td>0.248</td>\n",
              "      <td>26</td>\n",
              "      <td>1</td>\n",
              "      <td>Group2</td>\n",
              "      <td>Class 1 Obesity</td>\n",
              "    </tr>\n",
              "    <tr>\n",
              "      <th>7</th>\n",
              "      <td>10</td>\n",
              "      <td>115</td>\n",
              "      <td>0</td>\n",
              "      <td>0</td>\n",
              "      <td>0</td>\n",
              "      <td>35.3</td>\n",
              "      <td>0.134</td>\n",
              "      <td>29</td>\n",
              "      <td>0</td>\n",
              "      <td>Group2</td>\n",
              "      <td>Class 2 Obesity</td>\n",
              "    </tr>\n",
              "    <tr>\n",
              "      <th>8</th>\n",
              "      <td>2</td>\n",
              "      <td>197</td>\n",
              "      <td>70</td>\n",
              "      <td>45</td>\n",
              "      <td>543</td>\n",
              "      <td>30.5</td>\n",
              "      <td>0.158</td>\n",
              "      <td>53</td>\n",
              "      <td>1</td>\n",
              "      <td>Group5</td>\n",
              "      <td>Class 1 Obesity</td>\n",
              "    </tr>\n",
              "    <tr>\n",
              "      <th>9</th>\n",
              "      <td>8</td>\n",
              "      <td>125</td>\n",
              "      <td>96</td>\n",
              "      <td>0</td>\n",
              "      <td>0</td>\n",
              "      <td>0.0</td>\n",
              "      <td>0.232</td>\n",
              "      <td>54</td>\n",
              "      <td>1</td>\n",
              "      <td>Group5</td>\n",
              "      <td>UnderWeight</td>\n",
              "    </tr>\n",
              "  </tbody>\n",
              "</table>\n",
              "</div>\n",
              "      <button class=\"colab-df-convert\" onclick=\"convertToInteractive('df-be7f6eb6-87a7-474e-8f92-beaafbf9969f')\"\n",
              "              title=\"Convert this dataframe to an interactive table.\"\n",
              "              style=\"display:none;\">\n",
              "        \n",
              "  <svg xmlns=\"http://www.w3.org/2000/svg\" height=\"24px\"viewBox=\"0 0 24 24\"\n",
              "       width=\"24px\">\n",
              "    <path d=\"M0 0h24v24H0V0z\" fill=\"none\"/>\n",
              "    <path d=\"M18.56 5.44l.94 2.06.94-2.06 2.06-.94-2.06-.94-.94-2.06-.94 2.06-2.06.94zm-11 1L8.5 8.5l.94-2.06 2.06-.94-2.06-.94L8.5 2.5l-.94 2.06-2.06.94zm10 10l.94 2.06.94-2.06 2.06-.94-2.06-.94-.94-2.06-.94 2.06-2.06.94z\"/><path d=\"M17.41 7.96l-1.37-1.37c-.4-.4-.92-.59-1.43-.59-.52 0-1.04.2-1.43.59L10.3 9.45l-7.72 7.72c-.78.78-.78 2.05 0 2.83L4 21.41c.39.39.9.59 1.41.59.51 0 1.02-.2 1.41-.59l7.78-7.78 2.81-2.81c.8-.78.8-2.07 0-2.86zM5.41 20L4 18.59l7.72-7.72 1.47 1.35L5.41 20z\"/>\n",
              "  </svg>\n",
              "      </button>\n",
              "      \n",
              "  <style>\n",
              "    .colab-df-container {\n",
              "      display:flex;\n",
              "      flex-wrap:wrap;\n",
              "      gap: 12px;\n",
              "    }\n",
              "\n",
              "    .colab-df-convert {\n",
              "      background-color: #E8F0FE;\n",
              "      border: none;\n",
              "      border-radius: 50%;\n",
              "      cursor: pointer;\n",
              "      display: none;\n",
              "      fill: #1967D2;\n",
              "      height: 32px;\n",
              "      padding: 0 0 0 0;\n",
              "      width: 32px;\n",
              "    }\n",
              "\n",
              "    .colab-df-convert:hover {\n",
              "      background-color: #E2EBFA;\n",
              "      box-shadow: 0px 1px 2px rgba(60, 64, 67, 0.3), 0px 1px 3px 1px rgba(60, 64, 67, 0.15);\n",
              "      fill: #174EA6;\n",
              "    }\n",
              "\n",
              "    [theme=dark] .colab-df-convert {\n",
              "      background-color: #3B4455;\n",
              "      fill: #D2E3FC;\n",
              "    }\n",
              "\n",
              "    [theme=dark] .colab-df-convert:hover {\n",
              "      background-color: #434B5C;\n",
              "      box-shadow: 0px 1px 3px 1px rgba(0, 0, 0, 0.15);\n",
              "      filter: drop-shadow(0px 1px 2px rgba(0, 0, 0, 0.3));\n",
              "      fill: #FFFFFF;\n",
              "    }\n",
              "  </style>\n",
              "\n",
              "      <script>\n",
              "        const buttonEl =\n",
              "          document.querySelector('#df-be7f6eb6-87a7-474e-8f92-beaafbf9969f button.colab-df-convert');\n",
              "        buttonEl.style.display =\n",
              "          google.colab.kernel.accessAllowed ? 'block' : 'none';\n",
              "\n",
              "        async function convertToInteractive(key) {\n",
              "          const element = document.querySelector('#df-be7f6eb6-87a7-474e-8f92-beaafbf9969f');\n",
              "          const dataTable =\n",
              "            await google.colab.kernel.invokeFunction('convertToInteractive',\n",
              "                                                     [key], {});\n",
              "          if (!dataTable) return;\n",
              "\n",
              "          const docLinkHtml = 'Like what you see? Visit the ' +\n",
              "            '<a target=\"_blank\" href=https://colab.research.google.com/notebooks/data_table.ipynb>data table notebook</a>'\n",
              "            + ' to learn more about interactive tables.';\n",
              "          element.innerHTML = '';\n",
              "          dataTable['output_type'] = 'display_data';\n",
              "          await google.colab.output.renderOutput(dataTable, element);\n",
              "          const docLink = document.createElement('div');\n",
              "          docLink.innerHTML = docLinkHtml;\n",
              "          element.appendChild(docLink);\n",
              "        }\n",
              "      </script>\n",
              "    </div>\n",
              "  </div>\n",
              "  "
            ]
          },
          "metadata": {},
          "execution_count": 42
        }
      ]
    },
    {
      "cell_type": "markdown",
      "source": [
        "**Explanation**\n",
        "\n",
        "This code defines a function called 'map_val' that takes an input 'BMI' and returns a corresponding BMI level based on the input value. The BMI levels are defined in the function using a series of conditional statements.\n",
        "\n",
        "The 'diabetes' dataframe is then updated by creating a new column called 'BMILevel', which is populated by applying the 'map_val' function to the 'BMI' column. This is done using the 'apply' method, which applies a function to each element in a Pandas series and returns a new series with the results.\n",
        "\n",
        "The resulting 'diabetes' dataframe has a new column called 'BMILevel', which contains the corresponding BMI level for each row based on the 'BMI' column. The first 10 rows of the updated dataframe are then displayed using the 'head' method."
      ],
      "metadata": {
        "id": "jO7wXX9bXymT"
      },
      "id": "jO7wXX9bXymT"
    },
    {
      "cell_type": "markdown",
      "id": "df8b2834-790d-44d4-9ef1-73ee7791a8de",
      "metadata": {
        "id": "df8b2834-790d-44d4-9ef1-73ee7791a8de"
      },
      "source": [
        "---\n",
        "**Problem 4**\n",
        "\n",
        "\n",
        "Compare both analytically/numerically and visually the Glucose values of different pairs of age groups and BMI levels, which you created from the previous problems."
      ]
    },
    {
      "cell_type": "code",
      "source": [
        "# Comparing numerically for The BMILevel and Glucose level using Mean(Statistical Mean)\n",
        "diabetes.groupby('BMILevel')['Glucose'].mean()"
      ],
      "metadata": {
        "colab": {
          "base_uri": "https://localhost:8080/"
        },
        "id": "y_D2WC5mCAMI",
        "outputId": "c6b0867f-0540-4406-b4d2-5626f0755f8a"
      },
      "id": "y_D2WC5mCAMI",
      "execution_count": 43,
      "outputs": [
        {
          "output_type": "execute_result",
          "data": {
            "text/plain": [
              "BMILevel\n",
              "Class 1 Obesity    124.366071\n",
              "Class 2 Obesity    123.326667\n",
              "Class 3 Obesity    133.897959\n",
              "Healthy            107.980392\n",
              "OverWeight         116.346369\n",
              "UnderWeight        101.866667\n",
              "Name: Glucose, dtype: float64"
            ]
          },
          "metadata": {},
          "execution_count": 43
        }
      ]
    },
    {
      "cell_type": "code",
      "source": [
        "# box plot\n",
        "sns.boxplot(x='BMILevel',y='Glucose', data=diabetes)"
      ],
      "metadata": {
        "colab": {
          "base_uri": "https://localhost:8080/",
          "height": 296
        },
        "id": "3REktCHzDHkW",
        "outputId": "4e1251e0-b232-4449-81df-de7b9f2c3c49"
      },
      "id": "3REktCHzDHkW",
      "execution_count": 44,
      "outputs": [
        {
          "output_type": "execute_result",
          "data": {
            "text/plain": [
              "<Axes: xlabel='BMILevel', ylabel='Glucose'>"
            ]
          },
          "metadata": {},
          "execution_count": 44
        },
        {
          "output_type": "display_data",
          "data": {
            "text/plain": [
              "<Figure size 432x288 with 1 Axes>"
            ],
            "image/png": "[encoded data removed]"
          },
          "metadata": {
            "needs_background": "light"
          }
        }
      ]
    },
    {
      "cell_type": "code",
      "source": [
        "# Histogram\n",
        "sns.histplot(x='BMILevel',y='Glucose',data=diabetes)"
      ],
      "metadata": {
        "colab": {
          "base_uri": "https://localhost:8080/",
          "height": 296
        },
        "id": "Z2PIuTYBDfhv",
        "outputId": "f5451fff-de82-4806-daf4-b0660633c22a"
      },
      "id": "Z2PIuTYBDfhv",
      "execution_count": 45,
      "outputs": [
        {
          "output_type": "execute_result",
          "data": {
            "text/plain": [
              "<Axes: xlabel='BMILevel', ylabel='Glucose'>"
            ]
          },
          "metadata": {},
          "execution_count": 45
        },
        {
          "output_type": "display_data",
          "data": {
            "text/plain": [
              "<Figure size 432x288 with 1 Axes>"
            ],
            "image/png": "[encoded data removed]"
          },
          "metadata": {
            "needs_background": "light"
          }
        }
      ]
    },
    {
      "cell_type": "markdown",
      "id": "43ab494a-4502-4657-a1fc-8692eb93194d",
      "metadata": {
        "id": "43ab494a-4502-4657-a1fc-8692eb93194d"
      },
      "source": [
        "---\n",
        "\n",
        "**Problem 5**\n",
        "\n",
        "Create a set of features that will be used for modeling.  These features are:\n",
        "* Blood pressure\n",
        "* Insulin\n",
        "* Age group\n",
        "* BMI level\n",
        "\n",
        "Use standard scaling to rescale blood pressure and insulin.\n",
        "\n",
        "Use the categorical features age group and BMI level into numerical features.\n",
        "\n"
      ]
    },
    {
      "cell_type": "code",
      "source": [
        "import pandas as pd\n",
        "# Select the relevant columns from the diabetes dataset for the features you want to include. In this case, you want to include 'BloodPressure', 'Insulin', 'Age', and 'BMILevel':\n",
        "\n",
        "features = diabetes[['BloodPressure', 'Insulin', 'Age', 'BMILevel']]\n",
        "# Rescale the 'BloodPressure' and 'Insulin' columns using standard scaling, which involves subtracting the mean and dividing by the standard deviation:\n",
        "\n",
        "from sklearn.preprocessing import StandardScaler\n",
        "scaler = StandardScaler()\n",
        "features[['BloodPressure', 'Insulin']] = scaler.fit_transform(features[['BloodPressure', 'Insulin']])\n",
        "# Convert the categorical features 'Age' and 'BMILevel' into numerical features using one-hot encoding. This will create additional columns for each category in the original columns:\n",
        "\n",
        "features = pd.get_dummies(features, columns=['Age', 'BMILevel'])\n",
        "# The resulting 'features' dataframe will contain the rescaled 'BloodPressure' and 'Insulin' columns, as well as the one-hot encoded 'Age' and 'BMILevel' columns. These features can then be used for modeling."
      ],
      "metadata": {
        "colab": {
          "base_uri": "https://localhost:8080/"
        },
        "id": "pKwA2uApUBip",
        "outputId": "9c125d62-4d9a-469b-ab7f-329097627aa4"
      },
      "id": "pKwA2uApUBip",
      "execution_count": 46,
      "outputs": [
        {
          "output_type": "stream",
          "name": "stderr",
          "text": [
            "<ipython-input-46-8c70187602f0>:9: SettingWithCopyWarning: \n",
            "A value is trying to be set on a copy of a slice from a DataFrame.\n",
            "Try using .loc[row_indexer,col_indexer] = value instead\n",
            "\n",
            "See the caveats in the documentation: https://pandas.pydata.org/pandas-docs/stable/user_guide/indexing.html#returning-a-view-versus-a-copy\n",
            "  features[['BloodPressure', 'Insulin']] = scaler.fit_transform(features[['BloodPressure', 'Insulin']])\n"
          ]
        }
      ]
    },
    {
      "cell_type": "markdown",
      "source": [
        "**Explanation**\n",
        "\n",
        "a subset of columns from the 'diabetes' dataset is selected using double square brackets and assigned to a new variable called 'features'. The selected columns are 'BloodPressure', 'Insulin', 'Age', and 'BMILevel'.\n",
        "\n",
        "Next, the 'StandardScaler' function is imported from the 'sklearn.preprocessing' library. A new 'scaler' object is created using the 'StandardScaler' function, which will be used to rescale the 'BloodPressure' and 'Insulin' columns.\n",
        "\n",
        "The 'fit_transform' method of the 'scaler' object is used to apply standard scaling to the 'BloodPressure' and 'Insulin' columns in the 'features' dataframe. The resulting rescaled values are then assigned back to the 'BloodPressure' and 'Insulin' columns in the 'features' dataframe.\n",
        "\n",
        "Finally, the 'get_dummies' function from the Pandas library is used to convert the categorical features 'Age' and 'BMILevel' into numerical features using one-hot encoding. The resulting one-hot encoded columns are added to the 'features' dataframe as additional columns.\n",
        "\n",
        "The resulting 'features' dataframe contains the rescaled 'BloodPressure' and 'Insulin' columns, as well as the one-hot encoded 'Age' and 'BMILevel' columns. These features can be used for machine learning modeling.\n",
        "\n",
        "\n",
        "\n",
        "\n"
      ],
      "metadata": {
        "id": "0763frKnYWmM"
      },
      "id": "0763frKnYWmM"
    }
  ],
  "metadata": {
    "kernelspec": {
      "display_name": "Python 3 (ipykernel)",
      "language": "python",
      "name": "python3"
    },
    "language_info": {
      "codemirror_mode": {
        "name": "ipython",
        "version": 3
      },
      "file_extension": ".py",
      "mimetype": "text/x-python",
      "name": "python",
      "nbconvert_exporter": "python",
      "pygments_lexer": "ipython3",
      "version": "3.9.12"
    },
    "colab": {
      "provenance": [],
      "include_colab_link": true
    }
  },
  "nbformat": 4,
  "nbformat_minor": 5
}