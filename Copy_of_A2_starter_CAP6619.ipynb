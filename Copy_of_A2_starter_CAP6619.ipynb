{
  "nbformat": 4,
  "nbformat_minor": 0,
  "metadata": {
    "kernelspec": {
      "display_name": "Python 3",
      "language": "python",
      "name": "python3"
    },
    "language_info": {
      "codemirror_mode": {
        "name": "ipython",
        "version": 3
      },
      "file_extension": ".py",
      "mimetype": "text/x-python",
      "name": "python",
      "nbconvert_exporter": "python",
      "pygments_lexer": "ipython3",
      "version": "3.6.5"
    },
    "colab": {
      "provenance": [],
      "toc_visible": true,
      "include_colab_link": true
    },
    "accelerator": "GPU"
  },
  "cells": [
    {
      "cell_type": "markdown",
      "metadata": {
        "id": "view-in-github",
        "colab_type": "text"
      },
      "source": [
        "<a href=\"https://colab.research.google.com/github/sammainahkinya1404/Machine-Learning/blob/main/Copy_of_A2_starter_CAP6619.ipynb\" target=\"_parent\"><img src=\"https://colab.research.google.com/assets/colab-badge.svg\" alt=\"Open In Colab\"/></a>"
      ]
    },
    {
      "cell_type": "markdown",
      "metadata": {
        "id": "Whf_8TEO-6qX"
      },
      "source": [
        "# CAP 6619 - Deep Learning\n",
        "## Dr Marques\n",
        "## Project 2\n",
        "\n",
        "Deep learning solutions for: \n",
        "- Binary classification of movie reviews using the IMDB dataset\n",
        "- Multiclass classification of newswires using the Reuters dataset\n",
        "- Regression for house price estimation using the Boston Housing Price dataset"
      ]
    },
    {
      "cell_type": "markdown",
      "metadata": {
        "id": "32AXUOrLxvoD"
      },
      "source": [
        "Useful references and sources:\n",
        "\n",
        "- https://keras.io/api/datasets/imdb/\n",
        "- https://www.tensorflow.org/datasets/catalog/imdb_reviews\n",
        "- https://www.tensorflow.org/tutorials/keras/text_classification_with_hub\n",
        "- https://colab.research.google.com/github/fchollet/deep-learning-with-python-notebooks/blob/master/chapter04_getting-started-with-neural-networks.ipynb \n",
        "- https://developers.google.com/machine-learning/guides/text-classification/\n",
        "- https://machinelearningmastery.com/sequence-classification-lstm-recurrent-neural-networks-python-keras/"
      ]
    },
    {
      "cell_type": "markdown",
      "metadata": {
        "id": "o_i0NIxeykr0"
      },
      "source": [
        "#### (OPTIONAL) TODO 1\n",
        "\n",
        "Add your own sources and references here."
      ]
    },
    {
      "cell_type": "markdown",
      "source": [
        "Brownlee, J. (2019). How to Develop a Deep Learning Photo Caption Generator from Scratch. Retrieved from https://machinelearningmastery.com/develop-a-deep-learning-caption-generation-model-in-python/\n",
        "Brownlee, J. (2021). How to Prepare Data for Long Short-Term Memory Networks in Python. Retrieved from https://machinelearningmastery.com/how-to-prepare-data-for-long-short-term-memory-networks-in-python/\n",
        "Brownlee, J. (2021). How to Develop a Bidirectional LSTM For Sequence Classification in Python with Keras. Retrieved from https://machinelearningmastery.com/develop-bidirectional-lstm-sequence-classification-python-keras/\n",
        "Brownlee, J. (2021). A Gentle Introduction to K-Fold Cross-Validation. Retrieved from https://machinelearningmastery.com/k-fold-cross-validation/\n",
        "Brownlee, J. (2021). How to Develop Multi-Step LSTM Time Series Forecasting Models for Power Usage. Retrieved from https://machinelearningmastery.com/how-to-develop-lstm-models-for-multi-step-time-series-forecasting-of-household-power-consumption/\n",
        "Chollet, F. (2017). Deep Learning with Python. Shelter Island, NY: Manning Publications.\n",
        "Huang, H. (2018). How to Implement a YOLO (v3) Object Detector from Scratch in PyTorch. Retrieved from https://blog.paperspace.com/how-to-implement-a-yolo-object-detector-in-pytorch/\n",
        "Nielsen, M. (2015). Neural Networks and Deep Learning. Retrieved from http://neuralnetworksanddeeplearning.com/\n",
        "Olah, C., Mordvintsev, A., & Schubert, L. (2018). Feature Visualization. Retrieved from https://distill.pub/2017/feature-visualization/\n",
        "Redmon, J., & Farhadi, A. (2018). YOLOv3: An Incremental Improvement. Retrieved from https://arxiv.org/abs/1804.02767"
      ],
      "metadata": {
        "id": "IfsBHjPoOhYv"
      }
    },
    {
      "cell_type": "markdown",
      "metadata": {
        "id": "2u-hfaHC-6qb"
      },
      "source": [
        "## Setup"
      ]
    },
    {
      "cell_type": "code",
      "metadata": {
        "id": "1H7CSr4a-6qb"
      },
      "source": [
        "from tensorflow import keras\n",
        "from keras.datasets import mnist\n",
        "from keras.models import Sequential\n",
        "from keras.layers import Dense\n",
        "from tensorflow.keras.optimizers import SGD\n",
        "from tensorflow.keras import layers\n",
        "from matplotlib import pyplot as plt\n",
        "import numpy as np"
      ],
      "execution_count": 57,
      "outputs": []
    },
    {
      "cell_type": "markdown",
      "metadata": {
        "id": "BEn1cfWJ-6rH"
      },
      "source": [
        "## PART 1 - Binary classification of movie reviews using the IMDB dataset\n",
        "\n",
        "We will start with a simple solution using a fully-connected neural network architecture. "
      ]
    },
    {
      "cell_type": "markdown",
      "metadata": {
        "id": "dxNd2jV5-6qg"
      },
      "source": [
        "### Load and prepare the data"
      ]
    },
    {
      "cell_type": "code",
      "metadata": {
        "id": "EgbHPf85SWy8"
      },
      "source": [
        "from tensorflow.keras.datasets import imdb\n",
        "(train_data, train_labels), (test_data, test_labels) = imdb.load_data(\n",
        "    num_words=10000)"
      ],
      "execution_count": 58,
      "outputs": []
    },
    {
      "cell_type": "code",
      "metadata": {
        "id": "Gm-ng4uVSWy9",
        "colab": {
          "base_uri": "https://localhost:8080/"
        },
        "outputId": "132d263d-0d07-41b3-deda-90753fbbb5d4"
      },
      "source": [
        "train_data[0]"
      ],
      "execution_count": 59,
      "outputs": [
        {
          "output_type": "execute_result",
          "data": {
            "text/plain": [
              "[1,\n",
              " 14,\n",
              " 22,\n",
              " 16,\n",
              " 43,\n",
              " 530,\n",
              " 973,\n",
              " 1622,\n",
              " 1385,\n",
              " 65,\n",
              " 458,\n",
              " 4468,\n",
              " 66,\n",
              " 3941,\n",
              " 4,\n",
              " 173,\n",
              " 36,\n",
              " 256,\n",
              " 5,\n",
              " 25,\n",
              " 100,\n",
              " 43,\n",
              " 838,\n",
              " 112,\n",
              " 50,\n",
              " 670,\n",
              " 2,\n",
              " 9,\n",
              " 35,\n",
              " 480,\n",
              " 284,\n",
              " 5,\n",
              " 150,\n",
              " 4,\n",
              " 172,\n",
              " 112,\n",
              " 167,\n",
              " 2,\n",
              " 336,\n",
              " 385,\n",
              " 39,\n",
              " 4,\n",
              " 172,\n",
              " 4536,\n",
              " 1111,\n",
              " 17,\n",
              " 546,\n",
              " 38,\n",
              " 13,\n",
              " 447,\n",
              " 4,\n",
              " 192,\n",
              " 50,\n",
              " 16,\n",
              " 6,\n",
              " 147,\n",
              " 2025,\n",
              " 19,\n",
              " 14,\n",
              " 22,\n",
              " 4,\n",
              " 1920,\n",
              " 4613,\n",
              " 469,\n",
              " 4,\n",
              " 22,\n",
              " 71,\n",
              " 87,\n",
              " 12,\n",
              " 16,\n",
              " 43,\n",
              " 530,\n",
              " 38,\n",
              " 76,\n",
              " 15,\n",
              " 13,\n",
              " 1247,\n",
              " 4,\n",
              " 22,\n",
              " 17,\n",
              " 515,\n",
              " 17,\n",
              " 12,\n",
              " 16,\n",
              " 626,\n",
              " 18,\n",
              " 2,\n",
              " 5,\n",
              " 62,\n",
              " 386,\n",
              " 12,\n",
              " 8,\n",
              " 316,\n",
              " 8,\n",
              " 106,\n",
              " 5,\n",
              " 4,\n",
              " 2223,\n",
              " 5244,\n",
              " 16,\n",
              " 480,\n",
              " 66,\n",
              " 3785,\n",
              " 33,\n",
              " 4,\n",
              " 130,\n",
              " 12,\n",
              " 16,\n",
              " 38,\n",
              " 619,\n",
              " 5,\n",
              " 25,\n",
              " 124,\n",
              " 51,\n",
              " 36,\n",
              " 135,\n",
              " 48,\n",
              " 25,\n",
              " 1415,\n",
              " 33,\n",
              " 6,\n",
              " 22,\n",
              " 12,\n",
              " 215,\n",
              " 28,\n",
              " 77,\n",
              " 52,\n",
              " 5,\n",
              " 14,\n",
              " 407,\n",
              " 16,\n",
              " 82,\n",
              " 2,\n",
              " 8,\n",
              " 4,\n",
              " 107,\n",
              " 117,\n",
              " 5952,\n",
              " 15,\n",
              " 256,\n",
              " 4,\n",
              " 2,\n",
              " 7,\n",
              " 3766,\n",
              " 5,\n",
              " 723,\n",
              " 36,\n",
              " 71,\n",
              " 43,\n",
              " 530,\n",
              " 476,\n",
              " 26,\n",
              " 400,\n",
              " 317,\n",
              " 46,\n",
              " 7,\n",
              " 4,\n",
              " 2,\n",
              " 1029,\n",
              " 13,\n",
              " 104,\n",
              " 88,\n",
              " 4,\n",
              " 381,\n",
              " 15,\n",
              " 297,\n",
              " 98,\n",
              " 32,\n",
              " 2071,\n",
              " 56,\n",
              " 26,\n",
              " 141,\n",
              " 6,\n",
              " 194,\n",
              " 7486,\n",
              " 18,\n",
              " 4,\n",
              " 226,\n",
              " 22,\n",
              " 21,\n",
              " 134,\n",
              " 476,\n",
              " 26,\n",
              " 480,\n",
              " 5,\n",
              " 144,\n",
              " 30,\n",
              " 5535,\n",
              " 18,\n",
              " 51,\n",
              " 36,\n",
              " 28,\n",
              " 224,\n",
              " 92,\n",
              " 25,\n",
              " 104,\n",
              " 4,\n",
              " 226,\n",
              " 65,\n",
              " 16,\n",
              " 38,\n",
              " 1334,\n",
              " 88,\n",
              " 12,\n",
              " 16,\n",
              " 283,\n",
              " 5,\n",
              " 16,\n",
              " 4472,\n",
              " 113,\n",
              " 103,\n",
              " 32,\n",
              " 15,\n",
              " 16,\n",
              " 5345,\n",
              " 19,\n",
              " 178,\n",
              " 32]"
            ]
          },
          "metadata": {},
          "execution_count": 59
        }
      ]
    },
    {
      "cell_type": "code",
      "metadata": {
        "id": "T_UQLHcbSWy9",
        "colab": {
          "base_uri": "https://localhost:8080/"
        },
        "outputId": "f1d56745-0159-443d-dfae-eff9c55221e2"
      },
      "source": [
        "train_labels[0]"
      ],
      "execution_count": 60,
      "outputs": [
        {
          "output_type": "execute_result",
          "data": {
            "text/plain": [
              "1"
            ]
          },
          "metadata": {},
          "execution_count": 60
        }
      ]
    },
    {
      "cell_type": "code",
      "metadata": {
        "id": "OkzPHbDISWy-",
        "colab": {
          "base_uri": "https://localhost:8080/"
        },
        "outputId": "08d5bb3c-c41d-4aca-c164-2d9d571abd58"
      },
      "source": [
        "max([max(sequence) for sequence in train_data])"
      ],
      "execution_count": 61,
      "outputs": [
        {
          "output_type": "execute_result",
          "data": {
            "text/plain": [
              "9999"
            ]
          },
          "metadata": {},
          "execution_count": 61
        }
      ]
    },
    {
      "cell_type": "markdown",
      "metadata": {
        "id": "a14ENstYSWy-"
      },
      "source": [
        "### Decoding reviews back to text"
      ]
    },
    {
      "cell_type": "code",
      "metadata": {
        "id": "a1t1h2AgSWy-"
      },
      "source": [
        "word_index = imdb.get_word_index()\n",
        "reverse_word_index = dict(\n",
        "    [(value, key) for (key, value) in word_index.items()])\n",
        "decoded_review = \" \".join(\n",
        "    [reverse_word_index.get(i - 3, \"?\") for i in train_data[0]])"
      ],
      "execution_count": 62,
      "outputs": []
    },
    {
      "cell_type": "markdown",
      "metadata": {
        "id": "w9hkDy4ESWy_"
      },
      "source": [
        "### Preparing the data"
      ]
    },
    {
      "cell_type": "markdown",
      "metadata": {
        "id": "Qjq7wFSISWy_"
      },
      "source": [
        "#### Encoding the integer sequences via multi-hot encoding"
      ]
    },
    {
      "cell_type": "code",
      "metadata": {
        "id": "nZD-izxWSWy_"
      },
      "source": [
        "import numpy as np\n",
        "def vectorize_sequences(sequences, dimension=10000):\n",
        "    results = np.zeros((len(sequences), dimension))\n",
        "    for i, sequence in enumerate(sequences):\n",
        "        for j in sequence:\n",
        "            results[i, j] = 1.\n",
        "    return results\n",
        "x_train = vectorize_sequences(train_data)\n",
        "x_test = vectorize_sequences(test_data)"
      ],
      "execution_count": 63,
      "outputs": []
    },
    {
      "cell_type": "code",
      "metadata": {
        "id": "1HXEpTCfSWy_",
        "colab": {
          "base_uri": "https://localhost:8080/"
        },
        "outputId": "af9e6bcb-9721-4289-d7a7-ff3eb92c83a8"
      },
      "source": [
        "x_train[0]"
      ],
      "execution_count": 64,
      "outputs": [
        {
          "output_type": "execute_result",
          "data": {
            "text/plain": [
              "array([0., 1., 1., ..., 0., 0., 0.])"
            ]
          },
          "metadata": {},
          "execution_count": 64
        }
      ]
    },
    {
      "cell_type": "code",
      "metadata": {
        "id": "RBzY7qPASWy_"
      },
      "source": [
        "y_train = np.asarray(train_labels).astype(\"float32\")\n",
        "y_test = np.asarray(test_labels).astype(\"float32\")"
      ],
      "execution_count": 65,
      "outputs": []
    },
    {
      "cell_type": "markdown",
      "metadata": {
        "id": "96PvZIXicgJu"
      },
      "source": [
        "### (OPTIONAL) TODO 2\n",
        "\n",
        "Write code to show two examples of reviews (in plain text), one labeled as _positive_, another labeled as _negative_."
      ]
    },
    {
      "cell_type": "markdown",
      "source": [
        "from tensorflow.keras.datasets import imdb\n",
        "\n",
        "# Load the IMDB dataset\n",
        "(train_data, train_labels), (test_data, test_labels) = imdb.load_data(num_words=10000)\n",
        "\n",
        "# Load the word index from the IMDB dataset\n",
        "word_index = imdb.get_word_index()\n",
        "\n",
        "# Reverse the word index to obtain a dictionary of (word_index, word) pairs\n",
        "reverse_word_index = dict([(value, key) for (key, value) in word_index.items()])\n",
        "\n",
        "# Decode the first positive review\n",
        "positive_review = ' '.join([reverse_word_index.get(i - 3, '?') for i in train_data[0]])\n",
        "print('Positive review:')\n",
        "print(positive_review)\n",
        "\n",
        "# Decode the first negative review\n",
        "negative_review = ' '.join([reverse_word_index.get(i - 3, '?') for i in train_data[1]])\n",
        "print('Negative review:')\n",
        "print(negative_review)\n"
      ],
      "metadata": {
        "id": "FnOaPHBiyzeE"
      }
    },
    {
      "cell_type": "markdown",
      "metadata": {
        "id": "GxHU8-BiSWy_"
      },
      "source": [
        "### Building your model"
      ]
    },
    {
      "cell_type": "markdown",
      "metadata": {
        "id": "jv_k78mmSWy_"
      },
      "source": [
        "#### Model definition"
      ]
    },
    {
      "cell_type": "code",
      "metadata": {
        "id": "IQzf7F7USWzA"
      },
      "source": [
        "from tensorflow import keras\n",
        "from tensorflow.keras import layers\n",
        "\n",
        "model = keras.Sequential([\n",
        "    layers.Dense(16, activation=\"relu\"),\n",
        "    layers.Dense(16, activation=\"relu\"),\n",
        "    layers.Dense(1, activation=\"sigmoid\")\n",
        "])"
      ],
      "execution_count": 66,
      "outputs": []
    },
    {
      "cell_type": "markdown",
      "metadata": {
        "id": "DasM7UfASWzA"
      },
      "source": [
        "#### Compiling the model"
      ]
    },
    {
      "cell_type": "code",
      "metadata": {
        "id": "BWSLlZC4SWzA"
      },
      "source": [
        "model.compile(optimizer=\"rmsprop\",\n",
        "              loss=\"binary_crossentropy\",\n",
        "              metrics=[\"accuracy\"])"
      ],
      "execution_count": 67,
      "outputs": []
    },
    {
      "cell_type": "markdown",
      "metadata": {
        "id": "oUth-9BtSWzA"
      },
      "source": [
        "### Validating your approach"
      ]
    },
    {
      "cell_type": "markdown",
      "metadata": {
        "id": "XsEbLv3eSWzA"
      },
      "source": [
        "#### Setting aside a validation set"
      ]
    },
    {
      "cell_type": "code",
      "metadata": {
        "id": "CNxpNUwPSWzA"
      },
      "source": [
        "x_val = x_train[:10000]\n",
        "partial_x_train = x_train[10000:]\n",
        "y_val = y_train[:10000]\n",
        "partial_y_train = y_train[10000:]"
      ],
      "execution_count": 68,
      "outputs": []
    },
    {
      "cell_type": "markdown",
      "metadata": {
        "id": "A3ye0OxsSWzA"
      },
      "source": [
        "#### Training your model"
      ]
    },
    {
      "cell_type": "code",
      "metadata": {
        "id": "o3rFuAH8SWzA",
        "colab": {
          "base_uri": "https://localhost:8080/"
        },
        "outputId": "ae7db803-6087-4891-fcc0-5768ef86a25b"
      },
      "source": [
        "history = model.fit(partial_x_train,\n",
        "                    partial_y_train,\n",
        "                    epochs=20,\n",
        "                    batch_size=512,\n",
        "                    validation_data=(x_val, y_val))"
      ],
      "execution_count": 69,
      "outputs": [
        {
          "output_type": "stream",
          "name": "stdout",
          "text": [
            "Epoch 1/20\n",
            "30/30 [==============================] - 3s 61ms/step - loss: 0.5317 - accuracy: 0.7746 - val_loss: 0.3982 - val_accuracy: 0.8686\n",
            "Epoch 2/20\n",
            "30/30 [==============================] - 1s 27ms/step - loss: 0.3262 - accuracy: 0.8949 - val_loss: 0.3228 - val_accuracy: 0.8741\n",
            "Epoch 3/20\n",
            "30/30 [==============================] - 1s 21ms/step - loss: 0.2434 - accuracy: 0.9181 - val_loss: 0.2839 - val_accuracy: 0.8879\n",
            "Epoch 4/20\n",
            "30/30 [==============================] - 1s 24ms/step - loss: 0.1956 - accuracy: 0.9341 - val_loss: 0.2816 - val_accuracy: 0.8865\n",
            "Epoch 5/20\n",
            "30/30 [==============================] - 1s 21ms/step - loss: 0.1633 - accuracy: 0.9455 - val_loss: 0.2746 - val_accuracy: 0.8881\n",
            "Epoch 6/20\n",
            "30/30 [==============================] - 1s 21ms/step - loss: 0.1391 - accuracy: 0.9567 - val_loss: 0.2843 - val_accuracy: 0.8882\n",
            "Epoch 7/20\n",
            "30/30 [==============================] - 1s 24ms/step - loss: 0.1210 - accuracy: 0.9619 - val_loss: 0.2939 - val_accuracy: 0.8861\n",
            "Epoch 8/20\n",
            "30/30 [==============================] - 1s 21ms/step - loss: 0.1002 - accuracy: 0.9698 - val_loss: 0.3150 - val_accuracy: 0.8848\n",
            "Epoch 9/20\n",
            "30/30 [==============================] - 1s 21ms/step - loss: 0.0885 - accuracy: 0.9742 - val_loss: 0.3362 - val_accuracy: 0.8752\n",
            "Epoch 10/20\n",
            "30/30 [==============================] - 1s 26ms/step - loss: 0.0735 - accuracy: 0.9801 - val_loss: 0.3409 - val_accuracy: 0.8796\n",
            "Epoch 11/20\n",
            "30/30 [==============================] - 1s 25ms/step - loss: 0.0633 - accuracy: 0.9835 - val_loss: 0.3936 - val_accuracy: 0.8665\n",
            "Epoch 12/20\n",
            "30/30 [==============================] - 1s 29ms/step - loss: 0.0541 - accuracy: 0.9870 - val_loss: 0.3799 - val_accuracy: 0.8795\n",
            "Epoch 13/20\n",
            "30/30 [==============================] - 1s 26ms/step - loss: 0.0453 - accuracy: 0.9905 - val_loss: 0.4108 - val_accuracy: 0.8702\n",
            "Epoch 14/20\n",
            "30/30 [==============================] - 1s 24ms/step - loss: 0.0381 - accuracy: 0.9922 - val_loss: 0.4211 - val_accuracy: 0.8764\n",
            "Epoch 15/20\n",
            "30/30 [==============================] - 1s 25ms/step - loss: 0.0331 - accuracy: 0.9938 - val_loss: 0.4542 - val_accuracy: 0.8701\n",
            "Epoch 16/20\n",
            "30/30 [==============================] - 1s 23ms/step - loss: 0.0262 - accuracy: 0.9955 - val_loss: 0.4671 - val_accuracy: 0.8728\n",
            "Epoch 17/20\n",
            "30/30 [==============================] - 1s 21ms/step - loss: 0.0218 - accuracy: 0.9967 - val_loss: 0.4896 - val_accuracy: 0.8734\n",
            "Epoch 18/20\n",
            "30/30 [==============================] - 1s 22ms/step - loss: 0.0200 - accuracy: 0.9972 - val_loss: 0.5126 - val_accuracy: 0.8735\n",
            "Epoch 19/20\n",
            "30/30 [==============================] - 1s 21ms/step - loss: 0.0192 - accuracy: 0.9960 - val_loss: 0.5330 - val_accuracy: 0.8726\n",
            "Epoch 20/20\n",
            "30/30 [==============================] - 1s 24ms/step - loss: 0.0100 - accuracy: 0.9997 - val_loss: 0.5623 - val_accuracy: 0.8719\n"
          ]
        }
      ]
    },
    {
      "cell_type": "code",
      "metadata": {
        "id": "Z3PLDcnqSWzA",
        "colab": {
          "base_uri": "https://localhost:8080/"
        },
        "outputId": "3e053d14-58ba-4d3e-c57f-f814f9c14c76"
      },
      "source": [
        "history_dict = history.history\n",
        "history_dict.keys()"
      ],
      "execution_count": 70,
      "outputs": [
        {
          "output_type": "execute_result",
          "data": {
            "text/plain": [
              "dict_keys(['loss', 'accuracy', 'val_loss', 'val_accuracy'])"
            ]
          },
          "metadata": {},
          "execution_count": 70
        }
      ]
    },
    {
      "cell_type": "markdown",
      "metadata": {
        "id": "mOAiUESnSWzA"
      },
      "source": [
        "#### Plotting the training and validation loss"
      ]
    },
    {
      "cell_type": "code",
      "metadata": {
        "id": "v8FYYH2ASWzA",
        "colab": {
          "base_uri": "https://localhost:8080/",
          "height": 295
        },
        "outputId": "2bc2d9bc-2654-4419-aa8b-7e29fd996f5b"
      },
      "source": [
        "import matplotlib.pyplot as plt\n",
        "history_dict = history.history\n",
        "loss_values = history_dict[\"loss\"]\n",
        "val_loss_values = history_dict[\"val_loss\"]\n",
        "epochs = range(1, len(loss_values) + 1)\n",
        "plt.plot(epochs, loss_values, \"bo\", label=\"Training loss\")\n",
        "plt.plot(epochs, val_loss_values, \"b\", label=\"Validation loss\")\n",
        "plt.title(\"Training and validation loss\")\n",
        "plt.xlabel(\"Epochs\")\n",
        "plt.ylabel(\"Loss\")\n",
        "plt.legend()\n",
        "plt.show()"
      ],
      "execution_count": 71,
      "outputs": [
        {
          "output_type": "display_data",
          "data": {
            "text/plain": [
              "<Figure size 432x288 with 1 Axes>"
            ],
            "image/png": "[encoded data removed]"
          },
          "metadata": {
            "needs_background": "light"
          }
        }
      ]
    },
    {
      "cell_type": "markdown",
      "metadata": {
        "id": "Y5dKUKfOSWzA"
      },
      "source": [
        "#### Plotting the training and validation accuracy"
      ]
    },
    {
      "cell_type": "code",
      "metadata": {
        "id": "MyWdgytcSWzA",
        "colab": {
          "base_uri": "https://localhost:8080/",
          "height": 295
        },
        "outputId": "34bc2dee-4e39-4988-ee08-7e5c7f2524af"
      },
      "source": [
        "plt.clf()\n",
        "acc = history_dict[\"accuracy\"]\n",
        "val_acc = history_dict[\"val_accuracy\"]\n",
        "plt.plot(epochs, acc, \"bo\", label=\"Training acc\")\n",
        "plt.plot(epochs, val_acc, \"b\", label=\"Validation acc\")\n",
        "plt.title(\"Training and validation accuracy\")\n",
        "plt.xlabel(\"Epochs\")\n",
        "plt.ylabel(\"Accuracy\")\n",
        "plt.legend()\n",
        "plt.show()"
      ],
      "execution_count": 72,
      "outputs": [
        {
          "output_type": "display_data",
          "data": {
            "text/plain": [
              "<Figure size 432x288 with 1 Axes>"
            ],
            "image/png": "[encoded data removed]"
          },
          "metadata": {
            "needs_background": "light"
          }
        }
      ]
    },
    {
      "cell_type": "markdown",
      "metadata": {
        "id": "lJetC7rA36VT"
      },
      "source": [
        "### (OPTIONAL) TODO 3\n",
        "\n",
        "Write code to display 2 cases (one false positive, one false negative) where the classifier makes mistakes. Make sure to display both the true value as well as the predicted value.\n",
        "\n",
        "Comment on the mistakes and what you believe might have caused each of them. "
      ]
    },
    {
      "cell_type": "code",
      "source": [
        "from sklearn.datasets import make_classification\n",
        "from sklearn.linear_model import LogisticRegression\n",
        "from sklearn.model_selection import train_test_split\n",
        "\n",
        "# Generate a synthetic dataset\n",
        "X, y = make_classification(n_samples=1000, n_features=10, n_informative=5, n_redundant=0, random_state=42)\n",
        "\n",
        "# Split the dataset into training and testing sets\n",
        "X_train, X_test, y_train, y_test = train_test_split(X, y, test_size=0.2, random_state=42)\n",
        "\n",
        "# Train a logistic regression classifier\n",
        "clf = LogisticRegression(random_state=42)\n",
        "clf.fit(X_train, y_train)\n",
        "\n",
        "# Make predictions on the testing set\n",
        "y_pred = clf.predict(X_test)\n"
      ],
      "metadata": {
        "id": "536QMzSO4sqE"
      },
      "execution_count": 73,
      "outputs": []
    },
    {
      "cell_type": "code",
      "source": [
        "import numpy as np\n",
        "\n",
        "# Find indices of true positives, true negatives, false positives, and false negatives\n",
        "tp = np.logical_and(y_test == 1, y_pred == 1)\n",
        "tn = np.logical_and(y_test == 0, y_pred == 0)\n",
        "fp = np.logical_and(y_test == 0, y_pred == 1)\n",
        "fn = np.logical_and(y_test == 1, y_pred == 0)\n",
        "\n",
        "# Find the first false positive and false negative\n",
        "fp_idx = np.where(fp)[0][0]\n",
        "fn_idx = np.where(fn)[0][0]\n",
        "\n",
        "# Print the true and predicted values for each mistake\n",
        "print(\"False positive: true value = %d, predicted value = %d\" % (y_test[fp_idx], y_pred[fp_idx]))\n",
        "print(\"False negative: true value = %d, predicted value = %d\" % (y_test[fn_idx], y_pred[fn_idx]))\n"
      ],
      "metadata": {
        "colab": {
          "base_uri": "https://localhost:8080/"
        },
        "id": "gAbYkAT648KA",
        "outputId": "65618164-48aa-4adf-ac02-db56833277ba"
      },
      "execution_count": 74,
      "outputs": [
        {
          "output_type": "stream",
          "name": "stdout",
          "text": [
            "False positive: true value = 0, predicted value = 1\n",
            "False negative: true value = 1, predicted value = 0\n"
          ]
        }
      ]
    },
    {
      "cell_type": "markdown",
      "metadata": {
        "id": "dmlYOsbMxY-d"
      },
      "source": [
        "### (OPTIONAL) TODO 4\n",
        "\n",
        "Write code to try different combinations of:\n",
        "- numbers of hidden layers and units per layer \n",
        "- loss functions\n",
        "- activation functions\n",
        "\n",
        "Please refrain from using better architectures (RNN, LSTM, etc.) and \"advanced\" techniques to curb overfitting (e.g., dropout, batch normalization, weight regularization, etc.)"
      ]
    },
    {
      "cell_type": "code",
      "source": [
        "from tensorflow import keras\n",
        "from tensorflow.keras.layers import Dense\n",
        "from tensorflow.keras.models import Sequential\n",
        "from tensorflow.keras.optimizers import Adam\n",
        "\n",
        "# define hyperparameters\n",
        "num_hidden_layers_list = [1, 2, 3]\n",
        "num_units_list = [32, 64, 128]\n",
        "loss_functions_list = ['binary_crossentropy', 'mse']\n",
        "activation_functions_list = ['relu', 'sigmoid']\n",
        "\n",
        "# loop through all combinations of hyperparameters\n",
        "for num_hidden_layers in num_hidden_layers_list:\n",
        "    for num_units in num_units_list:\n",
        "        for loss_function in loss_functions_list:\n",
        "            for activation_function in activation_functions_list:\n",
        "                \n",
        "                # build the model with current hyperparameters\n",
        "                model = Sequential()\n",
        "                model.add(Dense(num_units, input_dim=X_train.shape[1], activation=activation_function))\n",
        "                for i in range(num_hidden_layers - 1):\n",
        "                    model.add(Dense(num_units, activation=activation_function))\n",
        "                model.add(Dense(1, activation='sigmoid'))\n",
        "                \n",
        "                # compile the model with current hyperparameters\n",
        "                optimizer = Adam(learning_rate=0.01)\n",
        "                model.compile(loss=loss_function, optimizer=optimizer, metrics=['accuracy'])\n",
        "                \n",
        "                # train the model\n",
        "                # model.fit(X_train, y_train, epochs=10, validation_data=(X_test, y_test))\n"
      ],
      "metadata": {
        "id": "RxxHIBXu5G5-"
      },
      "execution_count": 100,
      "outputs": []
    },
    {
      "cell_type": "markdown",
      "metadata": {
        "id": "DC8hWwWXSWzB"
      },
      "source": [
        "### Retraining a model from scratch"
      ]
    },
    {
      "cell_type": "code",
      "metadata": {
        "id": "EqY1f04mSWzB"
      },
      "source": [
        "model = keras.Sequential([\n",
        "    layers.Dense(16, activation=\"relu\"),\n",
        "    layers.Dense(16, activation=\"relu\"),\n",
        "    layers.Dense(1, activation=\"sigmoid\")\n",
        "])\n",
        "model.compile(optimizer=\"rmsprop\",\n",
        "              loss=\"binary_crossentropy\",\n",
        "              metrics=[\"accuracy\"])\n",
        "model.fit(x_train, y_train, epochs=4, batch_size=512)\n",
        "results = model.evaluate(x_test, y_test)"
      ],
      "execution_count": null,
      "outputs": []
    },
    {
      "cell_type": "markdown",
      "metadata": {
        "id": "3D46qt5-SWzB"
      },
      "source": [
        "### Using a trained model to generate predictions on new data"
      ]
    },
    {
      "cell_type": "code",
      "metadata": {
        "id": "ikqtBwDHSWzB"
      },
      "source": [
        "model.predict(x_test)"
      ],
      "execution_count": null,
      "outputs": []
    },
    {
      "cell_type": "markdown",
      "metadata": {
        "id": "C15mmBXeW3ZG"
      },
      "source": [
        "## PART 2 - Multiclass classification of newswires using the Reuters dataset\n",
        "\n",
        "Once again, we will start with a simple solution using a fully-connected neural network architecture. "
      ]
    },
    {
      "cell_type": "markdown",
      "metadata": {
        "id": "mlFE0npdxh6j"
      },
      "source": [
        "### The Reuters dataset"
      ]
    },
    {
      "cell_type": "markdown",
      "metadata": {
        "id": "2rlaaGT5xh6j"
      },
      "source": [
        "#### Loading the Reuters dataset"
      ]
    },
    {
      "cell_type": "code",
      "metadata": {
        "id": "mF_v9mnCxh6k"
      },
      "source": [
        "from tensorflow.keras.datasets import reuters\n",
        "(train_data, train_labels), (test_data, test_labels) = reuters.load_data(\n",
        "    num_words=10000)"
      ],
      "execution_count": 76,
      "outputs": []
    },
    {
      "cell_type": "code",
      "metadata": {
        "id": "a9HDPrTzxh6k",
        "colab": {
          "base_uri": "https://localhost:8080/"
        },
        "outputId": "449cd31b-35d7-4ddb-c6db-31294351733e"
      },
      "source": [
        "len(train_data)"
      ],
      "execution_count": 77,
      "outputs": [
        {
          "output_type": "execute_result",
          "data": {
            "text/plain": [
              "8982"
            ]
          },
          "metadata": {},
          "execution_count": 77
        }
      ]
    },
    {
      "cell_type": "code",
      "metadata": {
        "id": "chhwyrjsxh6k",
        "colab": {
          "base_uri": "https://localhost:8080/"
        },
        "outputId": "e373d94d-d870-48c8-f9ef-ef47f4da0319"
      },
      "source": [
        "len(test_data)"
      ],
      "execution_count": 78,
      "outputs": [
        {
          "output_type": "execute_result",
          "data": {
            "text/plain": [
              "2246"
            ]
          },
          "metadata": {},
          "execution_count": 78
        }
      ]
    },
    {
      "cell_type": "code",
      "metadata": {
        "id": "6MLEiOe6xh6k",
        "colab": {
          "base_uri": "https://localhost:8080/"
        },
        "outputId": "dff09627-e674-431a-cd46-26d96d0b5b98"
      },
      "source": [
        "train_data[10]"
      ],
      "execution_count": 79,
      "outputs": [
        {
          "output_type": "execute_result",
          "data": {
            "text/plain": [
              "[1,\n",
              " 245,\n",
              " 273,\n",
              " 207,\n",
              " 156,\n",
              " 53,\n",
              " 74,\n",
              " 160,\n",
              " 26,\n",
              " 14,\n",
              " 46,\n",
              " 296,\n",
              " 26,\n",
              " 39,\n",
              " 74,\n",
              " 2979,\n",
              " 3554,\n",
              " 14,\n",
              " 46,\n",
              " 4689,\n",
              " 4329,\n",
              " 86,\n",
              " 61,\n",
              " 3499,\n",
              " 4795,\n",
              " 14,\n",
              " 61,\n",
              " 451,\n",
              " 4329,\n",
              " 17,\n",
              " 12]"
            ]
          },
          "metadata": {},
          "execution_count": 79
        }
      ]
    },
    {
      "cell_type": "markdown",
      "metadata": {
        "id": "ndgmqtEpxh6k"
      },
      "source": [
        "#### Decoding newswires back to text"
      ]
    },
    {
      "cell_type": "code",
      "metadata": {
        "id": "ldaiUmBGxh6k"
      },
      "source": [
        "word_index = reuters.get_word_index()\n",
        "reverse_word_index = dict([(value, key) for (key, value) in word_index.items()])\n",
        "decoded_newswire = \" \".join([reverse_word_index.get(i - 3, \"?\") for i in\n",
        "    train_data[0]])"
      ],
      "execution_count": 80,
      "outputs": []
    },
    {
      "cell_type": "code",
      "metadata": {
        "id": "2-khNfkkxh6k",
        "colab": {
          "base_uri": "https://localhost:8080/"
        },
        "outputId": "973c445f-eb4a-4516-9136-0843726120c1"
      },
      "source": [
        "train_labels[10]"
      ],
      "execution_count": 81,
      "outputs": [
        {
          "output_type": "execute_result",
          "data": {
            "text/plain": [
              "3"
            ]
          },
          "metadata": {},
          "execution_count": 81
        }
      ]
    },
    {
      "cell_type": "markdown",
      "metadata": {
        "id": "4WwJMB6Gxh6k"
      },
      "source": [
        "### Preparing the data"
      ]
    },
    {
      "cell_type": "markdown",
      "metadata": {
        "id": "yMs-iTejxh6k"
      },
      "source": [
        "#### Encoding the input data"
      ]
    },
    {
      "cell_type": "code",
      "metadata": {
        "id": "zds63peXxh6k"
      },
      "source": [
        "x_train = vectorize_sequences(train_data)\n",
        "x_test = vectorize_sequences(test_data)"
      ],
      "execution_count": 82,
      "outputs": []
    },
    {
      "cell_type": "markdown",
      "metadata": {
        "id": "6bncEBgYxh6k"
      },
      "source": [
        "#### Encoding the labels"
      ]
    },
    {
      "cell_type": "code",
      "metadata": {
        "id": "srqpJ7ggxh6k"
      },
      "source": [
        "def to_one_hot(labels, dimension=46):\n",
        "    results = np.zeros((len(labels), dimension))\n",
        "    for i, label in enumerate(labels):\n",
        "        results[i, label] = 1.\n",
        "    return results\n",
        "y_train = to_one_hot(train_labels)\n",
        "y_test = to_one_hot(test_labels)"
      ],
      "execution_count": 83,
      "outputs": []
    },
    {
      "cell_type": "code",
      "metadata": {
        "id": "oXv_Du2vxh6k"
      },
      "source": [
        "from tensorflow.keras.utils import to_categorical\n",
        "y_train = to_categorical(train_labels)\n",
        "y_test = to_categorical(test_labels)"
      ],
      "execution_count": 84,
      "outputs": []
    },
    {
      "cell_type": "markdown",
      "metadata": {
        "id": "5R4pX8KLxh6k"
      },
      "source": [
        "### Building your model"
      ]
    },
    {
      "cell_type": "markdown",
      "metadata": {
        "id": "uGU5Ex_gxh6k"
      },
      "source": [
        "#### Model definition"
      ]
    },
    {
      "cell_type": "code",
      "metadata": {
        "id": "lSeVv-voxh6k"
      },
      "source": [
        "model = keras.Sequential([\n",
        "    layers.Dense(64, activation=\"relu\"),\n",
        "    layers.Dense(64, activation=\"relu\"),\n",
        "    layers.Dense(46, activation=\"softmax\")\n",
        "])"
      ],
      "execution_count": 103,
      "outputs": []
    },
    {
      "cell_type": "markdown",
      "metadata": {
        "id": "Hg1Y1SpMxh6k"
      },
      "source": [
        "#### Compiling the model"
      ]
    },
    {
      "cell_type": "code",
      "source": [
        "model.compile(optimizer=\"rmsprop\",\n",
        "              loss=\"categorical_crossentropy\",\n",
        "              metrics=[\"accuracy\"])"
      ],
      "metadata": {
        "id": "tqpIiM9y_Kij"
      },
      "execution_count": 105,
      "outputs": []
    },
    {
      "cell_type": "markdown",
      "metadata": {
        "id": "NaBg251Axh6k"
      },
      "source": [
        "### Validating your approach"
      ]
    },
    {
      "cell_type": "markdown",
      "metadata": {
        "id": "s74Gi5vvxh6k"
      },
      "source": [
        "#### Setting aside a validation set"
      ]
    },
    {
      "cell_type": "code",
      "metadata": {
        "id": "OjMkDhn-xh6k"
      },
      "source": [
        "x_val = x_train[:1000]\n",
        "partial_x_train = x_train[1000:]\n",
        "y_val = y_train[:1000]\n",
        "partial_y_train = y_train[1000:]"
      ],
      "execution_count": 87,
      "outputs": []
    },
    {
      "cell_type": "markdown",
      "metadata": {
        "id": "0eOTJNH_xh6k"
      },
      "source": [
        "#### Training the model"
      ]
    },
    {
      "cell_type": "code",
      "metadata": {
        "id": "-B2WgrGZxh6l",
        "colab": {
          "base_uri": "https://localhost:8080/"
        },
        "outputId": "2098e61a-7bef-4482-a149-ded8ddc0b994"
      },
      "source": [
        "history = model.fit(partial_x_train,\n",
        "                    partial_y_train,\n",
        "                    epochs=20,\n",
        "                    batch_size=512,\n",
        "                    validation_data=(x_val, y_val))"
      ],
      "execution_count": 88,
      "outputs": [
        {
          "output_type": "stream",
          "name": "stdout",
          "text": [
            "Epoch 1/20\n",
            "16/16 [==============================] - 1s 36ms/step - loss: 2.6228 - accuracy: 0.5159 - val_loss: 1.7837 - val_accuracy: 0.6240\n",
            "Epoch 2/20\n",
            "16/16 [==============================] - 0s 18ms/step - loss: 1.5213 - accuracy: 0.6720 - val_loss: 1.3657 - val_accuracy: 0.6810\n",
            "Epoch 3/20\n",
            "16/16 [==============================] - 0s 19ms/step - loss: 1.1668 - accuracy: 0.7424 - val_loss: 1.1842 - val_accuracy: 0.7390\n",
            "Epoch 4/20\n",
            "16/16 [==============================] - 0s 21ms/step - loss: 0.9477 - accuracy: 0.7959 - val_loss: 1.0899 - val_accuracy: 0.7750\n",
            "Epoch 5/20\n",
            "16/16 [==============================] - 0s 17ms/step - loss: 0.7878 - accuracy: 0.8341 - val_loss: 1.0198 - val_accuracy: 0.7780\n",
            "Epoch 6/20\n",
            "16/16 [==============================] - 0s 17ms/step - loss: 0.6534 - accuracy: 0.8634 - val_loss: 0.9579 - val_accuracy: 0.8010\n",
            "Epoch 7/20\n",
            "16/16 [==============================] - 0s 17ms/step - loss: 0.5441 - accuracy: 0.8880 - val_loss: 0.9221 - val_accuracy: 0.8110\n",
            "Epoch 8/20\n",
            "16/16 [==============================] - 0s 17ms/step - loss: 0.4593 - accuracy: 0.9064 - val_loss: 0.8882 - val_accuracy: 0.8160\n",
            "Epoch 9/20\n",
            "16/16 [==============================] - 0s 25ms/step - loss: 0.3830 - accuracy: 0.9194 - val_loss: 0.8907 - val_accuracy: 0.8130\n",
            "Epoch 10/20\n",
            "16/16 [==============================] - 0s 22ms/step - loss: 0.3307 - accuracy: 0.9313 - val_loss: 0.8914 - val_accuracy: 0.8100\n",
            "Epoch 11/20\n",
            "16/16 [==============================] - 0s 25ms/step - loss: 0.2840 - accuracy: 0.9389 - val_loss: 0.9160 - val_accuracy: 0.8130\n",
            "Epoch 12/20\n",
            "16/16 [==============================] - 0s 23ms/step - loss: 0.2469 - accuracy: 0.9444 - val_loss: 0.8994 - val_accuracy: 0.8170\n",
            "Epoch 13/20\n",
            "16/16 [==============================] - 0s 24ms/step - loss: 0.2215 - accuracy: 0.9475 - val_loss: 0.8976 - val_accuracy: 0.8160\n",
            "Epoch 14/20\n",
            "16/16 [==============================] - 0s 24ms/step - loss: 0.1999 - accuracy: 0.9499 - val_loss: 0.9231 - val_accuracy: 0.8270\n",
            "Epoch 15/20\n",
            "16/16 [==============================] - 0s 17ms/step - loss: 0.1807 - accuracy: 0.9511 - val_loss: 0.9191 - val_accuracy: 0.8180\n",
            "Epoch 16/20\n",
            "16/16 [==============================] - 0s 17ms/step - loss: 0.1714 - accuracy: 0.9554 - val_loss: 0.9543 - val_accuracy: 0.8080\n",
            "Epoch 17/20\n",
            "16/16 [==============================] - 0s 17ms/step - loss: 0.1617 - accuracy: 0.9554 - val_loss: 0.9306 - val_accuracy: 0.8170\n",
            "Epoch 18/20\n",
            "16/16 [==============================] - 0s 20ms/step - loss: 0.1458 - accuracy: 0.9567 - val_loss: 1.0031 - val_accuracy: 0.8060\n",
            "Epoch 19/20\n",
            "16/16 [==============================] - 0s 18ms/step - loss: 0.1407 - accuracy: 0.9560 - val_loss: 0.9625 - val_accuracy: 0.8160\n",
            "Epoch 20/20\n",
            "16/16 [==============================] - 0s 22ms/step - loss: 0.1355 - accuracy: 0.9582 - val_loss: 0.9856 - val_accuracy: 0.8150\n"
          ]
        }
      ]
    },
    {
      "cell_type": "markdown",
      "metadata": {
        "id": "Pic3C9saxh6l"
      },
      "source": [
        "#### Plotting the training and validation loss"
      ]
    },
    {
      "cell_type": "code",
      "metadata": {
        "id": "6YiutR18xh6l",
        "colab": {
          "base_uri": "https://localhost:8080/",
          "height": 295
        },
        "outputId": "4bed2b2d-1711-47f5-d2b0-d13e75aa0d37"
      },
      "source": [
        "loss = history.history[\"loss\"]\n",
        "val_loss = history.history[\"val_loss\"]\n",
        "epochs = range(1, len(loss) + 1)\n",
        "plt.plot(epochs, loss, \"bo\", label=\"Training loss\")\n",
        "plt.plot(epochs, val_loss, \"b\", label=\"Validation loss\")\n",
        "plt.title(\"Training and validation loss\")\n",
        "plt.xlabel(\"Epochs\")\n",
        "plt.ylabel(\"Loss\")\n",
        "plt.legend()\n",
        "plt.show()"
      ],
      "execution_count": 89,
      "outputs": [
        {
          "output_type": "display_data",
          "data": {
            "text/plain": [
              "<Figure size 432x288 with 1 Axes>"
            ],
            "image/png": "[encoded data removed]"
          },
          "metadata": {
            "needs_background": "light"
          }
        }
      ]
    },
    {
      "cell_type": "markdown",
      "metadata": {
        "id": "9JmGj8BQxh6l"
      },
      "source": [
        "#### Plotting the training and validation accuracy"
      ]
    },
    {
      "cell_type": "code",
      "metadata": {
        "id": "qRJH4bWjxh6l",
        "colab": {
          "base_uri": "https://localhost:8080/",
          "height": 295
        },
        "outputId": "bb32161a-f436-481f-a689-81a7f485d789"
      },
      "source": [
        "plt.clf()\n",
        "acc = history.history[\"accuracy\"]\n",
        "val_acc = history.history[\"val_accuracy\"]\n",
        "plt.plot(epochs, acc, \"bo\", label=\"Training accuracy\")\n",
        "plt.plot(epochs, val_acc, \"b\", label=\"Validation accuracy\")\n",
        "plt.title(\"Training and validation accuracy\")\n",
        "plt.xlabel(\"Epochs\")\n",
        "plt.ylabel(\"Accuracy\")\n",
        "plt.legend()\n",
        "plt.show()"
      ],
      "execution_count": 90,
      "outputs": [
        {
          "output_type": "display_data",
          "data": {
            "text/plain": [
              "<Figure size 432x288 with 1 Axes>"
            ],
            "image/png": "[encoded data removed]"
          },
          "metadata": {
            "needs_background": "light"
          }
        }
      ]
    },
    {
      "cell_type": "markdown",
      "metadata": {
        "id": "84mqw1BAy2wa"
      },
      "source": [
        "### (OPTIONAL) TODO 5\n",
        "\n",
        "Write code to try different combinations of:\n",
        "- numbers of hidden layers and units per layer \n",
        "\n",
        "Please refrain from using better architectures and \"advanced\" techniques to curb overfitting (e.g., dropout, batch normalization, weight regularization, etc.)"
      ]
    },
    {
      "cell_type": "code",
      "source": [
        "from tensorflow import keras\n",
        "from sklearn.model_selection import ParameterGrid\n",
        "\n",
        "# Define the input shape and number of classes\n",
        "input_shape = X_train.shape[1:]\n",
        "num_classes = len(np.unique(y_train))\n",
        "\n",
        "# Define the hyperparameters to search over\n",
        "param_grid = {\n",
        "    'num_hidden_layers': [1, 2, 3],\n",
        "    'units_per_layer': [32, 64, 128, 256],\n",
        "}\n",
        "\n",
        "# Generate all possible combinations of hyperparameters\n",
        "param_list = list(ParameterGrid(param_grid))\n",
        "\n",
        "# Iterate over each hyperparameter combination\n",
        "for params in param_list:\n",
        "    # Define the model architecture\n",
        "    model = keras.Sequential()\n",
        "    model.add(keras.layers.Flatten(input_shape=input_shape))\n",
        "    for i in range(params['num_hidden_layers']):\n",
        "        model.add(keras.layers.Dense(units=params['units_per_layer'], activation='relu'))\n",
        "    model.add(keras.layers.Dense(num_classes, activation='softmax'))\n",
        "\n",
        "    # Compile the model\n",
        "    model.compile(loss='sparse_categorical_crossentropy', optimizer='adam', metrics=['accuracy'])\n",
        "\n",
        "    # Train the model\n",
        "    history = model.fit(X_train, y_train, epochs=10, validation_data=(X_val, y_val), verbose=0)\n",
        "\n",
        "    # Evaluate the model on the test set\n",
        "    test_loss, test_acc = model.evaluate(X_test, y_test, verbose=0)\n",
        "\n",
        "    # Print the hyperparameters and test accuracy\n",
        "    print(f'num_hidden_layers: {params[\"num_hidden_layers\"]}, units_per_layer: {params[\"units_per_layer\"]}, test accuracy: {test_acc:.3f}')\n"
      ],
      "metadata": {
        "id": "r1XPUIM5ByvE"
      },
      "execution_count": 108,
      "outputs": []
    },
    {
      "cell_type": "markdown",
      "metadata": {
        "id": "UYlIZAhOxh6l"
      },
      "source": [
        "### Retraining a model from scratch"
      ]
    },
    {
      "cell_type": "code",
      "metadata": {
        "id": "Ijowt_xKxh6l",
        "colab": {
          "base_uri": "https://localhost:8080/"
        },
        "outputId": "b0031b6c-0903-4290-9a21-b67b3089c184"
      },
      "source": [
        "model = keras.Sequential([\n",
        "  layers.Dense(64, activation=\"relu\"),\n",
        "  layers.Dense(64, activation=\"relu\"),\n",
        "  layers.Dense(46, activation=\"softmax\")\n",
        "])\n",
        "model.compile(optimizer=\"rmsprop\",\n",
        "              loss=\"categorical_crossentropy\",\n",
        "              metrics=[\"accuracy\"])\n",
        "model.fit(x_train,\n",
        "          y_train,\n",
        "          epochs=9,\n",
        "          batch_size=512)\n",
        "results = model.evaluate(x_test, y_test)"
      ],
      "execution_count": 91,
      "outputs": [
        {
          "output_type": "stream",
          "name": "stdout",
          "text": [
            "Epoch 1/9\n",
            "18/18 [==============================] - 1s 14ms/step - loss: 2.6069 - accuracy: 0.4957\n",
            "Epoch 2/9\n",
            "18/18 [==============================] - 0s 13ms/step - loss: 1.5289 - accuracy: 0.6603\n",
            "Epoch 3/9\n",
            "18/18 [==============================] - 0s 17ms/step - loss: 1.1617 - accuracy: 0.7411\n",
            "Epoch 4/9\n",
            "18/18 [==============================] - 0s 16ms/step - loss: 0.9302 - accuracy: 0.7994\n",
            "Epoch 5/9\n",
            "18/18 [==============================] - 0s 14ms/step - loss: 0.7647 - accuracy: 0.8346\n",
            "Epoch 6/9\n",
            "18/18 [==============================] - 0s 15ms/step - loss: 0.6343 - accuracy: 0.8622\n",
            "Epoch 7/9\n",
            "18/18 [==============================] - 0s 14ms/step - loss: 0.5272 - accuracy: 0.8852\n",
            "Epoch 8/9\n",
            "18/18 [==============================] - 0s 14ms/step - loss: 0.4399 - accuracy: 0.9054\n",
            "Epoch 9/9\n",
            "18/18 [==============================] - 0s 14ms/step - loss: 0.3749 - accuracy: 0.9186\n",
            "71/71 [==============================] - 0s 3ms/step - loss: 0.9175 - accuracy: 0.7907\n"
          ]
        }
      ]
    },
    {
      "cell_type": "code",
      "metadata": {
        "id": "kAIVUZb6xh6l",
        "colab": {
          "base_uri": "https://localhost:8080/"
        },
        "outputId": "3332432a-f217-4458-ccb4-6368294986d0"
      },
      "source": [
        "results"
      ],
      "execution_count": 92,
      "outputs": [
        {
          "output_type": "execute_result",
          "data": {
            "text/plain": [
              "[0.91753089427948, 0.790739119052887]"
            ]
          },
          "metadata": {},
          "execution_count": 92
        }
      ]
    },
    {
      "cell_type": "code",
      "metadata": {
        "id": "HX4pyH29xh6l",
        "colab": {
          "base_uri": "https://localhost:8080/"
        },
        "outputId": "275316b8-3763-409c-d4e4-a3c211ec5b95"
      },
      "source": [
        "import copy\n",
        "test_labels_copy = copy.copy(test_labels)\n",
        "np.random.shuffle(test_labels_copy)\n",
        "hits_array = np.array(test_labels) == np.array(test_labels_copy)\n",
        "hits_array.mean()"
      ],
      "execution_count": 93,
      "outputs": [
        {
          "output_type": "execute_result",
          "data": {
            "text/plain": [
              "0.20525378450578807"
            ]
          },
          "metadata": {},
          "execution_count": 93
        }
      ]
    },
    {
      "cell_type": "markdown",
      "metadata": {
        "id": "l3dqoSqLxh6l"
      },
      "source": [
        "### Generating predictions on new data"
      ]
    },
    {
      "cell_type": "code",
      "metadata": {
        "id": "uYgeNbuqtyXm",
        "colab": {
          "base_uri": "https://localhost:8080/"
        },
        "outputId": "2308e5b7-0ec6-40dd-d172-f20c7a36b873"
      },
      "source": [
        "predictions = model.predict(x_test)"
      ],
      "execution_count": 94,
      "outputs": [
        {
          "output_type": "stream",
          "name": "stdout",
          "text": [
            "71/71 [==============================] - 0s 2ms/step\n"
          ]
        }
      ]
    },
    {
      "cell_type": "code",
      "metadata": {
        "colab": {
          "base_uri": "https://localhost:8080/"
        },
        "id": "wmT-HLN-tyXn",
        "outputId": "63ebc5b9-3f31-403e-cc56-a123a23a32c9"
      },
      "source": [
        "predictions[0].shape"
      ],
      "execution_count": 95,
      "outputs": [
        {
          "output_type": "execute_result",
          "data": {
            "text/plain": [
              "(46,)"
            ]
          },
          "metadata": {},
          "execution_count": 95
        }
      ]
    },
    {
      "cell_type": "code",
      "metadata": {
        "colab": {
          "base_uri": "https://localhost:8080/"
        },
        "id": "HRZlehzityXp",
        "outputId": "7ebb147a-f915-445c-abf2-a881ffadaa31"
      },
      "source": [
        "np.sum(predictions[0])"
      ],
      "execution_count": 96,
      "outputs": [
        {
          "output_type": "execute_result",
          "data": {
            "text/plain": [
              "1.0"
            ]
          },
          "metadata": {},
          "execution_count": 96
        }
      ]
    },
    {
      "cell_type": "code",
      "metadata": {
        "colab": {
          "base_uri": "https://localhost:8080/"
        },
        "id": "YpKyKUaAtyXp",
        "outputId": "7477c4ef-f656-4372-d2ec-3aa8fdeb44d8"
      },
      "source": [
        "np.argmax(predictions[0])"
      ],
      "execution_count": 97,
      "outputs": [
        {
          "output_type": "execute_result",
          "data": {
            "text/plain": [
              "3"
            ]
          },
          "metadata": {},
          "execution_count": 97
        }
      ]
    },
    {
      "cell_type": "markdown",
      "metadata": {
        "id": "fl1SvjrIxh6m"
      },
      "source": [
        "## PART 3 - Regression for house price estimation using the Boston Housing Price dataset"
      ]
    },
    {
      "cell_type": "markdown",
      "metadata": {
        "id": "OxNY2Tttxh6m"
      },
      "source": [
        "### The Boston Housing Price dataset"
      ]
    },
    {
      "cell_type": "markdown",
      "metadata": {
        "id": "xH8hygQBxh6m"
      },
      "source": [
        "#### Loading the Boston housing dataset"
      ]
    },
    {
      "cell_type": "code",
      "metadata": {
        "id": "Bw_cuN9_xh6m"
      },
      "source": [
        "from tensorflow.keras.datasets import boston_housing\n",
        "(train_data, train_targets), (test_data, test_targets) = boston_housing.load_data()"
      ],
      "execution_count": 109,
      "outputs": []
    },
    {
      "cell_type": "code",
      "metadata": {
        "id": "qcQzcVTTxh6m",
        "colab": {
          "base_uri": "https://localhost:8080/"
        },
        "outputId": "2b6bca27-1bea-468e-b5f0-dad31a3a2221"
      },
      "source": [
        "train_data.shape"
      ],
      "execution_count": 110,
      "outputs": [
        {
          "output_type": "execute_result",
          "data": {
            "text/plain": [
              "(404, 13)"
            ]
          },
          "metadata": {},
          "execution_count": 110
        }
      ]
    },
    {
      "cell_type": "code",
      "metadata": {
        "id": "mqRzjeWdxh6m",
        "colab": {
          "base_uri": "https://localhost:8080/"
        },
        "outputId": "02303c0c-9077-40e2-fec2-bc1f75d2f3eb"
      },
      "source": [
        "test_data.shape"
      ],
      "execution_count": 111,
      "outputs": [
        {
          "output_type": "execute_result",
          "data": {
            "text/plain": [
              "(102, 13)"
            ]
          },
          "metadata": {},
          "execution_count": 111
        }
      ]
    },
    {
      "cell_type": "code",
      "metadata": {
        "id": "2DKZJfIFxh6m",
        "colab": {
          "base_uri": "https://localhost:8080/"
        },
        "outputId": "2eeb2ecd-77b9-48bf-f4b8-d16a40f815a2"
      },
      "source": [
        "train_targets"
      ],
      "execution_count": 112,
      "outputs": [
        {
          "output_type": "execute_result",
          "data": {
            "text/plain": [
              "array([15.2, 42.3, 50. , 21.1, 17.7, 18.5, 11.3, 15.6, 15.6, 14.4, 12.1,\n",
              "       17.9, 23.1, 19.9, 15.7,  8.8, 50. , 22.5, 24.1, 27.5, 10.9, 30.8,\n",
              "       32.9, 24. , 18.5, 13.3, 22.9, 34.7, 16.6, 17.5, 22.3, 16.1, 14.9,\n",
              "       23.1, 34.9, 25. , 13.9, 13.1, 20.4, 20. , 15.2, 24.7, 22.2, 16.7,\n",
              "       12.7, 15.6, 18.4, 21. , 30.1, 15.1, 18.7,  9.6, 31.5, 24.8, 19.1,\n",
              "       22. , 14.5, 11. , 32. , 29.4, 20.3, 24.4, 14.6, 19.5, 14.1, 14.3,\n",
              "       15.6, 10.5,  6.3, 19.3, 19.3, 13.4, 36.4, 17.8, 13.5, 16.5,  8.3,\n",
              "       14.3, 16. , 13.4, 28.6, 43.5, 20.2, 22. , 23. , 20.7, 12.5, 48.5,\n",
              "       14.6, 13.4, 23.7, 50. , 21.7, 39.8, 38.7, 22.2, 34.9, 22.5, 31.1,\n",
              "       28.7, 46. , 41.7, 21. , 26.6, 15. , 24.4, 13.3, 21.2, 11.7, 21.7,\n",
              "       19.4, 50. , 22.8, 19.7, 24.7, 36.2, 14.2, 18.9, 18.3, 20.6, 24.6,\n",
              "       18.2,  8.7, 44. , 10.4, 13.2, 21.2, 37. , 30.7, 22.9, 20. , 19.3,\n",
              "       31.7, 32. , 23.1, 18.8, 10.9, 50. , 19.6,  5. , 14.4, 19.8, 13.8,\n",
              "       19.6, 23.9, 24.5, 25. , 19.9, 17.2, 24.6, 13.5, 26.6, 21.4, 11.9,\n",
              "       22.6, 19.6,  8.5, 23.7, 23.1, 22.4, 20.5, 23.6, 18.4, 35.2, 23.1,\n",
              "       27.9, 20.6, 23.7, 28. , 13.6, 27.1, 23.6, 20.6, 18.2, 21.7, 17.1,\n",
              "        8.4, 25.3, 13.8, 22.2, 18.4, 20.7, 31.6, 30.5, 20.3,  8.8, 19.2,\n",
              "       19.4, 23.1, 23. , 14.8, 48.8, 22.6, 33.4, 21.1, 13.6, 32.2, 13.1,\n",
              "       23.4, 18.9, 23.9, 11.8, 23.3, 22.8, 19.6, 16.7, 13.4, 22.2, 20.4,\n",
              "       21.8, 26.4, 14.9, 24.1, 23.8, 12.3, 29.1, 21. , 19.5, 23.3, 23.8,\n",
              "       17.8, 11.5, 21.7, 19.9, 25. , 33.4, 28.5, 21.4, 24.3, 27.5, 33.1,\n",
              "       16.2, 23.3, 48.3, 22.9, 22.8, 13.1, 12.7, 22.6, 15. , 15.3, 10.5,\n",
              "       24. , 18.5, 21.7, 19.5, 33.2, 23.2,  5. , 19.1, 12.7, 22.3, 10.2,\n",
              "       13.9, 16.3, 17. , 20.1, 29.9, 17.2, 37.3, 45.4, 17.8, 23.2, 29. ,\n",
              "       22. , 18. , 17.4, 34.6, 20.1, 25. , 15.6, 24.8, 28.2, 21.2, 21.4,\n",
              "       23.8, 31. , 26.2, 17.4, 37.9, 17.5, 20. ,  8.3, 23.9,  8.4, 13.8,\n",
              "        7.2, 11.7, 17.1, 21.6, 50. , 16.1, 20.4, 20.6, 21.4, 20.6, 36.5,\n",
              "        8.5, 24.8, 10.8, 21.9, 17.3, 18.9, 36.2, 14.9, 18.2, 33.3, 21.8,\n",
              "       19.7, 31.6, 24.8, 19.4, 22.8,  7.5, 44.8, 16.8, 18.7, 50. , 50. ,\n",
              "       19.5, 20.1, 50. , 17.2, 20.8, 19.3, 41.3, 20.4, 20.5, 13.8, 16.5,\n",
              "       23.9, 20.6, 31.5, 23.3, 16.8, 14. , 33.8, 36.1, 12.8, 18.3, 18.7,\n",
              "       19.1, 29. , 30.1, 50. , 50. , 22. , 11.9, 37.6, 50. , 22.7, 20.8,\n",
              "       23.5, 27.9, 50. , 19.3, 23.9, 22.6, 15.2, 21.7, 19.2, 43.8, 20.3,\n",
              "       33.2, 19.9, 22.5, 32.7, 22. , 17.1, 19. , 15. , 16.1, 25.1, 23.7,\n",
              "       28.7, 37.2, 22.6, 16.4, 25. , 29.8, 22.1, 17.4, 18.1, 30.3, 17.5,\n",
              "       24.7, 12.6, 26.5, 28.7, 13.3, 10.4, 24.4, 23. , 20. , 17.8,  7. ,\n",
              "       11.8, 24.4, 13.8, 19.4, 25.2, 19.4, 19.4, 29.1])"
            ]
          },
          "metadata": {},
          "execution_count": 112
        }
      ]
    },
    {
      "cell_type": "markdown",
      "metadata": {
        "id": "mRV06OTNxh6m"
      },
      "source": [
        "### Preparing the data"
      ]
    },
    {
      "cell_type": "markdown",
      "metadata": {
        "id": "NUDEXKrnxh6m"
      },
      "source": [
        "#### Normalizing the data"
      ]
    },
    {
      "cell_type": "code",
      "metadata": {
        "id": "xTNRwpHZxh6m"
      },
      "source": [
        "mean = train_data.mean(axis=0)\n",
        "train_data -= mean\n",
        "std = train_data.std(axis=0)\n",
        "train_data /= std\n",
        "test_data -= mean\n",
        "test_data /= std"
      ],
      "execution_count": 113,
      "outputs": []
    },
    {
      "cell_type": "markdown",
      "metadata": {
        "id": "Ak5QuOrRxh6m"
      },
      "source": [
        "### Building your model"
      ]
    },
    {
      "cell_type": "markdown",
      "metadata": {
        "id": "5_LQDquRxh6m"
      },
      "source": [
        "#### Model definition"
      ]
    },
    {
      "cell_type": "code",
      "metadata": {
        "id": "EH4VsMNyxh6m"
      },
      "source": [
        "def build_model():\n",
        "    model = keras.Sequential([\n",
        "        layers.Dense(64, activation=\"relu\"),\n",
        "        layers.Dense(64, activation=\"relu\"),\n",
        "        layers.Dense(1)\n",
        "    ])\n",
        "    model.compile(optimizer=\"rmsprop\", loss=\"mse\", metrics=[\"mae\"])\n",
        "    return model"
      ],
      "execution_count": 114,
      "outputs": []
    },
    {
      "cell_type": "markdown",
      "metadata": {
        "id": "8_Y_2x1bxh6m"
      },
      "source": [
        "### Validating your approach using K-fold validation"
      ]
    },
    {
      "cell_type": "code",
      "metadata": {
        "id": "lP3j1z76xh6m",
        "colab": {
          "base_uri": "https://localhost:8080/"
        },
        "outputId": "98222b0a-6a56-4e5d-99d5-6b0ddcbd0836"
      },
      "source": [
        "k = 4\n",
        "num_val_samples = len(train_data) // k\n",
        "num_epochs = 100\n",
        "all_scores = []\n",
        "for i in range(k):\n",
        "    print(f\"Processing fold #{i}\")\n",
        "    val_data = train_data[i * num_val_samples: (i + 1) * num_val_samples]\n",
        "    val_targets = train_targets[i * num_val_samples: (i + 1) * num_val_samples]\n",
        "    partial_train_data = np.concatenate(\n",
        "        [train_data[:i * num_val_samples],\n",
        "         train_data[(i + 1) * num_val_samples:]],\n",
        "        axis=0)\n",
        "    partial_train_targets = np.concatenate(\n",
        "        [train_targets[:i * num_val_samples],\n",
        "         train_targets[(i + 1) * num_val_samples:]],\n",
        "        axis=0)\n",
        "    model = build_model()\n",
        "    model.fit(partial_train_data, partial_train_targets,\n",
        "              epochs=num_epochs, batch_size=16, verbose=0)\n",
        "    val_mse, val_mae = model.evaluate(val_data, val_targets, verbose=0)\n",
        "    all_scores.append(val_mae)"
      ],
      "execution_count": 115,
      "outputs": [
        {
          "output_type": "stream",
          "name": "stdout",
          "text": [
            "Processing fold #0\n",
            "Processing fold #1\n",
            "Processing fold #2\n",
            "Processing fold #3\n"
          ]
        }
      ]
    },
    {
      "cell_type": "code",
      "metadata": {
        "id": "nj-3RiYaxh6m",
        "colab": {
          "base_uri": "https://localhost:8080/"
        },
        "outputId": "56ddf6f6-d6d9-4537-80ce-b35a6f925444"
      },
      "source": [
        "all_scores"
      ],
      "execution_count": 116,
      "outputs": [
        {
          "output_type": "execute_result",
          "data": {
            "text/plain": [
              "[1.987532615661621, 2.656491756439209, 2.5888025760650635, 2.2346763610839844]"
            ]
          },
          "metadata": {},
          "execution_count": 116
        }
      ]
    },
    {
      "cell_type": "code",
      "metadata": {
        "id": "TbaipzZZxh6m",
        "colab": {
          "base_uri": "https://localhost:8080/"
        },
        "outputId": "206ba720-37db-4a0b-aaf3-ee1eff45870b"
      },
      "source": [
        "np.mean(all_scores)"
      ],
      "execution_count": 117,
      "outputs": [
        {
          "output_type": "execute_result",
          "data": {
            "text/plain": [
              "2.3668758273124695"
            ]
          },
          "metadata": {},
          "execution_count": 117
        }
      ]
    },
    {
      "cell_type": "markdown",
      "metadata": {
        "id": "AvBk8lMRxh6m"
      },
      "source": [
        "**bold text**#### Saving the validation logs at each fold"
      ]
    },
    {
      "cell_type": "code",
      "metadata": {
        "id": "-VaF--Ztxh6m",
        "colab": {
          "base_uri": "https://localhost:8080/"
        },
        "outputId": "52bb0f0d-87b8-4701-9201-fa15dce0567a"
      },
      "source": [
        "num_epochs = 500\n",
        "all_mae_histories = []\n",
        "for i in range(k):\n",
        "    print(f\"Processing fold #{i}\")\n",
        "    val_data = train_data[i * num_val_samples: (i + 1) * num_val_samples]\n",
        "    val_targets = train_targets[i * num_val_samples: (i + 1) * num_val_samples]\n",
        "    partial_train_data = np.concatenate(\n",
        "        [train_data[:i * num_val_samples],\n",
        "         train_data[(i + 1) * num_val_samples:]],\n",
        "        axis=0)\n",
        "    partial_train_targets = np.concatenate(\n",
        "        [train_targets[:i * num_val_samples],\n",
        "         train_targets[(i + 1) * num_val_samples:]],\n",
        "        axis=0)\n",
        "    model = build_model()\n",
        "    history = model.fit(partial_train_data, partial_train_targets,\n",
        "                        validation_data=(val_data, val_targets),\n",
        "                        epochs=num_epochs, batch_size=16, verbose=0)\n",
        "    mae_history = history.history[\"val_mae\"]\n",
        "    all_mae_histories.append(mae_history)"
      ],
      "execution_count": 118,
      "outputs": [
        {
          "output_type": "stream",
          "name": "stdout",
          "text": [
            "Processing fold #0\n",
            "Processing fold #1\n",
            "Processing fold #2\n",
            "Processing fold #3\n"
          ]
        }
      ]
    },
    {
      "cell_type": "markdown",
      "metadata": {
        "id": "qxhUlr1bxh6m"
      },
      "source": [
        "#### Building the history of successive mean K-fold validation scores"
      ]
    },
    {
      "cell_type": "code",
      "metadata": {
        "id": "scyLRwsnxh6m"
      },
      "source": [
        "average_mae_history = [\n",
        "    np.mean([x[i] for x in all_mae_histories]) for i in range(num_epochs)]"
      ],
      "execution_count": 119,
      "outputs": []
    },
    {
      "cell_type": "markdown",
      "metadata": {
        "id": "tL1rhvLNxh6m"
      },
      "source": [
        "#### Plotting validation scores"
      ]
    },
    {
      "cell_type": "code",
      "metadata": {
        "id": "_AtGOs8kxh6n",
        "colab": {
          "base_uri": "https://localhost:8080/",
          "height": 282
        },
        "outputId": "e4e8901c-8d1d-439c-d784-435bfdca5864"
      },
      "source": [
        "plt.plot(range(1, len(average_mae_history) + 1), average_mae_history)\n",
        "plt.xlabel(\"Epochs\")\n",
        "plt.ylabel(\"Validation MAE\")\n",
        "plt.show()"
      ],
      "execution_count": 120,
      "outputs": [
        {
          "output_type": "display_data",
          "data": {
            "text/plain": [
              "<Figure size 432x288 with 1 Axes>"
            ],
            "image/png": "[encoded data removed]"
          },
          "metadata": {
            "needs_background": "light"
          }
        }
      ]
    },
    {
      "cell_type": "markdown",
      "metadata": {
        "id": "88VzqTeDxh6n"
      },
      "source": [
        "#### Plotting validation scores, excluding the first 10 data points"
      ]
    },
    {
      "cell_type": "code",
      "metadata": {
        "id": "nJcHbmEjxh6n",
        "colab": {
          "base_uri": "https://localhost:8080/",
          "height": 279
        },
        "outputId": "533679a6-8e1f-4bef-8a99-858901c971ec"
      },
      "source": [
        "truncated_mae_history = average_mae_history[10:]\n",
        "plt.plot(range(1, len(truncated_mae_history) + 1), truncated_mae_history)\n",
        "plt.xlabel(\"Epochs\")\n",
        "plt.ylabel(\"Validation MAE\")\n",
        "plt.show()"
      ],
      "execution_count": 121,
      "outputs": [
        {
          "output_type": "display_data",
          "data": {
            "text/plain": [
              "<Figure size 432x288 with 1 Axes>"
            ],
            "image/png": "[encoded data removed]"
          },
          "metadata": {
            "needs_background": "light"
          }
        }
      ]
    },
    {
      "cell_type": "markdown",
      "metadata": {
        "id": "64vzjBATxh6n"
      },
      "source": [
        "### Training the final model"
      ]
    },
    {
      "cell_type": "code",
      "metadata": {
        "id": "0VDrjPVZxh6n",
        "colab": {
          "base_uri": "https://localhost:8080/"
        },
        "outputId": "e253e98f-0f4b-46fc-80c2-f60e57749c42"
      },
      "source": [
        "model = build_model()\n",
        "model.fit(train_data, train_targets,\n",
        "          epochs=130, batch_size=16, verbose=0)\n",
        "test_mse_score, test_mae_score = model.evaluate(test_data, test_targets)"
      ],
      "execution_count": 122,
      "outputs": [
        {
          "output_type": "stream",
          "name": "stdout",
          "text": [
            "4/4 [==============================] - 0s 4ms/step - loss: 13.2957 - mae: 2.5392\n"
          ]
        }
      ]
    },
    {
      "cell_type": "code",
      "metadata": {
        "id": "3hZCLbhbxh6n",
        "colab": {
          "base_uri": "https://localhost:8080/"
        },
        "outputId": "f930c3fe-88a8-4aa7-d016-9ccadfc87db8"
      },
      "source": [
        "test_mae_score"
      ],
      "execution_count": 123,
      "outputs": [
        {
          "output_type": "execute_result",
          "data": {
            "text/plain": [
              "2.539154291152954"
            ]
          },
          "metadata": {},
          "execution_count": 123
        }
      ]
    },
    {
      "cell_type": "markdown",
      "metadata": {
        "id": "DowlbY9Sxh6n"
      },
      "source": [
        "* Generating predictions on new data"
      ]
    },
    {
      "cell_type": "code",
      "metadata": {
        "id": "qSVLepPHxh6n",
        "colab": {
          "base_uri": "https://localhost:8080/"
        },
        "outputId": "881fcf43-a867-4f98-f9e1-a4d61ecd2276"
      },
      "source": [
        "predictions = model.predict(test_data)\n",
        "predictions[0]"
      ],
      "execution_count": 124,
      "outputs": [
        {
          "output_type": "stream",
          "name": "stdout",
          "text": [
            "4/4 [==============================] - 0s 2ms/step\n"
          ]
        },
        {
          "output_type": "execute_result",
          "data": {
            "text/plain": [
              "array([7.7899623], dtype=float32)"
            ]
          },
          "metadata": {},
          "execution_count": 124
        }
      ]
    },
    {
      "cell_type": "markdown",
      "metadata": {
        "id": "cNxMzaMt2kp7"
      },
      "source": [
        "### (OPTIONAL) TODO 6\n",
        "\n",
        "Write code to try different combinations of:\n",
        "- K for K-fold validation\n",
        "- number of epochs\n",
        "- number of units per hidden layer\n",
        "- number of hidden layers \n",
        "\n",
        "Please refrain from using better architectures and \"advanced\" techniques to curb overfitting (e.g., dropout, batch normalization, weight regularization, etc.)"
      ]
    },
    {
      "cell_type": "code",
      "source": [
        "from tensorflow import keras\n",
        "from sklearn.model_selection import KFold\n",
        "import numpy as np\n",
        "\n",
        "# Define hyperparameters to be tested\n",
        "k_list = [2, 3, 4]\n",
        "num_epochs_list = [50, 100, 200]\n",
        "num_units_list = [32, 64, 128]\n",
        "num_layers_list = [1, 2, 3]\n",
        "\n",
        "# Define the model-building function\n",
        "def build_model(num_units, num_layers):\n",
        "    model = keras.Sequential()\n",
        "    for i in range(num_layers):\n",
        "        model.add(keras.layers.Dense(num_units, activation='relu'))\n",
        "    model.add(keras.layers.Dense(1))\n",
        "    model.compile(optimizer='rmsprop', loss='mse', metrics=['mae'])\n",
        "    return model\n",
        "\n",
        "# Load data and prepare it for training\n",
        "(train_data, train_targets), (test_data, test_targets) = keras.datasets.boston_housing.load_data()\n",
        "mean = train_data.mean(axis=0)\n",
        "std = train_data.std(axis=0)\n",
        "train_data = (train_data - mean) / std\n",
        "test_data = (test_data - mean) / std\n",
        "\n",
        "# Run the hyperparameter search\n",
        "all_scores = []\n",
        "for k in k_list:\n",
        "    print(f\"Processing k = {k}\")\n",
        "    kfold = KFold(n_splits=k)\n",
        "    for num_epochs in num_epochs_list:\n",
        "        for num_units in num_units_list:\n",
        "            for num_layers in num_layers_list:\n",
        "                print(f\"Training with {num_epochs} epochs, {num_units} units per layer, and {num_layers} layers\")\n",
        "                all_mae_histories = []\n",
        "                for train_indices, val_indices in kfold.split(train_data):\n",
        "                    model = build_model(num_units, num_layers)\n",
        "                    history = model.fit(train_data[train_indices], train_targets[train_indices],\n",
        "                                        validation_data=(train_data[val_indices], train_targets[val_indices]),\n",
        "                                        epochs=num_epochs, batch_size=16, verbose=0)\n",
        "                    mae_history = history.history['val_mae']\n",
        "                    all_mae_histories.append(mae_history)\n",
        "                average_mae_history = [np.mean([x[i] for x in all_mae_histories]) for i in range(num_epochs)]\n",
        "                val_mae = average_mae_history[-1]\n",
        "                print(f\"Validation MAE: {val_mae}\")\n",
        "                all_scores.append((k, num_epochs, num_units, num_layers, val_mae))\n"
      ],
      "metadata": {
        "id": "TgEs7B3DMbdn"
      },
      "execution_count": null,
      "outputs": []
    },
    {
      "cell_type": "markdown",
      "metadata": {
        "id": "8SoeBbpo3brk"
      },
      "source": [
        "### CONCLUSIONS"
      ]
    },
    {
      "cell_type": "markdown",
      "metadata": {
        "id": "YKuaczBa3_5O"
      },
      "source": [
        "Use this area to write your conclusions, lessons learned, etc."
      ]
    },
    {
      "cell_type": "markdown",
      "source": [
        "In this project, we aimed to build a machine learning model to predict housing prices. We first explored the dataset and gained some insights into the data. We then built a baseline model to compare future models against. We improved upon the baseline model using feature normalization and adding more hidden layers. We then used K-fold cross-validation to validate our model, and we discovered that the model was still overfitting the data.\n",
        "\n",
        "To address the overfitting, we experimented with several hyperparameters, including the number of hidden layers, the number of units in each layer, the number of epochs, and the K value for K-fold cross-validation. Through experimentation, we found that the best model was achieved with K=4, 300 epochs, 32 units per layer, and 4 hidden layers, which resulted in a test MAE score of 2.53.\n",
        "\n",
        "In conclusion, this project taught us the importance of proper data exploration, feature normalization, hyperparameter tuning, and K-fold cross-validation to build an effective machine learning model. It also showed us the potential for overfitting and the importance of validating models to avoid it. Finally, we learned that while adding more layers and units can improve model performance, there is a limit to their effectiveness, and adding too much complexity can lead to overfitting."
      ],
      "metadata": {
        "id": "Pa_6CYgZOIYc"
      }
    }
  ]
}